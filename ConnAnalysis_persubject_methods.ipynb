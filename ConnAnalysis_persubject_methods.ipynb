{
 "cells": [
  {
   "cell_type": "markdown",
   "metadata": {},
   "source": [
    "Here we will build a connectivity analysis pipeline for the KPE study. \n",
    "Methods should be easily generalized for others studies. \n"
   ]
  },
  {
   "cell_type": "code",
   "execution_count": 2,
   "metadata": {},
   "outputs": [
    {
     "name": "stderr",
     "output_type": "stream",
     "text": [
      "/gpfs/ysm/project/oad4/conda_envs/py37_dev/lib/python3.6/site-packages/numpy/lib/npyio.py:2322: VisibleDeprecationWarning: Reading unicode strings without specifying the encoding argument is deprecated. Set the encoding, use None for the system default.\n",
      "  output = genfromtxt(fname, **kwargs)\n"
     ]
    }
   ],
   "source": [
    "## Use this box if you want MDSL\n",
    "# using MSDL atlas - Can choose different atlas or different nodes (using ICA or something else)\n",
    "from nilearn import datasets\n",
    "atlas = datasets.fetch_atlas_msdl()\n",
    "\n",
    "# Loading atlas image stored in 'maps'\n",
    "atlas_filename = atlas['maps']\n",
    "# Loading atlas data stored in 'labels'\n",
    "#labels_img=yeo['thick_17']\n",
    "labels =  atlas['labels']\n",
    "coords = atlas.region_coords# grab center coordinates for atlas labels\n",
    "#coords = plotting.find_parcellation_cut_coords(labels_img=labels)\n",
    "#atlas.region_coords\n",
    "\n",
    "# optional set of different atlas\n",
    "#atlas_yeo_2011 = \n",
    "#atlas_yeo = atlas_yeo_2011.thick_7"
   ]
  },
  {
   "cell_type": "code",
   "execution_count": null,
   "metadata": {},
   "outputs": [],
   "source": [
    "labels"
   ]
  },
  {
   "cell_type": "code",
   "execution_count": null,
   "metadata": {},
   "outputs": [],
   "source": [
    "# Run either this or MSDL - not both boxes\n",
    "# try to use Shen atlas\n",
    "import pandas as pd\n",
    "\n",
    "atlas_filename = '/home/oad4/nilearn_data/shenParcellation/shen_2mm_268_parcellation.nii.gz'\n",
    "atlas_labes = pd.read_csv('/home/oad4/nilearn_data/shenParcellation/shen_268_parcellation_networklabels.csv')\n",
    "coords = plotting.find_parcellation_cut_coords(labels_img=atlas_filename)\n",
    "\n",
    "atlas_labes = np.array(atlas_labes)\n",
    "atlas_labes"
   ]
  },
  {
   "cell_type": "code",
   "execution_count": 3,
   "metadata": {},
   "outputs": [],
   "source": [
    "import os\n",
    "import numpy as np"
   ]
  },
  {
   "cell_type": "code",
   "execution_count": 4,
   "metadata": {},
   "outputs": [],
   "source": [
    "# methods\n",
    "def removeVars (confoundFile):\n",
    "    # this method takes the csv regressors file (from fmriPrep) and chooses a few to confound. You can change those few\n",
    "    import pandas as pd\n",
    "    confound = pd.read_csv(confoundFile,sep=\"\\t\", na_values=\"n/a\")\n",
    "    finalConf = confound[['csf', 'white_matter', 'framewise_displacement',\n",
    "                          'a_comp_cor_00', 'a_comp_cor_01',\t'a_comp_cor_02', 'a_comp_cor_03', 'a_comp_cor_04', \n",
    "                        'a_comp_cor_05', 'trans_x', 'trans_y', 'trans_z', 'rot_x', 'rot_y', 'rot_z']] # can add 'global_signal' also\n",
    "     # change NaN of FD to zero\n",
    "    finalConf = np.array(finalConf)\n",
    "    finalConf[0,2] = 0\n",
    "    return finalConf"
   ]
  },
  {
   "cell_type": "code",
   "execution_count": 12,
   "metadata": {},
   "outputs": [],
   "source": [
    "# build method for creating time series for subjects\n",
    "def timeSeries(func_files, confound_files):\n",
    "    total_subjects = [] # creating an empty array that will hold all subjects matrix \n",
    "    # This function needs a masker object that will be defined outside the function\n",
    "    for func_file, confound_file in zip(func_files, confound_files):\n",
    "        print(f\"proccessing file {func_file}\") # print file name\n",
    "        confoundClean = removeVars(confound_file)\n",
    "        confoundArray = confoundClean#confoundClean.values\n",
    "        time_series = masker.fit_transform(func_file, confounds=confoundArray)\n",
    "        #time_series = extractor.fit_transform(func_file, confounds=confoundArray)\n",
    "        #masker.fit_transform(func_file, confoundArray)\n",
    "        total_subjects.append(time_series)\n",
    "    return total_subjects\n",
    "\n",
    "# contrasting two timePoints\n",
    "def contFuncs(time_series1, time_series2):\n",
    "    twoMinusOneMat = []\n",
    "    for scanMatrix, scanMatrix2 in zip(time_series1, time_series2):\n",
    "        a = scanMatrix2 - scanMatrix\n",
    "        twoMinusOneMat.append(a)\n",
    "    return np.array(twoMinusOneMat)\n",
    "\n",
    "import numpy as np\n",
    "from nilearn import plotting\n",
    "\n",
    "# create correlation matrix per subject\n",
    "def createCorMat(time_series):\n",
    "    # create correlation matrix for each subject\n",
    "    fullMatrix = []\n",
    "    for time_s in time_series:\n",
    "        correlation_matrix = correlation_measure.fit_transform([time_s])[0]\n",
    "        fullMatrix.append(correlation_matrix)\n",
    "    return fullMatrix\n",
    "\n",
    "# create connecotme graph per subject\n",
    "def connectome_graph (fullMatrix):\n",
    "    # here it is set to threshold 1%\n",
    "    for matrix in fullMatrix:\n",
    "        plotting.plot_connectome(matrix, coords,\n",
    "                             edge_threshold=\"99%\", colorbar=True)\n",
    "        plotting.show()"
   ]
  },
  {
   "cell_type": "code",
   "execution_count": 6,
   "metadata": {},
   "outputs": [],
   "source": [
    "# Here you set the specific methods for masking and correlation. Please see Nilearn website for more info.\n",
    "\n",
    "from nilearn.input_data import NiftiMapsMasker\n",
    "from nilearn.input_data import NiftiLabelsMasker\n",
    "# in this mask we standardize the values, so mean is 0 and between -1 to 1\n",
    "masker = NiftiMapsMasker(maps_img=atlas_filename, standardize=True, smoothing_fwhm = 6,\n",
    "                         memory=\"/home/oad4/scratch60/nilearn\",high_pass=.01 , low_pass = .1, t_r=1, verbose=5)\n",
    "\n",
    "# use different masker when using Yeo atlas. \n",
    "#masker = NiftiLabelsMasker(labels_img=atlas_filename, standardize=True,smoothing_fwhm = 6,\n",
    " #                        memory=\"/home/oad4/scratch60/nilearn\",high_pass=.01 , low_pass = .1, t_r=1, verbose=5)\n",
    "                           \n",
    "from nilearn.connectome import ConnectivityMeasure\n",
    "correlation_measure = ConnectivityMeasure(kind='partial correlation') # can choose partial - it might be better\n"
   ]
  },
  {
   "cell_type": "code",
   "execution_count": 7,
   "metadata": {},
   "outputs": [],
   "source": [
    "# now we call subjcets\n",
    "# and start the real analysis\n",
    "subList =  ['008','1293','1307','1322','1339','1343','1387','1223']\n",
    "midSubList = ['1253','1263','1351','1364','1369','1390','1403']\n",
    "\n",
    "# these two functions take subject list and session number (in string) and return func file list and confound file list\n",
    "def fileList(subjects, session):\n",
    "    func_files = ['/home/oad4/scratch60/kpeOutput/fmriprep/sub-%s/ses-%s/func/sub-%s_ses-%s_task-rest_space-MNI152NLin2009cAsym_desc-preproc_bold.nii.gz' % (sub,session,sub,session) for sub in subjects]\n",
    "    return func_files\n",
    "\n",
    "def confList(subjects, session):\n",
    "    confound_files = ['/home/oad4/scratch60/kpeOutput/fmriprep/sub-%s/ses-%s/func/sub-%s_ses-%s_task-rest_desc-confounds_regressors.tsv' % (sub,session,sub,session) for sub in subjects]\n",
    "    return confound_files\n"
   ]
  },
  {
   "cell_type": "code",
   "execution_count": 9,
   "metadata": {},
   "outputs": [
    {
     "name": "stderr",
     "output_type": "stream",
     "text": [
      "/gpfs/ysm/project/oad4/conda_envs/py37_dev/lib/python3.6/importlib/_bootstrap.py:219: RuntimeWarning: numpy.ufunc size changed, may indicate binary incompatibility. Expected 192 from C header, got 216 from PyObject\n",
      "  return f(*args, **kwds)\n"
     ]
    },
    {
     "name": "stdout",
     "output_type": "stream",
     "text": [
      "[NiftiMapsMasker.fit_transform] loading regions from /home/oad4/nilearn_data/msdl_atlas/MSDL_rois/msdl_rois.nii\n",
      "Resampling maps\n",
      "[Memory]0.1s, 0.0min    : Loading resample_img...\n"
     ]
    },
    {
     "name": "stderr",
     "output_type": "stream",
     "text": [
      "/gpfs/ysm/project/oad4/conda_envs/py37_dev/lib/python3.6/site-packages/nilearn/_utils/cache_mixin.py:84: DeprecationWarning: The 'cachedir' parameter has been deprecated in version 0.12 and will be removed in version 0.14.\n",
      "You provided \"cachedir='/home/oad4/scratch60/nilearn'\", use \"location='/home/oad4/scratch60/nilearn'\" instead.\n",
      "  memory = Memory(cachedir=cache_dir, verbose=verbose)\n",
      "/gpfs/ysm/project/oad4/conda_envs/py37_dev/lib/python3.6/site-packages/nilearn/_utils/cache_mixin.py:301: DeprecationWarning: The 'cachedir' attribute has been deprecated in version 0.12 and will be removed in version 0.14.\n",
      "Use os.path.join(memory.location, 'joblib') attribute instead.\n",
      "  if self.memory_level == 0 and self.memory.cachedir is not None:\n",
      "/gpfs/ysm/project/oad4/conda_envs/py37_dev/lib/python3.6/site-packages/nilearn/_utils/cache_mixin.py:302: UserWarning: memory_level is currently set to 0 but a Memory object has been provided. Setting memory_level to 1.\n",
      "  warnings.warn(\"memory_level is currently set to 0 but \"\n"
     ]
    },
    {
     "name": "stdout",
     "output_type": "stream",
     "text": [
      "________________________________________resample_img cache loaded - 0.5s, 0.0min\n",
      "[Memory]1.2s, 0.0min    : Loading filter_and_extract...\n",
      "__________________________________filter_and_extract cache loaded - 0.0s, 0.0min\n",
      "[NiftiMapsMasker.fit_transform] loading regions from /home/oad4/nilearn_data/msdl_atlas/MSDL_rois/msdl_rois.nii\n"
     ]
    },
    {
     "name": "stderr",
     "output_type": "stream",
     "text": [
      "/gpfs/ysm/project/oad4/conda_envs/py37_dev/lib/python3.6/site-packages/nilearn/_utils/cache_mixin.py:232: DeprecationWarning: The 'cachedir' attribute has been deprecated in version 0.12 and will be removed in version 0.14.\n",
      "Use os.path.join(memory.location, 'joblib') attribute instead.\n",
      "  if (memory.cachedir is None and memory_level is not None\n"
     ]
    },
    {
     "name": "stdout",
     "output_type": "stream",
     "text": [
      "[Memory]15.2s, 0.3min   : Loading filter_and_extract...\n",
      "__________________________________filter_and_extract cache loaded - 0.0s, 0.0min\n",
      "[NiftiMapsMasker.fit_transform] loading regions from /home/oad4/nilearn_data/msdl_atlas/MSDL_rois/msdl_rois.nii\n"
     ]
    },
    {
     "name": "stderr",
     "output_type": "stream",
     "text": [
      "/gpfs/ysm/project/oad4/conda_envs/py37_dev/lib/python3.6/site-packages/nilearn/_utils/cache_mixin.py:232: DeprecationWarning: The 'cachedir' attribute has been deprecated in version 0.12 and will be removed in version 0.14.\n",
      "Use os.path.join(memory.location, 'joblib') attribute instead.\n",
      "  if (memory.cachedir is None and memory_level is not None\n"
     ]
    },
    {
     "name": "stdout",
     "output_type": "stream",
     "text": [
      "________________________________________________________________________________\n",
      "[Memory] Calling nilearn.input_data.base_masker.filter_and_extract...\n",
      "filter_and_extract('/home/oad4/scratch60/kpeOutput/fmriprep/sub-1307/ses-1/func/sub-1307_ses-1_task-rest_space-MNI152NLin2009cAsym_desc-preproc_bold.nii.gz', \n",
      "<nilearn.input_data.nifti_maps_masker._ExtractionFunctor object at 0x2ae0eff30be0>, \n",
      "{ 'allow_overlap': True,\n",
      "  'detrend': False,\n",
      "  'dtype': None,\n",
      "  'high_pass': 0.01,\n",
      "  'low_pass': 0.1,\n",
      "  'maps_img': '/home/oad4/nilearn_data/msdl_atlas/MSDL_rois/msdl_rois.nii',\n",
      "  'mask_img': None,\n",
      "  'smoothing_fwhm': 6,\n",
      "  'standardize': True,\n",
      "  't_r': 1,\n",
      "  'target_affine': None,\n",
      "  'target_shape': None}, confounds=array([[4.930121e+03, ..., 0.000000e+00],\n",
      "       ...,\n",
      "       [4.805745e+03, ..., 3.336500e-04]]), dtype=None, memory=Memory(location=/home/oad4/scratch60/nilearn/joblib), memory_level=1, verbose=5)\n",
      "[NiftiMapsMasker.transform_single_imgs] Loading data from /home/oad4/scratch60/kpeOutput/fmriprep/sub-1307/ses-1/func/sub-1307_ses-1_task-rest_space-MNI152NLin2009cAsym_desc-preproc_bold.nii.gz\n",
      "[NiftiMapsMasker.transform_single_imgs] Smoothing images\n",
      "[NiftiMapsMasker.transform_single_imgs] Extracting region signals\n",
      "[NiftiMapsMasker.transform_single_imgs] Cleaning extracted signals\n"
     ]
    },
    {
     "name": "stderr",
     "output_type": "stream",
     "text": [
      "/gpfs/ysm/project/oad4/conda_envs/py37_dev/lib/python3.6/site-packages/nilearn/input_data/nifti_maps_masker.py:326: UserWarning: Persisting input arguments took 1.41s to run.\n",
      "If this happens often in your code, it can cause performance problems \n",
      "(results will be correct in all cases). \n",
      "The reason for this is probably some large input arguments for a wrapped\n",
      " function (e.g. large strings).\n",
      "THIS IS A JOBLIB ISSUE. If you can, kindly provide the joblib's team with an\n",
      " example so that they can fix the problem.\n",
      "  verbose=self.verbose)\n"
     ]
    },
    {
     "name": "stdout",
     "output_type": "stream",
     "text": [
      "_____________________________________________filter_and_extract - 100.1s, 1.7min\n",
      "[NiftiMapsMasker.fit_transform] loading regions from /home/oad4/nilearn_data/msdl_atlas/MSDL_rois/msdl_rois.nii\n"
     ]
    },
    {
     "name": "stderr",
     "output_type": "stream",
     "text": [
      "/gpfs/ysm/project/oad4/conda_envs/py37_dev/lib/python3.6/site-packages/nilearn/_utils/cache_mixin.py:232: DeprecationWarning: The 'cachedir' attribute has been deprecated in version 0.12 and will be removed in version 0.14.\n",
      "Use os.path.join(memory.location, 'joblib') attribute instead.\n",
      "  if (memory.cachedir is None and memory_level is not None\n"
     ]
    },
    {
     "name": "stdout",
     "output_type": "stream",
     "text": [
      "[Memory]145.3s, 2.4min  : Loading filter_and_extract...\n",
      "__________________________________filter_and_extract cache loaded - 0.0s, 0.0min\n",
      "[NiftiMapsMasker.fit_transform] loading regions from /home/oad4/nilearn_data/msdl_atlas/MSDL_rois/msdl_rois.nii\n"
     ]
    },
    {
     "name": "stderr",
     "output_type": "stream",
     "text": [
      "/gpfs/ysm/project/oad4/conda_envs/py37_dev/lib/python3.6/site-packages/nilearn/_utils/cache_mixin.py:232: DeprecationWarning: The 'cachedir' attribute has been deprecated in version 0.12 and will be removed in version 0.14.\n",
      "Use os.path.join(memory.location, 'joblib') attribute instead.\n",
      "  if (memory.cachedir is None and memory_level is not None\n"
     ]
    },
    {
     "name": "stdout",
     "output_type": "stream",
     "text": [
      "[Memory]159.3s, 2.7min  : Loading filter_and_extract...\n",
      "__________________________________filter_and_extract cache loaded - 0.0s, 0.0min\n",
      "[NiftiMapsMasker.fit_transform] loading regions from /home/oad4/nilearn_data/msdl_atlas/MSDL_rois/msdl_rois.nii\n"
     ]
    },
    {
     "name": "stderr",
     "output_type": "stream",
     "text": [
      "/gpfs/ysm/project/oad4/conda_envs/py37_dev/lib/python3.6/site-packages/nilearn/_utils/cache_mixin.py:232: DeprecationWarning: The 'cachedir' attribute has been deprecated in version 0.12 and will be removed in version 0.14.\n",
      "Use os.path.join(memory.location, 'joblib') attribute instead.\n",
      "  if (memory.cachedir is None and memory_level is not None\n"
     ]
    },
    {
     "name": "stdout",
     "output_type": "stream",
     "text": [
      "[Memory]173.5s, 2.9min  : Loading filter_and_extract...\n",
      "__________________________________filter_and_extract cache loaded - 0.0s, 0.0min\n",
      "[NiftiMapsMasker.fit_transform] loading regions from /home/oad4/nilearn_data/msdl_atlas/MSDL_rois/msdl_rois.nii\n"
     ]
    },
    {
     "name": "stderr",
     "output_type": "stream",
     "text": [
      "/gpfs/ysm/project/oad4/conda_envs/py37_dev/lib/python3.6/site-packages/nilearn/_utils/cache_mixin.py:232: DeprecationWarning: The 'cachedir' attribute has been deprecated in version 0.12 and will be removed in version 0.14.\n",
      "Use os.path.join(memory.location, 'joblib') attribute instead.\n",
      "  if (memory.cachedir is None and memory_level is not None\n"
     ]
    },
    {
     "name": "stdout",
     "output_type": "stream",
     "text": [
      "[Memory]187.7s, 3.1min  : Loading filter_and_extract...\n",
      "__________________________________filter_and_extract cache loaded - 0.0s, 0.0min\n",
      "[NiftiMapsMasker.fit_transform] loading regions from /home/oad4/nilearn_data/msdl_atlas/MSDL_rois/msdl_rois.nii\n"
     ]
    },
    {
     "name": "stderr",
     "output_type": "stream",
     "text": [
      "/gpfs/ysm/project/oad4/conda_envs/py37_dev/lib/python3.6/site-packages/nilearn/_utils/cache_mixin.py:232: DeprecationWarning: The 'cachedir' attribute has been deprecated in version 0.12 and will be removed in version 0.14.\n",
      "Use os.path.join(memory.location, 'joblib') attribute instead.\n",
      "  if (memory.cachedir is None and memory_level is not None\n"
     ]
    },
    {
     "name": "stdout",
     "output_type": "stream",
     "text": [
      "[Memory]201.7s, 3.4min  : Loading filter_and_extract...\n",
      "__________________________________filter_and_extract cache loaded - 0.0s, 0.0min\n"
     ]
    }
   ],
   "source": [
    "# now we call for the functions for each set.\n",
    "# for every time line we want to run time series and then contrast between the times\n",
    "ket1_series = timeSeries(func_files=fileList(subList,'1'), confound_files=confList(subList, '1'))"
   ]
  },
  {
   "cell_type": "code",
   "execution_count": 10,
   "metadata": {},
   "outputs": [
    {
     "name": "stdout",
     "output_type": "stream",
     "text": [
      "[NiftiMapsMasker.fit_transform] loading regions from /home/oad4/nilearn_data/msdl_atlas/MSDL_rois/msdl_rois.nii\n"
     ]
    },
    {
     "name": "stderr",
     "output_type": "stream",
     "text": [
      "/gpfs/ysm/project/oad4/conda_envs/py37_dev/lib/python3.6/site-packages/nilearn/_utils/cache_mixin.py:232: DeprecationWarning: The 'cachedir' attribute has been deprecated in version 0.12 and will be removed in version 0.14.\n",
      "Use os.path.join(memory.location, 'joblib') attribute instead.\n",
      "  if (memory.cachedir is None and memory_level is not None\n"
     ]
    },
    {
     "name": "stdout",
     "output_type": "stream",
     "text": [
      "[Memory]216.3s, 3.6min  : Loading filter_and_extract...\n",
      "__________________________________filter_and_extract cache loaded - 0.0s, 0.0min\n",
      "[NiftiMapsMasker.fit_transform] loading regions from /home/oad4/nilearn_data/msdl_atlas/MSDL_rois/msdl_rois.nii\n"
     ]
    },
    {
     "name": "stderr",
     "output_type": "stream",
     "text": [
      "/gpfs/ysm/project/oad4/conda_envs/py37_dev/lib/python3.6/site-packages/nilearn/_utils/cache_mixin.py:232: DeprecationWarning: The 'cachedir' attribute has been deprecated in version 0.12 and will be removed in version 0.14.\n",
      "Use os.path.join(memory.location, 'joblib') attribute instead.\n",
      "  if (memory.cachedir is None and memory_level is not None\n"
     ]
    },
    {
     "name": "stdout",
     "output_type": "stream",
     "text": [
      "[Memory]233.9s, 3.9min  : Loading filter_and_extract...\n",
      "__________________________________filter_and_extract cache loaded - 0.0s, 0.0min\n",
      "[NiftiMapsMasker.fit_transform] loading regions from /home/oad4/nilearn_data/msdl_atlas/MSDL_rois/msdl_rois.nii\n"
     ]
    },
    {
     "name": "stderr",
     "output_type": "stream",
     "text": [
      "/gpfs/ysm/project/oad4/conda_envs/py37_dev/lib/python3.6/site-packages/nilearn/_utils/cache_mixin.py:232: DeprecationWarning: The 'cachedir' attribute has been deprecated in version 0.12 and will be removed in version 0.14.\n",
      "Use os.path.join(memory.location, 'joblib') attribute instead.\n",
      "  if (memory.cachedir is None and memory_level is not None\n"
     ]
    },
    {
     "name": "stdout",
     "output_type": "stream",
     "text": [
      "[Memory]250.3s, 4.2min  : Loading filter_and_extract...\n",
      "__________________________________filter_and_extract cache loaded - 0.0s, 0.0min\n",
      "[NiftiMapsMasker.fit_transform] loading regions from /home/oad4/nilearn_data/msdl_atlas/MSDL_rois/msdl_rois.nii\n"
     ]
    },
    {
     "name": "stderr",
     "output_type": "stream",
     "text": [
      "/gpfs/ysm/project/oad4/conda_envs/py37_dev/lib/python3.6/site-packages/nilearn/_utils/cache_mixin.py:232: DeprecationWarning: The 'cachedir' attribute has been deprecated in version 0.12 and will be removed in version 0.14.\n",
      "Use os.path.join(memory.location, 'joblib') attribute instead.\n",
      "  if (memory.cachedir is None and memory_level is not None\n"
     ]
    },
    {
     "name": "stdout",
     "output_type": "stream",
     "text": [
      "[Memory]262.8s, 4.4min  : Loading filter_and_extract...\n",
      "__________________________________filter_and_extract cache loaded - 0.0s, 0.0min\n",
      "[NiftiMapsMasker.fit_transform] loading regions from /home/oad4/nilearn_data/msdl_atlas/MSDL_rois/msdl_rois.nii\n"
     ]
    },
    {
     "name": "stderr",
     "output_type": "stream",
     "text": [
      "/gpfs/ysm/project/oad4/conda_envs/py37_dev/lib/python3.6/site-packages/nilearn/_utils/cache_mixin.py:232: DeprecationWarning: The 'cachedir' attribute has been deprecated in version 0.12 and will be removed in version 0.14.\n",
      "Use os.path.join(memory.location, 'joblib') attribute instead.\n",
      "  if (memory.cachedir is None and memory_level is not None\n"
     ]
    },
    {
     "name": "stdout",
     "output_type": "stream",
     "text": [
      "[Memory]275.0s, 4.6min  : Loading filter_and_extract...\n",
      "__________________________________filter_and_extract cache loaded - 0.0s, 0.0min\n",
      "[NiftiMapsMasker.fit_transform] loading regions from /home/oad4/nilearn_data/msdl_atlas/MSDL_rois/msdl_rois.nii\n"
     ]
    },
    {
     "name": "stderr",
     "output_type": "stream",
     "text": [
      "/gpfs/ysm/project/oad4/conda_envs/py37_dev/lib/python3.6/site-packages/nilearn/_utils/cache_mixin.py:232: DeprecationWarning: The 'cachedir' attribute has been deprecated in version 0.12 and will be removed in version 0.14.\n",
      "Use os.path.join(memory.location, 'joblib') attribute instead.\n",
      "  if (memory.cachedir is None and memory_level is not None\n"
     ]
    },
    {
     "name": "stdout",
     "output_type": "stream",
     "text": [
      "[Memory]287.5s, 4.8min  : Loading filter_and_extract...\n",
      "__________________________________filter_and_extract cache loaded - 0.0s, 0.0min\n",
      "[NiftiMapsMasker.fit_transform] loading regions from /home/oad4/nilearn_data/msdl_atlas/MSDL_rois/msdl_rois.nii\n"
     ]
    },
    {
     "name": "stderr",
     "output_type": "stream",
     "text": [
      "/gpfs/ysm/project/oad4/conda_envs/py37_dev/lib/python3.6/site-packages/nilearn/_utils/cache_mixin.py:232: DeprecationWarning: The 'cachedir' attribute has been deprecated in version 0.12 and will be removed in version 0.14.\n",
      "Use os.path.join(memory.location, 'joblib') attribute instead.\n",
      "  if (memory.cachedir is None and memory_level is not None\n"
     ]
    },
    {
     "name": "stdout",
     "output_type": "stream",
     "text": [
      "[Memory]300.1s, 5.0min  : Loading filter_and_extract...\n",
      "__________________________________filter_and_extract cache loaded - 0.0s, 0.0min\n",
      "[NiftiMapsMasker.fit_transform] loading regions from /home/oad4/nilearn_data/msdl_atlas/MSDL_rois/msdl_rois.nii\n"
     ]
    },
    {
     "name": "stderr",
     "output_type": "stream",
     "text": [
      "/gpfs/ysm/project/oad4/conda_envs/py37_dev/lib/python3.6/site-packages/nilearn/_utils/cache_mixin.py:232: DeprecationWarning: The 'cachedir' attribute has been deprecated in version 0.12 and will be removed in version 0.14.\n",
      "Use os.path.join(memory.location, 'joblib') attribute instead.\n",
      "  if (memory.cachedir is None and memory_level is not None\n"
     ]
    },
    {
     "name": "stdout",
     "output_type": "stream",
     "text": [
      "[Memory]312.3s, 5.2min  : Loading filter_and_extract...\n",
      "__________________________________filter_and_extract cache loaded - 0.0s, 0.0min\n"
     ]
    }
   ],
   "source": [
    "ket2_series = timeSeries(func_files=fileList(subList,'2'), confound_files=confList(subList, '2'))"
   ]
  },
  {
   "cell_type": "code",
   "execution_count": 11,
   "metadata": {
    "scrolled": true
   },
   "outputs": [
    {
     "name": "stdout",
     "output_type": "stream",
     "text": [
      "[NiftiMapsMasker.fit_transform] loading regions from /home/oad4/nilearn_data/msdl_atlas/MSDL_rois/msdl_rois.nii\n"
     ]
    },
    {
     "name": "stderr",
     "output_type": "stream",
     "text": [
      "/gpfs/ysm/project/oad4/conda_envs/py37_dev/lib/python3.6/site-packages/nilearn/_utils/cache_mixin.py:232: DeprecationWarning: The 'cachedir' attribute has been deprecated in version 0.12 and will be removed in version 0.14.\n",
      "Use os.path.join(memory.location, 'joblib') attribute instead.\n",
      "  if (memory.cachedir is None and memory_level is not None\n"
     ]
    },
    {
     "name": "stdout",
     "output_type": "stream",
     "text": [
      "[Memory]325.1s, 5.4min  : Loading filter_and_extract...\n",
      "__________________________________filter_and_extract cache loaded - 0.0s, 0.0min\n",
      "[NiftiMapsMasker.fit_transform] loading regions from /home/oad4/nilearn_data/msdl_atlas/MSDL_rois/msdl_rois.nii\n"
     ]
    },
    {
     "name": "stderr",
     "output_type": "stream",
     "text": [
      "/gpfs/ysm/project/oad4/conda_envs/py37_dev/lib/python3.6/site-packages/nilearn/_utils/cache_mixin.py:232: DeprecationWarning: The 'cachedir' attribute has been deprecated in version 0.12 and will be removed in version 0.14.\n",
      "Use os.path.join(memory.location, 'joblib') attribute instead.\n",
      "  if (memory.cachedir is None and memory_level is not None\n"
     ]
    },
    {
     "name": "stdout",
     "output_type": "stream",
     "text": [
      "[Memory]337.4s, 5.6min  : Loading filter_and_extract...\n",
      "__________________________________filter_and_extract cache loaded - 0.0s, 0.0min\n",
      "[NiftiMapsMasker.fit_transform] loading regions from /home/oad4/nilearn_data/msdl_atlas/MSDL_rois/msdl_rois.nii\n"
     ]
    },
    {
     "name": "stderr",
     "output_type": "stream",
     "text": [
      "/gpfs/ysm/project/oad4/conda_envs/py37_dev/lib/python3.6/site-packages/nilearn/_utils/cache_mixin.py:232: DeprecationWarning: The 'cachedir' attribute has been deprecated in version 0.12 and will be removed in version 0.14.\n",
      "Use os.path.join(memory.location, 'joblib') attribute instead.\n",
      "  if (memory.cachedir is None and memory_level is not None\n"
     ]
    },
    {
     "name": "stdout",
     "output_type": "stream",
     "text": [
      "[Memory]350.3s, 5.8min  : Loading filter_and_extract...\n",
      "__________________________________filter_and_extract cache loaded - 0.0s, 0.0min\n",
      "[NiftiMapsMasker.fit_transform] loading regions from /home/oad4/nilearn_data/msdl_atlas/MSDL_rois/msdl_rois.nii\n"
     ]
    },
    {
     "name": "stderr",
     "output_type": "stream",
     "text": [
      "/gpfs/ysm/project/oad4/conda_envs/py37_dev/lib/python3.6/site-packages/nilearn/_utils/cache_mixin.py:232: DeprecationWarning: The 'cachedir' attribute has been deprecated in version 0.12 and will be removed in version 0.14.\n",
      "Use os.path.join(memory.location, 'joblib') attribute instead.\n",
      "  if (memory.cachedir is None and memory_level is not None\n"
     ]
    },
    {
     "name": "stdout",
     "output_type": "stream",
     "text": [
      "[Memory]361.8s, 6.0min  : Loading filter_and_extract...\n",
      "__________________________________filter_and_extract cache loaded - 0.0s, 0.0min\n",
      "[NiftiMapsMasker.fit_transform] loading regions from /home/oad4/nilearn_data/msdl_atlas/MSDL_rois/msdl_rois.nii\n"
     ]
    },
    {
     "name": "stderr",
     "output_type": "stream",
     "text": [
      "/gpfs/ysm/project/oad4/conda_envs/py37_dev/lib/python3.6/site-packages/nilearn/_utils/cache_mixin.py:232: DeprecationWarning: The 'cachedir' attribute has been deprecated in version 0.12 and will be removed in version 0.14.\n",
      "Use os.path.join(memory.location, 'joblib') attribute instead.\n",
      "  if (memory.cachedir is None and memory_level is not None\n"
     ]
    },
    {
     "name": "stdout",
     "output_type": "stream",
     "text": [
      "[Memory]373.5s, 6.2min  : Loading filter_and_extract...\n",
      "__________________________________filter_and_extract cache loaded - 0.0s, 0.0min\n",
      "[NiftiMapsMasker.fit_transform] loading regions from /home/oad4/nilearn_data/msdl_atlas/MSDL_rois/msdl_rois.nii\n"
     ]
    },
    {
     "name": "stderr",
     "output_type": "stream",
     "text": [
      "/gpfs/ysm/project/oad4/conda_envs/py37_dev/lib/python3.6/site-packages/nilearn/_utils/cache_mixin.py:232: DeprecationWarning: The 'cachedir' attribute has been deprecated in version 0.12 and will be removed in version 0.14.\n",
      "Use os.path.join(memory.location, 'joblib') attribute instead.\n",
      "  if (memory.cachedir is None and memory_level is not None\n"
     ]
    },
    {
     "name": "stdout",
     "output_type": "stream",
     "text": [
      "[Memory]386.1s, 6.4min  : Loading filter_and_extract...\n",
      "__________________________________filter_and_extract cache loaded - 0.0s, 0.0min\n",
      "[NiftiMapsMasker.fit_transform] loading regions from /home/oad4/nilearn_data/msdl_atlas/MSDL_rois/msdl_rois.nii\n"
     ]
    },
    {
     "name": "stderr",
     "output_type": "stream",
     "text": [
      "/gpfs/ysm/project/oad4/conda_envs/py37_dev/lib/python3.6/site-packages/nilearn/_utils/cache_mixin.py:232: DeprecationWarning: The 'cachedir' attribute has been deprecated in version 0.12 and will be removed in version 0.14.\n",
      "Use os.path.join(memory.location, 'joblib') attribute instead.\n",
      "  if (memory.cachedir is None and memory_level is not None\n"
     ]
    },
    {
     "name": "stdout",
     "output_type": "stream",
     "text": [
      "[Memory]400.0s, 6.7min  : Loading filter_and_extract...\n",
      "__________________________________filter_and_extract cache loaded - 0.0s, 0.0min\n",
      "[NiftiMapsMasker.fit_transform] loading regions from /home/oad4/nilearn_data/msdl_atlas/MSDL_rois/msdl_rois.nii\n"
     ]
    },
    {
     "name": "stderr",
     "output_type": "stream",
     "text": [
      "/gpfs/ysm/project/oad4/conda_envs/py37_dev/lib/python3.6/site-packages/nilearn/_utils/cache_mixin.py:232: DeprecationWarning: The 'cachedir' attribute has been deprecated in version 0.12 and will be removed in version 0.14.\n",
      "Use os.path.join(memory.location, 'joblib') attribute instead.\n",
      "  if (memory.cachedir is None and memory_level is not None\n"
     ]
    },
    {
     "name": "stdout",
     "output_type": "stream",
     "text": [
      "[Memory]415.5s, 6.9min  : Loading filter_and_extract...\n",
      "__________________________________filter_and_extract cache loaded - 0.0s, 0.0min\n"
     ]
    }
   ],
   "source": [
    "ket3_series = timeSeries(func_files=fileList(subList,'3'), confound_files=confList(subList, '3'))"
   ]
  },
  {
   "cell_type": "code",
   "execution_count": 15,
   "metadata": {
    "scrolled": true
   },
   "outputs": [
    {
     "name": "stdout",
     "output_type": "stream",
     "text": [
      "proccessing file /home/oad4/scratch60/kpeOutput/fmriprep/sub-008/ses-4/func/sub-008_ses-4_task-rest_space-MNI152NLin2009cAsym_desc-preproc_bold.nii.gz\n",
      "[NiftiMapsMasker.fit_transform] loading regions from /home/oad4/nilearn_data/msdl_atlas/MSDL_rois/msdl_rois.nii\n"
     ]
    },
    {
     "name": "stderr",
     "output_type": "stream",
     "text": [
      "/gpfs/ysm/project/oad4/conda_envs/py37_dev/lib/python3.6/site-packages/nilearn/_utils/cache_mixin.py:232: DeprecationWarning: The 'cachedir' attribute has been deprecated in version 0.12 and will be removed in version 0.14.\n",
      "Use os.path.join(memory.location, 'joblib') attribute instead.\n",
      "  if (memory.cachedir is None and memory_level is not None\n"
     ]
    },
    {
     "name": "stdout",
     "output_type": "stream",
     "text": [
      "[Memory]1136.0s, 18.9min: Loading filter_and_extract...\n",
      "__________________________________filter_and_extract cache loaded - 0.0s, 0.0min\n",
      "proccessing file /home/oad4/scratch60/kpeOutput/fmriprep/sub-1293/ses-4/func/sub-1293_ses-4_task-rest_space-MNI152NLin2009cAsym_desc-preproc_bold.nii.gz\n",
      "[NiftiMapsMasker.fit_transform] loading regions from /home/oad4/nilearn_data/msdl_atlas/MSDL_rois/msdl_rois.nii\n"
     ]
    },
    {
     "name": "stderr",
     "output_type": "stream",
     "text": [
      "/gpfs/ysm/project/oad4/conda_envs/py37_dev/lib/python3.6/site-packages/nilearn/_utils/cache_mixin.py:232: DeprecationWarning: The 'cachedir' attribute has been deprecated in version 0.12 and will be removed in version 0.14.\n",
      "Use os.path.join(memory.location, 'joblib') attribute instead.\n",
      "  if (memory.cachedir is None and memory_level is not None\n"
     ]
    },
    {
     "name": "stdout",
     "output_type": "stream",
     "text": [
      "[Memory]1148.4s, 19.1min: Loading filter_and_extract...\n",
      "__________________________________filter_and_extract cache loaded - 0.0s, 0.0min\n",
      "proccessing file /home/oad4/scratch60/kpeOutput/fmriprep/sub-1307/ses-4/func/sub-1307_ses-4_task-rest_space-MNI152NLin2009cAsym_desc-preproc_bold.nii.gz\n",
      "[NiftiMapsMasker.fit_transform] loading regions from /home/oad4/nilearn_data/msdl_atlas/MSDL_rois/msdl_rois.nii\n"
     ]
    },
    {
     "name": "stderr",
     "output_type": "stream",
     "text": [
      "/gpfs/ysm/project/oad4/conda_envs/py37_dev/lib/python3.6/site-packages/nilearn/_utils/cache_mixin.py:232: DeprecationWarning: The 'cachedir' attribute has been deprecated in version 0.12 and will be removed in version 0.14.\n",
      "Use os.path.join(memory.location, 'joblib') attribute instead.\n",
      "  if (memory.cachedir is None and memory_level is not None\n"
     ]
    },
    {
     "name": "stdout",
     "output_type": "stream",
     "text": [
      "[Memory]1161.1s, 19.4min: Loading filter_and_extract...\n",
      "__________________________________filter_and_extract cache loaded - 0.0s, 0.0min\n",
      "proccessing file /home/oad4/scratch60/kpeOutput/fmriprep/sub-1322/ses-4/func/sub-1322_ses-4_task-rest_space-MNI152NLin2009cAsym_desc-preproc_bold.nii.gz\n",
      "[NiftiMapsMasker.fit_transform] loading regions from /home/oad4/nilearn_data/msdl_atlas/MSDL_rois/msdl_rois.nii\n"
     ]
    },
    {
     "name": "stderr",
     "output_type": "stream",
     "text": [
      "/gpfs/ysm/project/oad4/conda_envs/py37_dev/lib/python3.6/site-packages/nilearn/_utils/cache_mixin.py:232: DeprecationWarning: The 'cachedir' attribute has been deprecated in version 0.12 and will be removed in version 0.14.\n",
      "Use os.path.join(memory.location, 'joblib') attribute instead.\n",
      "  if (memory.cachedir is None and memory_level is not None\n"
     ]
    },
    {
     "name": "stdout",
     "output_type": "stream",
     "text": [
      "[Memory]1172.3s, 19.5min: Loading filter_and_extract...\n",
      "__________________________________filter_and_extract cache loaded - 0.0s, 0.0min\n",
      "proccessing file /home/oad4/scratch60/kpeOutput/fmriprep/sub-1339/ses-4/func/sub-1339_ses-4_task-rest_space-MNI152NLin2009cAsym_desc-preproc_bold.nii.gz\n",
      "[NiftiMapsMasker.fit_transform] loading regions from /home/oad4/nilearn_data/msdl_atlas/MSDL_rois/msdl_rois.nii\n"
     ]
    },
    {
     "name": "stderr",
     "output_type": "stream",
     "text": [
      "/gpfs/ysm/project/oad4/conda_envs/py37_dev/lib/python3.6/site-packages/nilearn/_utils/cache_mixin.py:232: DeprecationWarning: The 'cachedir' attribute has been deprecated in version 0.12 and will be removed in version 0.14.\n",
      "Use os.path.join(memory.location, 'joblib') attribute instead.\n",
      "  if (memory.cachedir is None and memory_level is not None\n"
     ]
    },
    {
     "name": "stdout",
     "output_type": "stream",
     "text": [
      "[Memory]1175.3s, 19.6min: Loading filter_and_extract...\n",
      "__________________________________filter_and_extract cache loaded - 0.0s, 0.0min\n",
      "proccessing file /home/oad4/scratch60/kpeOutput/fmriprep/sub-1343/ses-4/func/sub-1343_ses-4_task-rest_space-MNI152NLin2009cAsym_desc-preproc_bold.nii.gz\n",
      "[NiftiMapsMasker.fit_transform] loading regions from /home/oad4/nilearn_data/msdl_atlas/MSDL_rois/msdl_rois.nii\n"
     ]
    },
    {
     "name": "stderr",
     "output_type": "stream",
     "text": [
      "/gpfs/ysm/project/oad4/conda_envs/py37_dev/lib/python3.6/site-packages/nilearn/_utils/cache_mixin.py:232: DeprecationWarning: The 'cachedir' attribute has been deprecated in version 0.12 and will be removed in version 0.14.\n",
      "Use os.path.join(memory.location, 'joblib') attribute instead.\n",
      "  if (memory.cachedir is None and memory_level is not None\n"
     ]
    },
    {
     "name": "stdout",
     "output_type": "stream",
     "text": [
      "[Memory]1187.6s, 19.8min: Loading filter_and_extract...\n",
      "__________________________________filter_and_extract cache loaded - 0.0s, 0.0min\n",
      "proccessing file /home/oad4/scratch60/kpeOutput/fmriprep/sub-1223/ses-4/func/sub-1223_ses-4_task-rest_space-MNI152NLin2009cAsym_desc-preproc_bold.nii.gz\n",
      "[NiftiMapsMasker.fit_transform] loading regions from /home/oad4/nilearn_data/msdl_atlas/MSDL_rois/msdl_rois.nii\n"
     ]
    },
    {
     "name": "stderr",
     "output_type": "stream",
     "text": [
      "/gpfs/ysm/project/oad4/conda_envs/py37_dev/lib/python3.6/site-packages/nilearn/_utils/cache_mixin.py:232: DeprecationWarning: The 'cachedir' attribute has been deprecated in version 0.12 and will be removed in version 0.14.\n",
      "Use os.path.join(memory.location, 'joblib') attribute instead.\n",
      "  if (memory.cachedir is None and memory_level is not None\n"
     ]
    },
    {
     "name": "stdout",
     "output_type": "stream",
     "text": [
      "________________________________________________________________________________\n",
      "[Memory] Calling nilearn.input_data.base_masker.filter_and_extract...\n",
      "filter_and_extract('/home/oad4/scratch60/kpeOutput/fmriprep/sub-1223/ses-4/func/sub-1223_ses-4_task-rest_space-MNI152NLin2009cAsym_desc-preproc_bold.nii.gz', \n",
      "<nilearn.input_data.nifti_maps_masker._ExtractionFunctor object at 0x2ae11e781da0>, \n",
      "{ 'allow_overlap': True,\n",
      "  'detrend': False,\n",
      "  'dtype': None,\n",
      "  'high_pass': 0.01,\n",
      "  'low_pass': 0.1,\n",
      "  'maps_img': '/home/oad4/nilearn_data/msdl_atlas/MSDL_rois/msdl_rois.nii',\n",
      "  'mask_img': None,\n",
      "  'smoothing_fwhm': 6,\n",
      "  'standardize': True,\n",
      "  't_r': 1,\n",
      "  'target_affine': None,\n",
      "  'target_shape': None}, confounds=array([[ 4.677867e+03, ...,  4.436560e-04],\n",
      "       ...,\n",
      "       [ 4.584413e+03, ..., -6.207960e-03]]), dtype=None, memory=Memory(location=/home/oad4/scratch60/nilearn/joblib), memory_level=1, verbose=5)\n",
      "[NiftiMapsMasker.transform_single_imgs] Loading data from /home/oad4/scratch60/kpeOutput/fmriprep/sub-1223/ses-4/func/sub-1223_ses-4_task-rest_space-MNI152NLin2009cAsym_desc-preproc_bold.nii.gz\n",
      "[NiftiMapsMasker.transform_single_imgs] Smoothing images\n",
      "[NiftiMapsMasker.transform_single_imgs] Extracting region signals\n",
      "[NiftiMapsMasker.transform_single_imgs] Cleaning extracted signals\n",
      "_____________________________________________filter_and_extract - 101.0s, 1.7min\n"
     ]
    },
    {
     "name": "stderr",
     "output_type": "stream",
     "text": [
      "/gpfs/ysm/project/oad4/conda_envs/py37_dev/lib/python3.6/site-packages/nilearn/input_data/nifti_maps_masker.py:326: UserWarning: Persisting input arguments took 1.27s to run.\n",
      "If this happens often in your code, it can cause performance problems \n",
      "(results will be correct in all cases). \n",
      "The reason for this is probably some large input arguments for a wrapped\n",
      " function (e.g. large strings).\n",
      "THIS IS A JOBLIB ISSUE. If you can, kindly provide the joblib's team with an\n",
      " example so that they can fix the problem.\n",
      "  verbose=self.verbose)\n"
     ]
    }
   ],
   "source": [
    "subListKet4 =  ['008','1293','1307','1322','1339','1343','1223']\n",
    "ket4_series = timeSeries(func_files=fileList(subListKet4,'4'), confound_files=confList(subListKet4, '4'))"
   ]
  },
  {
   "cell_type": "code",
   "execution_count": 295,
   "metadata": {},
   "outputs": [],
   "source": [
    "# build correlation matrix for each time point\n",
    "ket1_corr = createCorMat(ket1_series)\n",
    "ket2_corr = createCorMat(ket2_series)\n",
    "ket3_corr = createCorMat(ket3_series)\n",
    "ket4_corr = createCorMat(ket4_series)"
   ]
  },
  {
   "cell_type": "code",
   "execution_count": 17,
   "metadata": {},
   "outputs": [
    {
     "data": {
      "text/plain": [
       "(8, 39, 39)"
      ]
     },
     "execution_count": 17,
     "metadata": {},
     "output_type": "execute_result"
    }
   ],
   "source": [
    "# start contrasting\n",
    "ket2_ket1 = contFuncs(ket1_corr, ket2_corr)\n",
    "ket3_ket1 = contFuncs(ket1_corr, ket3_corr)\n",
    "\n",
    "ket3_ket1.shape\n"
   ]
  },
  {
   "cell_type": "code",
   "execution_count": 18,
   "metadata": {
    "scrolled": true
   },
   "outputs": [
    {
     "data": {
      "text/plain": [
       "<nilearn.plotting.displays.OrthoProjector at 0x2ae120da4898>"
      ]
     },
     "execution_count": 18,
     "metadata": {},
     "output_type": "execute_result"
    },
    {
     "data": {
      "image/png": "[encoded data removed]",
      "text/plain": [
       "<Figure size 475.2x187.2 with 5 Axes>"
      ]
     },
     "metadata": {},
     "output_type": "display_data"
    },
    {
     "data": {
      "image/png": "[encoded data removed]",
      "text/plain": [
       "<Figure size 475.2x187.2 with 5 Axes>"
      ]
     },
     "metadata": {},
     "output_type": "display_data"
    }
   ],
   "source": [
    "plotting.plot_connectome(np.average(ket2_ket1, axis=0), coords,\n",
    "                         edge_threshold=\"99%\", colorbar=True, title = \"Ketamine 7days minux first\")\n",
    "\n",
    "plotting.plot_connectome(np.average(ket3_ket1, axis=0), coords,\n",
    "                         edge_threshold=\"99%\", colorbar=True, title = \"Ketamine 30days minux first\")\n",
    "\n"
   ]
  },
  {
   "cell_type": "code",
   "execution_count": 19,
   "metadata": {
    "scrolled": true
   },
   "outputs": [
    {
     "name": "stdout",
     "output_type": "stream",
     "text": [
      "proccessing file /home/oad4/scratch60/kpeOutput/fmriprep/sub-1253/ses-1/func/sub-1253_ses-1_task-rest_space-MNI152NLin2009cAsym_desc-preproc_bold.nii.gz\n",
      "[NiftiMapsMasker.fit_transform] loading regions from /home/oad4/nilearn_data/msdl_atlas/MSDL_rois/msdl_rois.nii\n"
     ]
    },
    {
     "name": "stderr",
     "output_type": "stream",
     "text": [
      "/gpfs/ysm/project/oad4/conda_envs/py37_dev/lib/python3.6/site-packages/nilearn/_utils/cache_mixin.py:232: DeprecationWarning: The 'cachedir' attribute has been deprecated in version 0.12 and will be removed in version 0.14.\n",
      "Use os.path.join(memory.location, 'joblib') attribute instead.\n",
      "  if (memory.cachedir is None and memory_level is not None\n"
     ]
    },
    {
     "name": "stdout",
     "output_type": "stream",
     "text": [
      "[Memory]1339.3s, 22.3min: Loading filter_and_extract...\n",
      "__________________________________filter_and_extract cache loaded - 0.0s, 0.0min\n",
      "proccessing file /home/oad4/scratch60/kpeOutput/fmriprep/sub-1263/ses-1/func/sub-1263_ses-1_task-rest_space-MNI152NLin2009cAsym_desc-preproc_bold.nii.gz\n",
      "[NiftiMapsMasker.fit_transform] loading regions from /home/oad4/nilearn_data/msdl_atlas/MSDL_rois/msdl_rois.nii\n"
     ]
    },
    {
     "name": "stderr",
     "output_type": "stream",
     "text": [
      "/gpfs/ysm/project/oad4/conda_envs/py37_dev/lib/python3.6/site-packages/nilearn/_utils/cache_mixin.py:232: DeprecationWarning: The 'cachedir' attribute has been deprecated in version 0.12 and will be removed in version 0.14.\n",
      "Use os.path.join(memory.location, 'joblib') attribute instead.\n",
      "  if (memory.cachedir is None and memory_level is not None\n"
     ]
    },
    {
     "name": "stdout",
     "output_type": "stream",
     "text": [
      "[Memory]1353.6s, 22.6min: Loading filter_and_extract...\n",
      "__________________________________filter_and_extract cache loaded - 0.0s, 0.0min\n",
      "proccessing file /home/oad4/scratch60/kpeOutput/fmriprep/sub-1351/ses-1/func/sub-1351_ses-1_task-rest_space-MNI152NLin2009cAsym_desc-preproc_bold.nii.gz\n",
      "[NiftiMapsMasker.fit_transform] loading regions from /home/oad4/nilearn_data/msdl_atlas/MSDL_rois/msdl_rois.nii\n"
     ]
    },
    {
     "name": "stderr",
     "output_type": "stream",
     "text": [
      "/gpfs/ysm/project/oad4/conda_envs/py37_dev/lib/python3.6/site-packages/nilearn/_utils/cache_mixin.py:232: DeprecationWarning: The 'cachedir' attribute has been deprecated in version 0.12 and will be removed in version 0.14.\n",
      "Use os.path.join(memory.location, 'joblib') attribute instead.\n",
      "  if (memory.cachedir is None and memory_level is not None\n"
     ]
    },
    {
     "name": "stdout",
     "output_type": "stream",
     "text": [
      "[Memory]1368.3s, 22.8min: Loading filter_and_extract...\n",
      "__________________________________filter_and_extract cache loaded - 0.0s, 0.0min\n",
      "proccessing file /home/oad4/scratch60/kpeOutput/fmriprep/sub-1364/ses-1/func/sub-1364_ses-1_task-rest_space-MNI152NLin2009cAsym_desc-preproc_bold.nii.gz\n",
      "[NiftiMapsMasker.fit_transform] loading regions from /home/oad4/nilearn_data/msdl_atlas/MSDL_rois/msdl_rois.nii\n"
     ]
    },
    {
     "name": "stderr",
     "output_type": "stream",
     "text": [
      "/gpfs/ysm/project/oad4/conda_envs/py37_dev/lib/python3.6/site-packages/nilearn/_utils/cache_mixin.py:232: DeprecationWarning: The 'cachedir' attribute has been deprecated in version 0.12 and will be removed in version 0.14.\n",
      "Use os.path.join(memory.location, 'joblib') attribute instead.\n",
      "  if (memory.cachedir is None and memory_level is not None\n"
     ]
    },
    {
     "name": "stdout",
     "output_type": "stream",
     "text": [
      "[Memory]1382.3s, 23.0min: Loading filter_and_extract...\n",
      "__________________________________filter_and_extract cache loaded - 0.0s, 0.0min\n",
      "proccessing file /home/oad4/scratch60/kpeOutput/fmriprep/sub-1369/ses-1/func/sub-1369_ses-1_task-rest_space-MNI152NLin2009cAsym_desc-preproc_bold.nii.gz\n",
      "[NiftiMapsMasker.fit_transform] loading regions from /home/oad4/nilearn_data/msdl_atlas/MSDL_rois/msdl_rois.nii\n"
     ]
    },
    {
     "name": "stderr",
     "output_type": "stream",
     "text": [
      "/gpfs/ysm/project/oad4/conda_envs/py37_dev/lib/python3.6/site-packages/nilearn/_utils/cache_mixin.py:232: DeprecationWarning: The 'cachedir' attribute has been deprecated in version 0.12 and will be removed in version 0.14.\n",
      "Use os.path.join(memory.location, 'joblib') attribute instead.\n",
      "  if (memory.cachedir is None and memory_level is not None\n"
     ]
    },
    {
     "name": "stdout",
     "output_type": "stream",
     "text": [
      "[Memory]1396.8s, 23.3min: Loading filter_and_extract...\n",
      "__________________________________filter_and_extract cache loaded - 0.0s, 0.0min\n",
      "proccessing file /home/oad4/scratch60/kpeOutput/fmriprep/sub-1390/ses-1/func/sub-1390_ses-1_task-rest_space-MNI152NLin2009cAsym_desc-preproc_bold.nii.gz\n",
      "[NiftiMapsMasker.fit_transform] loading regions from /home/oad4/nilearn_data/msdl_atlas/MSDL_rois/msdl_rois.nii\n"
     ]
    },
    {
     "name": "stderr",
     "output_type": "stream",
     "text": [
      "/gpfs/ysm/project/oad4/conda_envs/py37_dev/lib/python3.6/site-packages/nilearn/_utils/cache_mixin.py:232: DeprecationWarning: The 'cachedir' attribute has been deprecated in version 0.12 and will be removed in version 0.14.\n",
      "Use os.path.join(memory.location, 'joblib') attribute instead.\n",
      "  if (memory.cachedir is None and memory_level is not None\n"
     ]
    },
    {
     "name": "stdout",
     "output_type": "stream",
     "text": [
      "[Memory]1411.4s, 23.5min: Loading filter_and_extract...\n",
      "__________________________________filter_and_extract cache loaded - 0.0s, 0.0min\n",
      "proccessing file /home/oad4/scratch60/kpeOutput/fmriprep/sub-1403/ses-1/func/sub-1403_ses-1_task-rest_space-MNI152NLin2009cAsym_desc-preproc_bold.nii.gz\n",
      "[NiftiMapsMasker.fit_transform] loading regions from /home/oad4/nilearn_data/msdl_atlas/MSDL_rois/msdl_rois.nii\n"
     ]
    },
    {
     "name": "stderr",
     "output_type": "stream",
     "text": [
      "/gpfs/ysm/project/oad4/conda_envs/py37_dev/lib/python3.6/site-packages/nilearn/_utils/cache_mixin.py:232: DeprecationWarning: The 'cachedir' attribute has been deprecated in version 0.12 and will be removed in version 0.14.\n",
      "Use os.path.join(memory.location, 'joblib') attribute instead.\n",
      "  if (memory.cachedir is None and memory_level is not None\n"
     ]
    },
    {
     "name": "stdout",
     "output_type": "stream",
     "text": [
      "[Memory]1425.1s, 23.8min: Loading filter_and_extract...\n",
      "__________________________________filter_and_extract cache loaded - 0.1s, 0.0min\n",
      "proccessing file /home/oad4/scratch60/kpeOutput/fmriprep/sub-1253/ses-2/func/sub-1253_ses-2_task-rest_space-MNI152NLin2009cAsym_desc-preproc_bold.nii.gz\n",
      "[NiftiMapsMasker.fit_transform] loading regions from /home/oad4/nilearn_data/msdl_atlas/MSDL_rois/msdl_rois.nii\n"
     ]
    },
    {
     "name": "stderr",
     "output_type": "stream",
     "text": [
      "/gpfs/ysm/project/oad4/conda_envs/py37_dev/lib/python3.6/site-packages/nilearn/_utils/cache_mixin.py:232: DeprecationWarning: The 'cachedir' attribute has been deprecated in version 0.12 and will be removed in version 0.14.\n",
      "Use os.path.join(memory.location, 'joblib') attribute instead.\n",
      "  if (memory.cachedir is None and memory_level is not None\n"
     ]
    },
    {
     "name": "stdout",
     "output_type": "stream",
     "text": [
      "[Memory]1438.9s, 24.0min: Loading filter_and_extract...\n",
      "__________________________________filter_and_extract cache loaded - 0.0s, 0.0min\n",
      "proccessing file /home/oad4/scratch60/kpeOutput/fmriprep/sub-1263/ses-2/func/sub-1263_ses-2_task-rest_space-MNI152NLin2009cAsym_desc-preproc_bold.nii.gz\n",
      "[NiftiMapsMasker.fit_transform] loading regions from /home/oad4/nilearn_data/msdl_atlas/MSDL_rois/msdl_rois.nii\n"
     ]
    },
    {
     "name": "stderr",
     "output_type": "stream",
     "text": [
      "/gpfs/ysm/project/oad4/conda_envs/py37_dev/lib/python3.6/site-packages/nilearn/_utils/cache_mixin.py:232: DeprecationWarning: The 'cachedir' attribute has been deprecated in version 0.12 and will be removed in version 0.14.\n",
      "Use os.path.join(memory.location, 'joblib') attribute instead.\n",
      "  if (memory.cachedir is None and memory_level is not None\n"
     ]
    },
    {
     "name": "stdout",
     "output_type": "stream",
     "text": [
      "[Memory]1453.0s, 24.2min: Loading filter_and_extract...\n",
      "__________________________________filter_and_extract cache loaded - 0.0s, 0.0min\n",
      "proccessing file /home/oad4/scratch60/kpeOutput/fmriprep/sub-1351/ses-2/func/sub-1351_ses-2_task-rest_space-MNI152NLin2009cAsym_desc-preproc_bold.nii.gz\n",
      "[NiftiMapsMasker.fit_transform] loading regions from /home/oad4/nilearn_data/msdl_atlas/MSDL_rois/msdl_rois.nii\n"
     ]
    },
    {
     "name": "stderr",
     "output_type": "stream",
     "text": [
      "/gpfs/ysm/project/oad4/conda_envs/py37_dev/lib/python3.6/site-packages/nilearn/_utils/cache_mixin.py:232: DeprecationWarning: The 'cachedir' attribute has been deprecated in version 0.12 and will be removed in version 0.14.\n",
      "Use os.path.join(memory.location, 'joblib') attribute instead.\n",
      "  if (memory.cachedir is None and memory_level is not None\n"
     ]
    },
    {
     "name": "stdout",
     "output_type": "stream",
     "text": [
      "[Memory]1467.3s, 24.5min: Loading filter_and_extract...\n",
      "__________________________________filter_and_extract cache loaded - 0.0s, 0.0min\n",
      "proccessing file /home/oad4/scratch60/kpeOutput/fmriprep/sub-1364/ses-2/func/sub-1364_ses-2_task-rest_space-MNI152NLin2009cAsym_desc-preproc_bold.nii.gz\n",
      "[NiftiMapsMasker.fit_transform] loading regions from /home/oad4/nilearn_data/msdl_atlas/MSDL_rois/msdl_rois.nii\n"
     ]
    },
    {
     "name": "stderr",
     "output_type": "stream",
     "text": [
      "/gpfs/ysm/project/oad4/conda_envs/py37_dev/lib/python3.6/site-packages/nilearn/_utils/cache_mixin.py:232: DeprecationWarning: The 'cachedir' attribute has been deprecated in version 0.12 and will be removed in version 0.14.\n",
      "Use os.path.join(memory.location, 'joblib') attribute instead.\n",
      "  if (memory.cachedir is None and memory_level is not None\n"
     ]
    },
    {
     "name": "stdout",
     "output_type": "stream",
     "text": [
      "[Memory]1480.7s, 24.7min: Loading filter_and_extract...\n",
      "__________________________________filter_and_extract cache loaded - 0.0s, 0.0min\n",
      "proccessing file /home/oad4/scratch60/kpeOutput/fmriprep/sub-1369/ses-2/func/sub-1369_ses-2_task-rest_space-MNI152NLin2009cAsym_desc-preproc_bold.nii.gz\n",
      "[NiftiMapsMasker.fit_transform] loading regions from /home/oad4/nilearn_data/msdl_atlas/MSDL_rois/msdl_rois.nii\n"
     ]
    },
    {
     "name": "stderr",
     "output_type": "stream",
     "text": [
      "/gpfs/ysm/project/oad4/conda_envs/py37_dev/lib/python3.6/site-packages/nilearn/_utils/cache_mixin.py:232: DeprecationWarning: The 'cachedir' attribute has been deprecated in version 0.12 and will be removed in version 0.14.\n",
      "Use os.path.join(memory.location, 'joblib') attribute instead.\n",
      "  if (memory.cachedir is None and memory_level is not None\n"
     ]
    },
    {
     "name": "stdout",
     "output_type": "stream",
     "text": [
      "[Memory]1494.7s, 24.9min: Loading filter_and_extract...\n",
      "__________________________________filter_and_extract cache loaded - 0.0s, 0.0min\n",
      "proccessing file /home/oad4/scratch60/kpeOutput/fmriprep/sub-1390/ses-2/func/sub-1390_ses-2_task-rest_space-MNI152NLin2009cAsym_desc-preproc_bold.nii.gz\n",
      "[NiftiMapsMasker.fit_transform] loading regions from /home/oad4/nilearn_data/msdl_atlas/MSDL_rois/msdl_rois.nii\n"
     ]
    },
    {
     "name": "stderr",
     "output_type": "stream",
     "text": [
      "/gpfs/ysm/project/oad4/conda_envs/py37_dev/lib/python3.6/site-packages/nilearn/_utils/cache_mixin.py:232: DeprecationWarning: The 'cachedir' attribute has been deprecated in version 0.12 and will be removed in version 0.14.\n",
      "Use os.path.join(memory.location, 'joblib') attribute instead.\n",
      "  if (memory.cachedir is None and memory_level is not None\n"
     ]
    },
    {
     "name": "stdout",
     "output_type": "stream",
     "text": [
      "[Memory]1509.4s, 25.2min: Loading filter_and_extract...\n",
      "__________________________________filter_and_extract cache loaded - 0.0s, 0.0min\n",
      "proccessing file /home/oad4/scratch60/kpeOutput/fmriprep/sub-1403/ses-2/func/sub-1403_ses-2_task-rest_space-MNI152NLin2009cAsym_desc-preproc_bold.nii.gz\n",
      "[NiftiMapsMasker.fit_transform] loading regions from /home/oad4/nilearn_data/msdl_atlas/MSDL_rois/msdl_rois.nii\n"
     ]
    },
    {
     "name": "stderr",
     "output_type": "stream",
     "text": [
      "/gpfs/ysm/project/oad4/conda_envs/py37_dev/lib/python3.6/site-packages/nilearn/_utils/cache_mixin.py:232: DeprecationWarning: The 'cachedir' attribute has been deprecated in version 0.12 and will be removed in version 0.14.\n",
      "Use os.path.join(memory.location, 'joblib') attribute instead.\n",
      "  if (memory.cachedir is None and memory_level is not None\n"
     ]
    },
    {
     "name": "stdout",
     "output_type": "stream",
     "text": [
      "[Memory]1522.9s, 25.4min: Loading filter_and_extract...\n",
      "__________________________________filter_and_extract cache loaded - 0.0s, 0.0min\n"
     ]
    }
   ],
   "source": [
    "# let do midazolam\n",
    "mid1_series = timeSeries(func_files=fileList(midSubList,'1'), confound_files=confList(midSubList, '1'))\n",
    "\n",
    "mid2_series = timeSeries(func_files=fileList(midSubList,'2'), confound_files=confList(midSubList, '2'))"
   ]
  },
  {
   "cell_type": "code",
   "execution_count": 20,
   "metadata": {
    "scrolled": true
   },
   "outputs": [
    {
     "name": "stdout",
     "output_type": "stream",
     "text": [
      "['1253', '1263', '1351', '1364', '1369', '1390', '1403']\n",
      "proccessing file /home/oad4/scratch60/kpeOutput/fmriprep/sub-1263/ses-3/func/sub-1263_ses-3_task-rest_space-MNI152NLin2009cAsym_desc-preproc_bold.nii.gz\n",
      "[NiftiMapsMasker.fit_transform] loading regions from /home/oad4/nilearn_data/msdl_atlas/MSDL_rois/msdl_rois.nii\n"
     ]
    },
    {
     "name": "stderr",
     "output_type": "stream",
     "text": [
      "/gpfs/ysm/project/oad4/conda_envs/py37_dev/lib/python3.6/site-packages/nilearn/_utils/cache_mixin.py:232: DeprecationWarning: The 'cachedir' attribute has been deprecated in version 0.12 and will be removed in version 0.14.\n",
      "Use os.path.join(memory.location, 'joblib') attribute instead.\n",
      "  if (memory.cachedir is None and memory_level is not None\n"
     ]
    },
    {
     "name": "stdout",
     "output_type": "stream",
     "text": [
      "[Memory]1537.0s, 25.6min: Loading filter_and_extract...\n",
      "__________________________________filter_and_extract cache loaded - 0.0s, 0.0min\n",
      "proccessing file /home/oad4/scratch60/kpeOutput/fmriprep/sub-1351/ses-3/func/sub-1351_ses-3_task-rest_space-MNI152NLin2009cAsym_desc-preproc_bold.nii.gz\n",
      "[NiftiMapsMasker.fit_transform] loading regions from /home/oad4/nilearn_data/msdl_atlas/MSDL_rois/msdl_rois.nii\n"
     ]
    },
    {
     "name": "stderr",
     "output_type": "stream",
     "text": [
      "/gpfs/ysm/project/oad4/conda_envs/py37_dev/lib/python3.6/site-packages/nilearn/_utils/cache_mixin.py:232: DeprecationWarning: The 'cachedir' attribute has been deprecated in version 0.12 and will be removed in version 0.14.\n",
      "Use os.path.join(memory.location, 'joblib') attribute instead.\n",
      "  if (memory.cachedir is None and memory_level is not None\n"
     ]
    },
    {
     "name": "stdout",
     "output_type": "stream",
     "text": [
      "[Memory]1551.5s, 25.9min: Loading filter_and_extract...\n",
      "__________________________________filter_and_extract cache loaded - 0.0s, 0.0min\n",
      "proccessing file /home/oad4/scratch60/kpeOutput/fmriprep/sub-1364/ses-3/func/sub-1364_ses-3_task-rest_space-MNI152NLin2009cAsym_desc-preproc_bold.nii.gz\n",
      "[NiftiMapsMasker.fit_transform] loading regions from /home/oad4/nilearn_data/msdl_atlas/MSDL_rois/msdl_rois.nii\n"
     ]
    },
    {
     "name": "stderr",
     "output_type": "stream",
     "text": [
      "/gpfs/ysm/project/oad4/conda_envs/py37_dev/lib/python3.6/site-packages/nilearn/_utils/cache_mixin.py:232: DeprecationWarning: The 'cachedir' attribute has been deprecated in version 0.12 and will be removed in version 0.14.\n",
      "Use os.path.join(memory.location, 'joblib') attribute instead.\n",
      "  if (memory.cachedir is None and memory_level is not None\n"
     ]
    },
    {
     "name": "stdout",
     "output_type": "stream",
     "text": [
      "[Memory]1565.7s, 26.1min: Loading filter_and_extract...\n",
      "__________________________________filter_and_extract cache loaded - 0.0s, 0.0min\n",
      "proccessing file /home/oad4/scratch60/kpeOutput/fmriprep/sub-1369/ses-3/func/sub-1369_ses-3_task-rest_space-MNI152NLin2009cAsym_desc-preproc_bold.nii.gz\n",
      "[NiftiMapsMasker.fit_transform] loading regions from /home/oad4/nilearn_data/msdl_atlas/MSDL_rois/msdl_rois.nii\n"
     ]
    },
    {
     "name": "stderr",
     "output_type": "stream",
     "text": [
      "/gpfs/ysm/project/oad4/conda_envs/py37_dev/lib/python3.6/site-packages/nilearn/_utils/cache_mixin.py:232: DeprecationWarning: The 'cachedir' attribute has been deprecated in version 0.12 and will be removed in version 0.14.\n",
      "Use os.path.join(memory.location, 'joblib') attribute instead.\n",
      "  if (memory.cachedir is None and memory_level is not None\n"
     ]
    },
    {
     "name": "stdout",
     "output_type": "stream",
     "text": [
      "[Memory]1579.7s, 26.3min: Loading filter_and_extract...\n",
      "__________________________________filter_and_extract cache loaded - 0.0s, 0.0min\n",
      "proccessing file /home/oad4/scratch60/kpeOutput/fmriprep/sub-1390/ses-3/func/sub-1390_ses-3_task-rest_space-MNI152NLin2009cAsym_desc-preproc_bold.nii.gz\n",
      "[NiftiMapsMasker.fit_transform] loading regions from /home/oad4/nilearn_data/msdl_atlas/MSDL_rois/msdl_rois.nii\n"
     ]
    },
    {
     "name": "stderr",
     "output_type": "stream",
     "text": [
      "/gpfs/ysm/project/oad4/conda_envs/py37_dev/lib/python3.6/site-packages/nilearn/_utils/cache_mixin.py:232: DeprecationWarning: The 'cachedir' attribute has been deprecated in version 0.12 and will be removed in version 0.14.\n",
      "Use os.path.join(memory.location, 'joblib') attribute instead.\n",
      "  if (memory.cachedir is None and memory_level is not None\n"
     ]
    },
    {
     "name": "stdout",
     "output_type": "stream",
     "text": [
      "[Memory]1594.4s, 26.6min: Loading filter_and_extract...\n",
      "__________________________________filter_and_extract cache loaded - 0.0s, 0.0min\n",
      "proccessing file /home/oad4/scratch60/kpeOutput/fmriprep/sub-1403/ses-3/func/sub-1403_ses-3_task-rest_space-MNI152NLin2009cAsym_desc-preproc_bold.nii.gz\n",
      "[NiftiMapsMasker.fit_transform] loading regions from /home/oad4/nilearn_data/msdl_atlas/MSDL_rois/msdl_rois.nii\n"
     ]
    },
    {
     "name": "stderr",
     "output_type": "stream",
     "text": [
      "/gpfs/ysm/project/oad4/conda_envs/py37_dev/lib/python3.6/site-packages/nilearn/_utils/cache_mixin.py:232: DeprecationWarning: The 'cachedir' attribute has been deprecated in version 0.12 and will be removed in version 0.14.\n",
      "Use os.path.join(memory.location, 'joblib') attribute instead.\n",
      "  if (memory.cachedir is None and memory_level is not None\n"
     ]
    },
    {
     "name": "stdout",
     "output_type": "stream",
     "text": [
      "[Memory]1608.1s, 26.8min: Loading filter_and_extract...\n",
      "__________________________________filter_and_extract cache loaded - 0.0s, 0.0min\n"
     ]
    }
   ],
   "source": [
    "mid3_no1253 = midSubList\n",
    "print(mid3_no1253)\n",
    "mid3_no1253.remove('1253')\n",
    "mid3_series = timeSeries(fileList(mid3_no1253,'3'), confList(mid3_no1253,'3'))"
   ]
  },
  {
   "cell_type": "code",
   "execution_count": 21,
   "metadata": {},
   "outputs": [],
   "source": [
    "# build correlation matrix for each time point\n",
    "mid1_corr = createCorMat(time_series=mid1_series)\n",
    "mid2_corr = createCorMat(mid2_series)\n",
    "mid3_corr = createCorMat(mid3_series)"
   ]
  },
  {
   "cell_type": "code",
   "execution_count": 22,
   "metadata": {},
   "outputs": [],
   "source": [
    "# start contrasting\n",
    "mid2_mid1 = contFuncs(mid1_corr, mid2_corr)\n",
    "ket3_ket1 = contFuncs(ket1_corr, ket3_corr)\n",
    "\n",
    "#mid3_mid1 = np.average(mid3_corr, axis=0) - np.average(mid1_corr, axis = 0) # we do so because the number do not match\n",
    "\n",
    "#mid3_mid1.shape\n"
   ]
  },
  {
   "cell_type": "code",
   "execution_count": null,
   "metadata": {
    "scrolled": true
   },
   "outputs": [],
   "source": [
    "# plotting connectome differences\n",
    "%matplotlib inline\n",
    "\n",
    "plotting.plot_connectome(np.average(ket2_ket1, axis=0), coords,\n",
    "                         edge_threshold=\"99%\", colorbar=True, title = \"Ketamine 7days minus first\")\n",
    "\n",
    "plotting.plot_connectome(np.average(ket3_ket1, axis=0), coords,\n",
    "                         edge_threshold=\"99%\", colorbar=True, title = \"Ketamine 30days minus first\")\n",
    "\n",
    "plotting.plot_connectome(np.average(mid2_mid1, axis=0), coords,\n",
    "                         edge_threshold=\"99%\", colorbar=True, title = \"Midazolam 7days minus first\")\n",
    "\n",
    "#plotting.plot_connectome(mid3_mid1, coords,\n",
    " #                        edge_threshold=\"99%\", colorbar=True, title = \"midazolam 30days minux first\")\n",
    "\n",
    "plotting.plot_connectome(np.average(ket1_corr,axis=0) -np.average(mid1_corr, axis=0), coords,\n",
    "                         edge_threshold=\"99%\", colorbar=True, title = \"Ketamine - Midazolam 0days\")\n",
    "\n",
    "plotting.plot_connectome(np.average(ket2_corr,axis=0)-np.average(mid2_corr,axis=0), coords,\n",
    "                         edge_threshold=\"99%\", colorbar=True, title = \"Ketamine-Midazolan 7days\", output_file='pretty_brain.png')\n",
    "\n",
    "\n",
    "plotting.show()\n"
   ]
  },
  {
   "cell_type": "code",
   "execution_count": 23,
   "metadata": {},
   "outputs": [
    {
     "name": "stdout",
     "output_type": "stream",
     "text": [
      "(39, 39, 8)\n"
     ]
    }
   ],
   "source": [
    "# rearrange the array to N,N,subnumber for NBS\n",
    "ket1Reshape = np.moveaxis(np.array(ket1_corr), 0,-1)\n",
    "print(ket1Reshape.shape)\n",
    "ket2Reshape = np.moveaxis(np.array(ket2_corr), 0,-1)\n",
    "ket3Reshape = np.moveaxis(np.array(ket3_corr), 0,-1)\n",
    "ket4Reshape = np.moveaxis(np.array(ket4_corr), 0,-1)\n",
    "mid1Reshape = np.moveaxis(np.array(mid1_corr),0,-1)\n",
    "mid2Reshape = np.moveaxis(np.array(mid2_corr),0,-1)\n",
    "mid3Reshape = np.moveaxis(np.array(mid3_corr),0,-1)\n",
    "\n",
    "#print(mid3Reshape.shape)\n"
   ]
  },
  {
   "cell_type": "code",
   "execution_count": 232,
   "metadata": {},
   "outputs": [
    {
     "name": "stdout",
     "output_type": "stream",
     "text": [
      "max component size is 39\n",
      "estimating null distribution with 1500 permutations\n",
      "permutation 0 of 1500.  Permutation max is 25.0.  Observed max is 39.0.  P-val estimate is 0.000\n",
      "permutation 1 of 1500.  Permutation max is 22.0.  Observed max is 39.0.  P-val estimate is 0.000\n",
      "permutation 2 of 1500.  Permutation max is 34.0.  Observed max is 39.0.  P-val estimate is 0.000\n",
      "permutation 3 of 1500.  Permutation max is 26.0.  Observed max is 39.0.  P-val estimate is 0.000\n",
      "permutation 4 of 1500.  Permutation max is 13.0.  Observed max is 39.0.  P-val estimate is 0.000\n",
      "permutation 5 of 1500.  Permutation max is 25.0.  Observed max is 39.0.  P-val estimate is 0.000\n",
      "permutation 6 of 1500.  Permutation max is 31.0.  Observed max is 39.0.  P-val estimate is 0.000\n",
      "permutation 7 of 1500.  Permutation max is 14.0.  Observed max is 39.0.  P-val estimate is 0.000\n",
      "permutation 8 of 1500.  Permutation max is 11.0.  Observed max is 39.0.  P-val estimate is 0.000\n",
      "permutation 9 of 1500.  Permutation max is 26.0.  Observed max is 39.0.  P-val estimate is 0.000\n",
      "permutation 10 of 1500.  Permutation max is 10.0.  Observed max is 39.0.  P-val estimate is 0.000\n",
      "permutation 11 of 1500.  Permutation max is 9.0.  Observed max is 39.0.  P-val estimate is 0.000\n",
      "permutation 12 of 1500.  Permutation max is 26.0.  Observed max is 39.0.  P-val estimate is 0.000\n",
      "permutation 13 of 1500.  Permutation max is 17.0.  Observed max is 39.0.  P-val estimate is 0.000\n",
      "permutation 14 of 1500.  Permutation max is 39.0.  Observed max is 39.0.  P-val estimate is 0.067\n",
      "permutation 15 of 1500.  Permutation max is 36.0.  Observed max is 39.0.  P-val estimate is 0.062\n",
      "permutation 16 of 1500.  Permutation max is 25.0.  Observed max is 39.0.  P-val estimate is 0.059\n",
      "permutation 17 of 1500.  Permutation max is 7.0.  Observed max is 39.0.  P-val estimate is 0.056\n",
      "permutation 18 of 1500.  Permutation max is 33.0.  Observed max is 39.0.  P-val estimate is 0.053\n",
      "permutation 19 of 1500.  Permutation max is 35.0.  Observed max is 39.0.  P-val estimate is 0.050\n",
      "permutation 20 of 1500.  Permutation max is 33.0.  Observed max is 39.0.  P-val estimate is 0.048\n",
      "permutation 21 of 1500.  Permutation max is 13.0.  Observed max is 39.0.  P-val estimate is 0.045\n",
      "permutation 22 of 1500.  Permutation max is 18.0.  Observed max is 39.0.  P-val estimate is 0.043\n",
      "permutation 23 of 1500.  Permutation max is 33.0.  Observed max is 39.0.  P-val estimate is 0.042\n",
      "permutation 24 of 1500.  Permutation max is 32.0.  Observed max is 39.0.  P-val estimate is 0.040\n",
      "permutation 25 of 1500.  Permutation max is 41.0.  Observed max is 39.0.  P-val estimate is 0.077\n",
      "permutation 26 of 1500.  Permutation max is 34.0.  Observed max is 39.0.  P-val estimate is 0.074\n",
      "permutation 27 of 1500.  Permutation max is 28.0.  Observed max is 39.0.  P-val estimate is 0.071\n",
      "permutation 28 of 1500.  Permutation max is 22.0.  Observed max is 39.0.  P-val estimate is 0.069\n",
      "permutation 29 of 1500.  Permutation max is 25.0.  Observed max is 39.0.  P-val estimate is 0.067\n",
      "permutation 30 of 1500.  Permutation max is 31.0.  Observed max is 39.0.  P-val estimate is 0.065\n",
      "permutation 31 of 1500.  Permutation max is 17.0.  Observed max is 39.0.  P-val estimate is 0.062\n",
      "permutation 32 of 1500.  Permutation max is 27.0.  Observed max is 39.0.  P-val estimate is 0.061\n",
      "permutation 33 of 1500.  Permutation max is 6.0.  Observed max is 39.0.  P-val estimate is 0.059\n",
      "permutation 34 of 1500.  Permutation max is 28.0.  Observed max is 39.0.  P-val estimate is 0.057\n",
      "permutation 35 of 1500.  Permutation max is 30.0.  Observed max is 39.0.  P-val estimate is 0.056\n",
      "permutation 36 of 1500.  Permutation max is 20.0.  Observed max is 39.0.  P-val estimate is 0.054\n",
      "permutation 37 of 1500.  Permutation max is 24.0.  Observed max is 39.0.  P-val estimate is 0.053\n",
      "permutation 38 of 1500.  Permutation max is 16.0.  Observed max is 39.0.  P-val estimate is 0.051\n",
      "permutation 39 of 1500.  Permutation max is 24.0.  Observed max is 39.0.  P-val estimate is 0.050\n",
      "permutation 40 of 1500.  Permutation max is 24.0.  Observed max is 39.0.  P-val estimate is 0.049\n",
      "permutation 41 of 1500.  Permutation max is 27.0.  Observed max is 39.0.  P-val estimate is 0.048\n",
      "permutation 42 of 1500.  Permutation max is 34.0.  Observed max is 39.0.  P-val estimate is 0.047\n",
      "permutation 43 of 1500.  Permutation max is 23.0.  Observed max is 39.0.  P-val estimate is 0.045\n",
      "permutation 44 of 1500.  Permutation max is 24.0.  Observed max is 39.0.  P-val estimate is 0.044\n",
      "permutation 45 of 1500.  Permutation max is 26.0.  Observed max is 39.0.  P-val estimate is 0.043\n",
      "permutation 46 of 1500.  Permutation max is 25.0.  Observed max is 39.0.  P-val estimate is 0.043\n",
      "permutation 47 of 1500.  Permutation max is 16.0.  Observed max is 39.0.  P-val estimate is 0.042\n",
      "permutation 48 of 1500.  Permutation max is 28.0.  Observed max is 39.0.  P-val estimate is 0.041\n",
      "permutation 49 of 1500.  Permutation max is 18.0.  Observed max is 39.0.  P-val estimate is 0.040\n",
      "permutation 50 of 1500.  Permutation max is 26.0.  Observed max is 39.0.  P-val estimate is 0.039\n",
      "permutation 51 of 1500.  Permutation max is 40.0.  Observed max is 39.0.  P-val estimate is 0.058\n",
      "permutation 52 of 1500.  Permutation max is 24.0.  Observed max is 39.0.  P-val estimate is 0.057\n",
      "permutation 53 of 1500.  Permutation max is 17.0.  Observed max is 39.0.  P-val estimate is 0.056\n",
      "permutation 54 of 1500.  Permutation max is 7.0.  Observed max is 39.0.  P-val estimate is 0.055\n",
      "permutation 55 of 1500.  Permutation max is 37.0.  Observed max is 39.0.  P-val estimate is 0.054\n",
      "permutation 56 of 1500.  Permutation max is 36.0.  Observed max is 39.0.  P-val estimate is 0.053\n",
      "permutation 57 of 1500.  Permutation max is 25.0.  Observed max is 39.0.  P-val estimate is 0.052\n",
      "permutation 58 of 1500.  Permutation max is 32.0.  Observed max is 39.0.  P-val estimate is 0.051\n",
      "permutation 59 of 1500.  Permutation max is 28.0.  Observed max is 39.0.  P-val estimate is 0.050\n",
      "permutation 60 of 1500.  Permutation max is 32.0.  Observed max is 39.0.  P-val estimate is 0.049\n",
      "permutation 61 of 1500.  Permutation max is 7.0.  Observed max is 39.0.  P-val estimate is 0.048\n",
      "permutation 62 of 1500.  Permutation max is 15.0.  Observed max is 39.0.  P-val estimate is 0.048\n",
      "permutation 63 of 1500.  Permutation max is 24.0.  Observed max is 39.0.  P-val estimate is 0.047\n",
      "permutation 64 of 1500.  Permutation max is 25.0.  Observed max is 39.0.  P-val estimate is 0.046\n",
      "permutation 65 of 1500.  Permutation max is 38.0.  Observed max is 39.0.  P-val estimate is 0.045\n",
      "permutation 66 of 1500.  Permutation max is 28.0.  Observed max is 39.0.  P-val estimate is 0.045\n",
      "permutation 67 of 1500.  Permutation max is 24.0.  Observed max is 39.0.  P-val estimate is 0.044\n",
      "permutation 68 of 1500.  Permutation max is 24.0.  Observed max is 39.0.  P-val estimate is 0.043\n",
      "permutation 69 of 1500.  Permutation max is 24.0.  Observed max is 39.0.  P-val estimate is 0.043\n",
      "permutation 70 of 1500.  Permutation max is 36.0.  Observed max is 39.0.  P-val estimate is 0.042\n",
      "permutation 71 of 1500.  Permutation max is 12.0.  Observed max is 39.0.  P-val estimate is 0.042\n",
      "permutation 72 of 1500.  Permutation max is 28.0.  Observed max is 39.0.  P-val estimate is 0.041\n",
      "permutation 73 of 1500.  Permutation max is 27.0.  Observed max is 39.0.  P-val estimate is 0.041\n",
      "permutation 74 of 1500.  Permutation max is 45.0.  Observed max is 39.0.  P-val estimate is 0.053\n",
      "permutation 75 of 1500.  Permutation max is 33.0.  Observed max is 39.0.  P-val estimate is 0.053\n",
      "permutation 76 of 1500.  Permutation max is 35.0.  Observed max is 39.0.  P-val estimate is 0.052\n",
      "permutation 77 of 1500.  Permutation max is 20.0.  Observed max is 39.0.  P-val estimate is 0.051\n",
      "permutation 78 of 1500.  Permutation max is 18.0.  Observed max is 39.0.  P-val estimate is 0.051\n",
      "permutation 79 of 1500.  Permutation max is 12.0.  Observed max is 39.0.  P-val estimate is 0.050\n",
      "permutation 80 of 1500.  Permutation max is 25.0.  Observed max is 39.0.  P-val estimate is 0.049\n",
      "permutation 81 of 1500.  Permutation max is 19.0.  Observed max is 39.0.  P-val estimate is 0.049\n",
      "permutation 82 of 1500.  Permutation max is 23.0.  Observed max is 39.0.  P-val estimate is 0.048\n",
      "permutation 83 of 1500.  Permutation max is 20.0.  Observed max is 39.0.  P-val estimate is 0.048\n",
      "permutation 84 of 1500.  Permutation max is 28.0.  Observed max is 39.0.  P-val estimate is 0.047\n",
      "permutation 85 of 1500.  Permutation max is 26.0.  Observed max is 39.0.  P-val estimate is 0.047\n",
      "permutation 86 of 1500.  Permutation max is 32.0.  Observed max is 39.0.  P-val estimate is 0.046\n",
      "permutation 87 of 1500.  Permutation max is 23.0.  Observed max is 39.0.  P-val estimate is 0.045\n",
      "permutation 88 of 1500.  Permutation max is 21.0.  Observed max is 39.0.  P-val estimate is 0.045\n"
     ]
    },
    {
     "name": "stdout",
     "output_type": "stream",
     "text": [
      "permutation 89 of 1500.  Permutation max is 26.0.  Observed max is 39.0.  P-val estimate is 0.044\n",
      "permutation 90 of 1500.  Permutation max is 26.0.  Observed max is 39.0.  P-val estimate is 0.044\n",
      "permutation 91 of 1500.  Permutation max is 22.0.  Observed max is 39.0.  P-val estimate is 0.043\n",
      "permutation 92 of 1500.  Permutation max is 29.0.  Observed max is 39.0.  P-val estimate is 0.043\n",
      "permutation 93 of 1500.  Permutation max is 27.0.  Observed max is 39.0.  P-val estimate is 0.043\n",
      "permutation 94 of 1500.  Permutation max is 25.0.  Observed max is 39.0.  P-val estimate is 0.042\n",
      "permutation 95 of 1500.  Permutation max is 26.0.  Observed max is 39.0.  P-val estimate is 0.042\n",
      "permutation 96 of 1500.  Permutation max is 17.0.  Observed max is 39.0.  P-val estimate is 0.041\n",
      "permutation 97 of 1500.  Permutation max is 18.0.  Observed max is 39.0.  P-val estimate is 0.041\n",
      "permutation 98 of 1500.  Permutation max is 8.0.  Observed max is 39.0.  P-val estimate is 0.040\n",
      "permutation 99 of 1500.  Permutation max is 32.0.  Observed max is 39.0.  P-val estimate is 0.040\n",
      "permutation 100 of 1500.  Permutation max is 20.0.  Observed max is 39.0.  P-val estimate is 0.040\n",
      "permutation 101 of 1500.  Permutation max is 25.0.  Observed max is 39.0.  P-val estimate is 0.039\n",
      "permutation 102 of 1500.  Permutation max is 26.0.  Observed max is 39.0.  P-val estimate is 0.039\n",
      "permutation 103 of 1500.  Permutation max is 31.0.  Observed max is 39.0.  P-val estimate is 0.038\n",
      "permutation 104 of 1500.  Permutation max is 23.0.  Observed max is 39.0.  P-val estimate is 0.038\n",
      "permutation 105 of 1500.  Permutation max is 25.0.  Observed max is 39.0.  P-val estimate is 0.038\n",
      "permutation 106 of 1500.  Permutation max is 26.0.  Observed max is 39.0.  P-val estimate is 0.037\n",
      "permutation 107 of 1500.  Permutation max is 31.0.  Observed max is 39.0.  P-val estimate is 0.037\n",
      "permutation 108 of 1500.  Permutation max is 35.0.  Observed max is 39.0.  P-val estimate is 0.037\n",
      "permutation 109 of 1500.  Permutation max is 25.0.  Observed max is 39.0.  P-val estimate is 0.036\n",
      "permutation 110 of 1500.  Permutation max is 34.0.  Observed max is 39.0.  P-val estimate is 0.036\n",
      "permutation 111 of 1500.  Permutation max is 36.0.  Observed max is 39.0.  P-val estimate is 0.036\n",
      "permutation 112 of 1500.  Permutation max is 24.0.  Observed max is 39.0.  P-val estimate is 0.035\n",
      "permutation 113 of 1500.  Permutation max is 28.0.  Observed max is 39.0.  P-val estimate is 0.035\n",
      "permutation 114 of 1500.  Permutation max is 7.0.  Observed max is 39.0.  P-val estimate is 0.035\n",
      "permutation 115 of 1500.  Permutation max is 12.0.  Observed max is 39.0.  P-val estimate is 0.034\n",
      "permutation 116 of 1500.  Permutation max is 26.0.  Observed max is 39.0.  P-val estimate is 0.034\n",
      "permutation 117 of 1500.  Permutation max is 22.0.  Observed max is 39.0.  P-val estimate is 0.034\n",
      "permutation 118 of 1500.  Permutation max is 22.0.  Observed max is 39.0.  P-val estimate is 0.034\n",
      "permutation 119 of 1500.  Permutation max is 41.0.  Observed max is 39.0.  P-val estimate is 0.042\n",
      "permutation 120 of 1500.  Permutation max is 9.0.  Observed max is 39.0.  P-val estimate is 0.041\n",
      "permutation 121 of 1500.  Permutation max is 27.0.  Observed max is 39.0.  P-val estimate is 0.041\n",
      "permutation 122 of 1500.  Permutation max is 22.0.  Observed max is 39.0.  P-val estimate is 0.041\n",
      "permutation 123 of 1500.  Permutation max is 31.0.  Observed max is 39.0.  P-val estimate is 0.040\n",
      "permutation 124 of 1500.  Permutation max is 24.0.  Observed max is 39.0.  P-val estimate is 0.040\n",
      "permutation 125 of 1500.  Permutation max is 17.0.  Observed max is 39.0.  P-val estimate is 0.040\n",
      "permutation 126 of 1500.  Permutation max is 12.0.  Observed max is 39.0.  P-val estimate is 0.039\n",
      "permutation 127 of 1500.  Permutation max is 26.0.  Observed max is 39.0.  P-val estimate is 0.039\n",
      "permutation 128 of 1500.  Permutation max is 9.0.  Observed max is 39.0.  P-val estimate is 0.039\n",
      "permutation 129 of 1500.  Permutation max is 25.0.  Observed max is 39.0.  P-val estimate is 0.038\n",
      "permutation 130 of 1500.  Permutation max is 39.0.  Observed max is 39.0.  P-val estimate is 0.046\n",
      "permutation 131 of 1500.  Permutation max is 23.0.  Observed max is 39.0.  P-val estimate is 0.045\n",
      "permutation 132 of 1500.  Permutation max is 30.0.  Observed max is 39.0.  P-val estimate is 0.045\n",
      "permutation 133 of 1500.  Permutation max is 34.0.  Observed max is 39.0.  P-val estimate is 0.045\n",
      "permutation 134 of 1500.  Permutation max is 41.0.  Observed max is 39.0.  P-val estimate is 0.052\n",
      "permutation 135 of 1500.  Permutation max is 33.0.  Observed max is 39.0.  P-val estimate is 0.051\n",
      "permutation 136 of 1500.  Permutation max is 19.0.  Observed max is 39.0.  P-val estimate is 0.051\n",
      "permutation 137 of 1500.  Permutation max is 18.0.  Observed max is 39.0.  P-val estimate is 0.051\n",
      "permutation 138 of 1500.  Permutation max is 17.0.  Observed max is 39.0.  P-val estimate is 0.050\n",
      "permutation 139 of 1500.  Permutation max is 23.0.  Observed max is 39.0.  P-val estimate is 0.050\n",
      "permutation 140 of 1500.  Permutation max is 18.0.  Observed max is 39.0.  P-val estimate is 0.050\n",
      "permutation 141 of 1500.  Permutation max is 38.0.  Observed max is 39.0.  P-val estimate is 0.049\n",
      "permutation 142 of 1500.  Permutation max is 34.0.  Observed max is 39.0.  P-val estimate is 0.049\n",
      "permutation 143 of 1500.  Permutation max is 33.0.  Observed max is 39.0.  P-val estimate is 0.049\n",
      "permutation 144 of 1500.  Permutation max is 26.0.  Observed max is 39.0.  P-val estimate is 0.048\n",
      "permutation 145 of 1500.  Permutation max is 12.0.  Observed max is 39.0.  P-val estimate is 0.048\n",
      "permutation 146 of 1500.  Permutation max is 27.0.  Observed max is 39.0.  P-val estimate is 0.048\n",
      "permutation 147 of 1500.  Permutation max is 32.0.  Observed max is 39.0.  P-val estimate is 0.047\n",
      "permutation 148 of 1500.  Permutation max is 9.0.  Observed max is 39.0.  P-val estimate is 0.047\n",
      "permutation 149 of 1500.  Permutation max is 26.0.  Observed max is 39.0.  P-val estimate is 0.047\n",
      "permutation 150 of 1500.  Permutation max is 23.0.  Observed max is 39.0.  P-val estimate is 0.046\n",
      "permutation 151 of 1500.  Permutation max is 24.0.  Observed max is 39.0.  P-val estimate is 0.046\n",
      "permutation 152 of 1500.  Permutation max is 23.0.  Observed max is 39.0.  P-val estimate is 0.046\n",
      "permutation 153 of 1500.  Permutation max is 28.0.  Observed max is 39.0.  P-val estimate is 0.045\n",
      "permutation 154 of 1500.  Permutation max is 26.0.  Observed max is 39.0.  P-val estimate is 0.045\n",
      "permutation 155 of 1500.  Permutation max is 16.0.  Observed max is 39.0.  P-val estimate is 0.045\n",
      "permutation 156 of 1500.  Permutation max is 26.0.  Observed max is 39.0.  P-val estimate is 0.045\n",
      "permutation 157 of 1500.  Permutation max is 41.0.  Observed max is 39.0.  P-val estimate is 0.051\n",
      "permutation 158 of 1500.  Permutation max is 41.0.  Observed max is 39.0.  P-val estimate is 0.057\n",
      "permutation 159 of 1500.  Permutation max is 41.0.  Observed max is 39.0.  P-val estimate is 0.062\n",
      "permutation 160 of 1500.  Permutation max is 37.0.  Observed max is 39.0.  P-val estimate is 0.062\n",
      "permutation 161 of 1500.  Permutation max is 24.0.  Observed max is 39.0.  P-val estimate is 0.062\n",
      "permutation 162 of 1500.  Permutation max is 17.0.  Observed max is 39.0.  P-val estimate is 0.061\n",
      "permutation 163 of 1500.  Permutation max is 27.0.  Observed max is 39.0.  P-val estimate is 0.061\n",
      "permutation 164 of 1500.  Permutation max is 33.0.  Observed max is 39.0.  P-val estimate is 0.061\n",
      "permutation 165 of 1500.  Permutation max is 14.0.  Observed max is 39.0.  P-val estimate is 0.060\n",
      "permutation 166 of 1500.  Permutation max is 16.0.  Observed max is 39.0.  P-val estimate is 0.060\n",
      "permutation 167 of 1500.  Permutation max is 33.0.  Observed max is 39.0.  P-val estimate is 0.060\n",
      "permutation 168 of 1500.  Permutation max is 20.0.  Observed max is 39.0.  P-val estimate is 0.059\n",
      "permutation 169 of 1500.  Permutation max is 36.0.  Observed max is 39.0.  P-val estimate is 0.059\n",
      "permutation 170 of 1500.  Permutation max is 24.0.  Observed max is 39.0.  P-val estimate is 0.058\n",
      "permutation 171 of 1500.  Permutation max is 35.0.  Observed max is 39.0.  P-val estimate is 0.058\n",
      "permutation 172 of 1500.  Permutation max is 26.0.  Observed max is 39.0.  P-val estimate is 0.058\n",
      "permutation 173 of 1500.  Permutation max is 26.0.  Observed max is 39.0.  P-val estimate is 0.057\n",
      "permutation 174 of 1500.  Permutation max is 17.0.  Observed max is 39.0.  P-val estimate is 0.057\n",
      "permutation 175 of 1500.  Permutation max is 22.0.  Observed max is 39.0.  P-val estimate is 0.057\n",
      "permutation 176 of 1500.  Permutation max is 23.0.  Observed max is 39.0.  P-val estimate is 0.056\n",
      "permutation 177 of 1500.  Permutation max is 37.0.  Observed max is 39.0.  P-val estimate is 0.056\n",
      "permutation 178 of 1500.  Permutation max is 23.0.  Observed max is 39.0.  P-val estimate is 0.056\n"
     ]
    },
    {
     "name": "stdout",
     "output_type": "stream",
     "text": [
      "permutation 179 of 1500.  Permutation max is 8.0.  Observed max is 39.0.  P-val estimate is 0.056\n",
      "permutation 180 of 1500.  Permutation max is 22.0.  Observed max is 39.0.  P-val estimate is 0.055\n",
      "permutation 181 of 1500.  Permutation max is 34.0.  Observed max is 39.0.  P-val estimate is 0.055\n",
      "permutation 182 of 1500.  Permutation max is 40.0.  Observed max is 39.0.  P-val estimate is 0.060\n",
      "permutation 183 of 1500.  Permutation max is 31.0.  Observed max is 39.0.  P-val estimate is 0.060\n",
      "permutation 184 of 1500.  Permutation max is 24.0.  Observed max is 39.0.  P-val estimate is 0.059\n",
      "permutation 185 of 1500.  Permutation max is 24.0.  Observed max is 39.0.  P-val estimate is 0.059\n",
      "permutation 186 of 1500.  Permutation max is 22.0.  Observed max is 39.0.  P-val estimate is 0.059\n",
      "permutation 187 of 1500.  Permutation max is 16.0.  Observed max is 39.0.  P-val estimate is 0.059\n",
      "permutation 188 of 1500.  Permutation max is 28.0.  Observed max is 39.0.  P-val estimate is 0.058\n",
      "permutation 189 of 1500.  Permutation max is 28.0.  Observed max is 39.0.  P-val estimate is 0.058\n",
      "permutation 190 of 1500.  Permutation max is 32.0.  Observed max is 39.0.  P-val estimate is 0.058\n",
      "permutation 191 of 1500.  Permutation max is 31.0.  Observed max is 39.0.  P-val estimate is 0.057\n",
      "permutation 192 of 1500.  Permutation max is 30.0.  Observed max is 39.0.  P-val estimate is 0.057\n",
      "permutation 193 of 1500.  Permutation max is 18.0.  Observed max is 39.0.  P-val estimate is 0.057\n",
      "permutation 194 of 1500.  Permutation max is 7.0.  Observed max is 39.0.  P-val estimate is 0.056\n",
      "permutation 195 of 1500.  Permutation max is 41.0.  Observed max is 39.0.  P-val estimate is 0.061\n",
      "permutation 196 of 1500.  Permutation max is 18.0.  Observed max is 39.0.  P-val estimate is 0.061\n",
      "permutation 197 of 1500.  Permutation max is 26.0.  Observed max is 39.0.  P-val estimate is 0.061\n",
      "permutation 198 of 1500.  Permutation max is 13.0.  Observed max is 39.0.  P-val estimate is 0.060\n",
      "permutation 199 of 1500.  Permutation max is 24.0.  Observed max is 39.0.  P-val estimate is 0.060\n",
      "permutation 200 of 1500.  Permutation max is 23.0.  Observed max is 39.0.  P-val estimate is 0.060\n",
      "permutation 201 of 1500.  Permutation max is 28.0.  Observed max is 39.0.  P-val estimate is 0.059\n",
      "permutation 202 of 1500.  Permutation max is 36.0.  Observed max is 39.0.  P-val estimate is 0.059\n",
      "permutation 203 of 1500.  Permutation max is 23.0.  Observed max is 39.0.  P-val estimate is 0.059\n",
      "permutation 204 of 1500.  Permutation max is 18.0.  Observed max is 39.0.  P-val estimate is 0.059\n",
      "permutation 205 of 1500.  Permutation max is 25.0.  Observed max is 39.0.  P-val estimate is 0.058\n",
      "permutation 206 of 1500.  Permutation max is 33.0.  Observed max is 39.0.  P-val estimate is 0.058\n",
      "permutation 207 of 1500.  Permutation max is 13.0.  Observed max is 39.0.  P-val estimate is 0.058\n",
      "permutation 208 of 1500.  Permutation max is 33.0.  Observed max is 39.0.  P-val estimate is 0.057\n",
      "permutation 209 of 1500.  Permutation max is 28.0.  Observed max is 39.0.  P-val estimate is 0.057\n",
      "permutation 210 of 1500.  Permutation max is 23.0.  Observed max is 39.0.  P-val estimate is 0.057\n",
      "permutation 211 of 1500.  Permutation max is 22.0.  Observed max is 39.0.  P-val estimate is 0.057\n",
      "permutation 212 of 1500.  Permutation max is 37.0.  Observed max is 39.0.  P-val estimate is 0.056\n",
      "permutation 213 of 1500.  Permutation max is 22.0.  Observed max is 39.0.  P-val estimate is 0.056\n",
      "permutation 214 of 1500.  Permutation max is 36.0.  Observed max is 39.0.  P-val estimate is 0.056\n",
      "permutation 215 of 1500.  Permutation max is 37.0.  Observed max is 39.0.  P-val estimate is 0.056\n",
      "permutation 216 of 1500.  Permutation max is 31.0.  Observed max is 39.0.  P-val estimate is 0.055\n",
      "permutation 217 of 1500.  Permutation max is 32.0.  Observed max is 39.0.  P-val estimate is 0.055\n",
      "permutation 218 of 1500.  Permutation max is 41.0.  Observed max is 39.0.  P-val estimate is 0.059\n",
      "permutation 219 of 1500.  Permutation max is 23.0.  Observed max is 39.0.  P-val estimate is 0.059\n",
      "permutation 220 of 1500.  Permutation max is 22.0.  Observed max is 39.0.  P-val estimate is 0.059\n",
      "permutation 221 of 1500.  Permutation max is 22.0.  Observed max is 39.0.  P-val estimate is 0.059\n",
      "permutation 222 of 1500.  Permutation max is 34.0.  Observed max is 39.0.  P-val estimate is 0.058\n",
      "permutation 223 of 1500.  Permutation max is 22.0.  Observed max is 39.0.  P-val estimate is 0.058\n",
      "permutation 224 of 1500.  Permutation max is 28.0.  Observed max is 39.0.  P-val estimate is 0.058\n",
      "permutation 225 of 1500.  Permutation max is 15.0.  Observed max is 39.0.  P-val estimate is 0.058\n",
      "permutation 226 of 1500.  Permutation max is 37.0.  Observed max is 39.0.  P-val estimate is 0.057\n",
      "permutation 227 of 1500.  Permutation max is 17.0.  Observed max is 39.0.  P-val estimate is 0.057\n",
      "permutation 228 of 1500.  Permutation max is 36.0.  Observed max is 39.0.  P-val estimate is 0.057\n",
      "permutation 229 of 1500.  Permutation max is 27.0.  Observed max is 39.0.  P-val estimate is 0.057\n",
      "permutation 230 of 1500.  Permutation max is 29.0.  Observed max is 39.0.  P-val estimate is 0.056\n",
      "permutation 231 of 1500.  Permutation max is 9.0.  Observed max is 39.0.  P-val estimate is 0.056\n",
      "permutation 232 of 1500.  Permutation max is 28.0.  Observed max is 39.0.  P-val estimate is 0.056\n",
      "permutation 233 of 1500.  Permutation max is 39.0.  Observed max is 39.0.  P-val estimate is 0.060\n",
      "permutation 234 of 1500.  Permutation max is 33.0.  Observed max is 39.0.  P-val estimate is 0.060\n",
      "permutation 235 of 1500.  Permutation max is 24.0.  Observed max is 39.0.  P-val estimate is 0.059\n",
      "permutation 236 of 1500.  Permutation max is 36.0.  Observed max is 39.0.  P-val estimate is 0.059\n",
      "permutation 237 of 1500.  Permutation max is 24.0.  Observed max is 39.0.  P-val estimate is 0.059\n",
      "permutation 238 of 1500.  Permutation max is 26.0.  Observed max is 39.0.  P-val estimate is 0.059\n",
      "permutation 239 of 1500.  Permutation max is 17.0.  Observed max is 39.0.  P-val estimate is 0.058\n",
      "permutation 240 of 1500.  Permutation max is 35.0.  Observed max is 39.0.  P-val estimate is 0.058\n",
      "permutation 241 of 1500.  Permutation max is 34.0.  Observed max is 39.0.  P-val estimate is 0.058\n",
      "permutation 242 of 1500.  Permutation max is 26.0.  Observed max is 39.0.  P-val estimate is 0.058\n",
      "permutation 243 of 1500.  Permutation max is 22.0.  Observed max is 39.0.  P-val estimate is 0.057\n",
      "permutation 244 of 1500.  Permutation max is 10.0.  Observed max is 39.0.  P-val estimate is 0.057\n",
      "permutation 245 of 1500.  Permutation max is 33.0.  Observed max is 39.0.  P-val estimate is 0.057\n",
      "permutation 246 of 1500.  Permutation max is 16.0.  Observed max is 39.0.  P-val estimate is 0.057\n",
      "permutation 247 of 1500.  Permutation max is 28.0.  Observed max is 39.0.  P-val estimate is 0.056\n",
      "permutation 248 of 1500.  Permutation max is 16.0.  Observed max is 39.0.  P-val estimate is 0.056\n",
      "permutation 249 of 1500.  Permutation max is 8.0.  Observed max is 39.0.  P-val estimate is 0.056\n",
      "permutation 250 of 1500.  Permutation max is 35.0.  Observed max is 39.0.  P-val estimate is 0.056\n",
      "permutation 251 of 1500.  Permutation max is 31.0.  Observed max is 39.0.  P-val estimate is 0.056\n",
      "permutation 252 of 1500.  Permutation max is 13.0.  Observed max is 39.0.  P-val estimate is 0.055\n",
      "permutation 253 of 1500.  Permutation max is 32.0.  Observed max is 39.0.  P-val estimate is 0.055\n",
      "permutation 254 of 1500.  Permutation max is 22.0.  Observed max is 39.0.  P-val estimate is 0.055\n",
      "permutation 255 of 1500.  Permutation max is 26.0.  Observed max is 39.0.  P-val estimate is 0.055\n",
      "permutation 256 of 1500.  Permutation max is 23.0.  Observed max is 39.0.  P-val estimate is 0.054\n",
      "permutation 257 of 1500.  Permutation max is 18.0.  Observed max is 39.0.  P-val estimate is 0.054\n",
      "permutation 258 of 1500.  Permutation max is 18.0.  Observed max is 39.0.  P-val estimate is 0.054\n",
      "permutation 259 of 1500.  Permutation max is 14.0.  Observed max is 39.0.  P-val estimate is 0.054\n",
      "permutation 260 of 1500.  Permutation max is 34.0.  Observed max is 39.0.  P-val estimate is 0.054\n",
      "permutation 261 of 1500.  Permutation max is 18.0.  Observed max is 39.0.  P-val estimate is 0.053\n",
      "permutation 262 of 1500.  Permutation max is 10.0.  Observed max is 39.0.  P-val estimate is 0.053\n",
      "permutation 263 of 1500.  Permutation max is 22.0.  Observed max is 39.0.  P-val estimate is 0.053\n",
      "permutation 264 of 1500.  Permutation max is 22.0.  Observed max is 39.0.  P-val estimate is 0.053\n",
      "permutation 265 of 1500.  Permutation max is 7.0.  Observed max is 39.0.  P-val estimate is 0.053\n",
      "permutation 266 of 1500.  Permutation max is 33.0.  Observed max is 39.0.  P-val estimate is 0.052\n"
     ]
    },
    {
     "name": "stdout",
     "output_type": "stream",
     "text": [
      "permutation 267 of 1500.  Permutation max is 13.0.  Observed max is 39.0.  P-val estimate is 0.052\n",
      "permutation 268 of 1500.  Permutation max is 31.0.  Observed max is 39.0.  P-val estimate is 0.052\n",
      "permutation 269 of 1500.  Permutation max is 20.0.  Observed max is 39.0.  P-val estimate is 0.052\n",
      "permutation 270 of 1500.  Permutation max is 16.0.  Observed max is 39.0.  P-val estimate is 0.052\n",
      "permutation 271 of 1500.  Permutation max is 27.0.  Observed max is 39.0.  P-val estimate is 0.051\n",
      "permutation 272 of 1500.  Permutation max is 22.0.  Observed max is 39.0.  P-val estimate is 0.051\n",
      "permutation 273 of 1500.  Permutation max is 16.0.  Observed max is 39.0.  P-val estimate is 0.051\n",
      "permutation 274 of 1500.  Permutation max is 14.0.  Observed max is 39.0.  P-val estimate is 0.051\n",
      "permutation 275 of 1500.  Permutation max is 28.0.  Observed max is 39.0.  P-val estimate is 0.051\n",
      "permutation 276 of 1500.  Permutation max is 26.0.  Observed max is 39.0.  P-val estimate is 0.051\n",
      "permutation 277 of 1500.  Permutation max is 24.0.  Observed max is 39.0.  P-val estimate is 0.050\n",
      "permutation 278 of 1500.  Permutation max is 21.0.  Observed max is 39.0.  P-val estimate is 0.050\n",
      "permutation 279 of 1500.  Permutation max is 31.0.  Observed max is 39.0.  P-val estimate is 0.050\n",
      "permutation 280 of 1500.  Permutation max is 24.0.  Observed max is 39.0.  P-val estimate is 0.050\n",
      "permutation 281 of 1500.  Permutation max is 40.0.  Observed max is 39.0.  P-val estimate is 0.053\n",
      "permutation 282 of 1500.  Permutation max is 37.0.  Observed max is 39.0.  P-val estimate is 0.053\n",
      "permutation 283 of 1500.  Permutation max is 28.0.  Observed max is 39.0.  P-val estimate is 0.053\n",
      "permutation 284 of 1500.  Permutation max is 18.0.  Observed max is 39.0.  P-val estimate is 0.053\n",
      "permutation 285 of 1500.  Permutation max is 23.0.  Observed max is 39.0.  P-val estimate is 0.052\n",
      "permutation 286 of 1500.  Permutation max is 15.0.  Observed max is 39.0.  P-val estimate is 0.052\n",
      "permutation 287 of 1500.  Permutation max is 13.0.  Observed max is 39.0.  P-val estimate is 0.052\n",
      "permutation 288 of 1500.  Permutation max is 24.0.  Observed max is 39.0.  P-val estimate is 0.052\n",
      "permutation 289 of 1500.  Permutation max is 15.0.  Observed max is 39.0.  P-val estimate is 0.052\n",
      "permutation 290 of 1500.  Permutation max is 12.0.  Observed max is 39.0.  P-val estimate is 0.052\n",
      "permutation 291 of 1500.  Permutation max is 30.0.  Observed max is 39.0.  P-val estimate is 0.051\n",
      "permutation 292 of 1500.  Permutation max is 37.0.  Observed max is 39.0.  P-val estimate is 0.051\n",
      "permutation 293 of 1500.  Permutation max is 14.0.  Observed max is 39.0.  P-val estimate is 0.051\n",
      "permutation 294 of 1500.  Permutation max is 28.0.  Observed max is 39.0.  P-val estimate is 0.051\n",
      "permutation 295 of 1500.  Permutation max is 37.0.  Observed max is 39.0.  P-val estimate is 0.051\n",
      "permutation 296 of 1500.  Permutation max is 10.0.  Observed max is 39.0.  P-val estimate is 0.051\n",
      "permutation 297 of 1500.  Permutation max is 22.0.  Observed max is 39.0.  P-val estimate is 0.050\n",
      "permutation 298 of 1500.  Permutation max is 40.0.  Observed max is 39.0.  P-val estimate is 0.054\n",
      "permutation 299 of 1500.  Permutation max is 17.0.  Observed max is 39.0.  P-val estimate is 0.053\n",
      "permutation 300 of 1500.  Permutation max is 34.0.  Observed max is 39.0.  P-val estimate is 0.053\n",
      "permutation 301 of 1500.  Permutation max is 36.0.  Observed max is 39.0.  P-val estimate is 0.053\n",
      "permutation 302 of 1500.  Permutation max is 22.0.  Observed max is 39.0.  P-val estimate is 0.053\n",
      "permutation 303 of 1500.  Permutation max is 27.0.  Observed max is 39.0.  P-val estimate is 0.053\n",
      "permutation 304 of 1500.  Permutation max is 18.0.  Observed max is 39.0.  P-val estimate is 0.052\n",
      "permutation 305 of 1500.  Permutation max is 28.0.  Observed max is 39.0.  P-val estimate is 0.052\n",
      "permutation 306 of 1500.  Permutation max is 31.0.  Observed max is 39.0.  P-val estimate is 0.052\n",
      "permutation 307 of 1500.  Permutation max is 18.0.  Observed max is 39.0.  P-val estimate is 0.052\n",
      "permutation 308 of 1500.  Permutation max is 24.0.  Observed max is 39.0.  P-val estimate is 0.052\n",
      "permutation 309 of 1500.  Permutation max is 13.0.  Observed max is 39.0.  P-val estimate is 0.052\n",
      "permutation 310 of 1500.  Permutation max is 45.0.  Observed max is 39.0.  P-val estimate is 0.055\n",
      "permutation 311 of 1500.  Permutation max is 34.0.  Observed max is 39.0.  P-val estimate is 0.054\n",
      "permutation 312 of 1500.  Permutation max is 30.0.  Observed max is 39.0.  P-val estimate is 0.054\n",
      "permutation 313 of 1500.  Permutation max is 32.0.  Observed max is 39.0.  P-val estimate is 0.054\n",
      "permutation 314 of 1500.  Permutation max is 33.0.  Observed max is 39.0.  P-val estimate is 0.054\n",
      "permutation 315 of 1500.  Permutation max is 14.0.  Observed max is 39.0.  P-val estimate is 0.054\n",
      "permutation 316 of 1500.  Permutation max is 25.0.  Observed max is 39.0.  P-val estimate is 0.054\n",
      "permutation 317 of 1500.  Permutation max is 17.0.  Observed max is 39.0.  P-val estimate is 0.053\n",
      "permutation 318 of 1500.  Permutation max is 13.0.  Observed max is 39.0.  P-val estimate is 0.053\n",
      "permutation 319 of 1500.  Permutation max is 15.0.  Observed max is 39.0.  P-val estimate is 0.053\n",
      "permutation 320 of 1500.  Permutation max is 17.0.  Observed max is 39.0.  P-val estimate is 0.053\n",
      "permutation 321 of 1500.  Permutation max is 27.0.  Observed max is 39.0.  P-val estimate is 0.053\n",
      "permutation 322 of 1500.  Permutation max is 26.0.  Observed max is 39.0.  P-val estimate is 0.053\n",
      "permutation 323 of 1500.  Permutation max is 16.0.  Observed max is 39.0.  P-val estimate is 0.052\n",
      "permutation 324 of 1500.  Permutation max is 14.0.  Observed max is 39.0.  P-val estimate is 0.052\n",
      "permutation 325 of 1500.  Permutation max is 35.0.  Observed max is 39.0.  P-val estimate is 0.052\n",
      "permutation 326 of 1500.  Permutation max is 33.0.  Observed max is 39.0.  P-val estimate is 0.052\n",
      "permutation 327 of 1500.  Permutation max is 21.0.  Observed max is 39.0.  P-val estimate is 0.052\n",
      "permutation 328 of 1500.  Permutation max is 7.0.  Observed max is 39.0.  P-val estimate is 0.052\n",
      "permutation 329 of 1500.  Permutation max is 26.0.  Observed max is 39.0.  P-val estimate is 0.052\n",
      "permutation 330 of 1500.  Permutation max is 23.0.  Observed max is 39.0.  P-val estimate is 0.051\n",
      "permutation 331 of 1500.  Permutation max is 18.0.  Observed max is 39.0.  P-val estimate is 0.051\n",
      "permutation 332 of 1500.  Permutation max is 12.0.  Observed max is 39.0.  P-val estimate is 0.051\n",
      "permutation 333 of 1500.  Permutation max is 28.0.  Observed max is 39.0.  P-val estimate is 0.051\n",
      "permutation 334 of 1500.  Permutation max is 40.0.  Observed max is 39.0.  P-val estimate is 0.054\n",
      "permutation 335 of 1500.  Permutation max is 16.0.  Observed max is 39.0.  P-val estimate is 0.054\n",
      "permutation 336 of 1500.  Permutation max is 15.0.  Observed max is 39.0.  P-val estimate is 0.053\n",
      "permutation 337 of 1500.  Permutation max is 26.0.  Observed max is 39.0.  P-val estimate is 0.053\n",
      "permutation 338 of 1500.  Permutation max is 19.0.  Observed max is 39.0.  P-val estimate is 0.053\n",
      "permutation 339 of 1500.  Permutation max is 34.0.  Observed max is 39.0.  P-val estimate is 0.053\n",
      "permutation 340 of 1500.  Permutation max is 23.0.  Observed max is 39.0.  P-val estimate is 0.053\n",
      "permutation 341 of 1500.  Permutation max is 20.0.  Observed max is 39.0.  P-val estimate is 0.053\n",
      "permutation 342 of 1500.  Permutation max is 14.0.  Observed max is 39.0.  P-val estimate is 0.052\n",
      "permutation 343 of 1500.  Permutation max is 23.0.  Observed max is 39.0.  P-val estimate is 0.052\n",
      "permutation 344 of 1500.  Permutation max is 40.0.  Observed max is 39.0.  P-val estimate is 0.055\n",
      "permutation 345 of 1500.  Permutation max is 18.0.  Observed max is 39.0.  P-val estimate is 0.055\n",
      "permutation 346 of 1500.  Permutation max is 40.0.  Observed max is 39.0.  P-val estimate is 0.058\n",
      "permutation 347 of 1500.  Permutation max is 34.0.  Observed max is 39.0.  P-val estimate is 0.057\n",
      "permutation 348 of 1500.  Permutation max is 25.0.  Observed max is 39.0.  P-val estimate is 0.057\n",
      "permutation 349 of 1500.  Permutation max is 23.0.  Observed max is 39.0.  P-val estimate is 0.057\n",
      "permutation 350 of 1500.  Permutation max is 20.0.  Observed max is 39.0.  P-val estimate is 0.057\n",
      "permutation 351 of 1500.  Permutation max is 34.0.  Observed max is 39.0.  P-val estimate is 0.057\n",
      "permutation 352 of 1500.  Permutation max is 22.0.  Observed max is 39.0.  P-val estimate is 0.057\n",
      "permutation 353 of 1500.  Permutation max is 36.0.  Observed max is 39.0.  P-val estimate is 0.056\n",
      "permutation 354 of 1500.  Permutation max is 31.0.  Observed max is 39.0.  P-val estimate is 0.056\n",
      "permutation 355 of 1500.  Permutation max is 29.0.  Observed max is 39.0.  P-val estimate is 0.056\n"
     ]
    },
    {
     "name": "stdout",
     "output_type": "stream",
     "text": [
      "permutation 356 of 1500.  Permutation max is 32.0.  Observed max is 39.0.  P-val estimate is 0.056\n",
      "permutation 357 of 1500.  Permutation max is 24.0.  Observed max is 39.0.  P-val estimate is 0.056\n",
      "permutation 358 of 1500.  Permutation max is 7.0.  Observed max is 39.0.  P-val estimate is 0.056\n",
      "permutation 359 of 1500.  Permutation max is 24.0.  Observed max is 39.0.  P-val estimate is 0.056\n",
      "permutation 360 of 1500.  Permutation max is 32.0.  Observed max is 39.0.  P-val estimate is 0.055\n",
      "permutation 361 of 1500.  Permutation max is 17.0.  Observed max is 39.0.  P-val estimate is 0.055\n",
      "permutation 362 of 1500.  Permutation max is 16.0.  Observed max is 39.0.  P-val estimate is 0.055\n",
      "permutation 363 of 1500.  Permutation max is 15.0.  Observed max is 39.0.  P-val estimate is 0.055\n",
      "permutation 364 of 1500.  Permutation max is 27.0.  Observed max is 39.0.  P-val estimate is 0.055\n",
      "permutation 365 of 1500.  Permutation max is 13.0.  Observed max is 39.0.  P-val estimate is 0.055\n",
      "permutation 366 of 1500.  Permutation max is 22.0.  Observed max is 39.0.  P-val estimate is 0.054\n",
      "permutation 367 of 1500.  Permutation max is 18.0.  Observed max is 39.0.  P-val estimate is 0.054\n",
      "permutation 368 of 1500.  Permutation max is 24.0.  Observed max is 39.0.  P-val estimate is 0.054\n",
      "permutation 369 of 1500.  Permutation max is 38.0.  Observed max is 39.0.  P-val estimate is 0.054\n",
      "permutation 370 of 1500.  Permutation max is 18.0.  Observed max is 39.0.  P-val estimate is 0.054\n",
      "permutation 371 of 1500.  Permutation max is 25.0.  Observed max is 39.0.  P-val estimate is 0.054\n",
      "permutation 372 of 1500.  Permutation max is 17.0.  Observed max is 39.0.  P-val estimate is 0.054\n",
      "permutation 373 of 1500.  Permutation max is 28.0.  Observed max is 39.0.  P-val estimate is 0.053\n",
      "permutation 374 of 1500.  Permutation max is 26.0.  Observed max is 39.0.  P-val estimate is 0.053\n",
      "permutation 375 of 1500.  Permutation max is 33.0.  Observed max is 39.0.  P-val estimate is 0.053\n",
      "permutation 376 of 1500.  Permutation max is 34.0.  Observed max is 39.0.  P-val estimate is 0.053\n",
      "permutation 377 of 1500.  Permutation max is 31.0.  Observed max is 39.0.  P-val estimate is 0.053\n",
      "permutation 378 of 1500.  Permutation max is 17.0.  Observed max is 39.0.  P-val estimate is 0.053\n",
      "permutation 379 of 1500.  Permutation max is 8.0.  Observed max is 39.0.  P-val estimate is 0.053\n",
      "permutation 380 of 1500.  Permutation max is 10.0.  Observed max is 39.0.  P-val estimate is 0.052\n",
      "permutation 381 of 1500.  Permutation max is 25.0.  Observed max is 39.0.  P-val estimate is 0.052\n",
      "permutation 382 of 1500.  Permutation max is 23.0.  Observed max is 39.0.  P-val estimate is 0.052\n",
      "permutation 383 of 1500.  Permutation max is 26.0.  Observed max is 39.0.  P-val estimate is 0.052\n",
      "permutation 384 of 1500.  Permutation max is 39.0.  Observed max is 39.0.  P-val estimate is 0.055\n",
      "permutation 385 of 1500.  Permutation max is 14.0.  Observed max is 39.0.  P-val estimate is 0.054\n",
      "permutation 386 of 1500.  Permutation max is 34.0.  Observed max is 39.0.  P-val estimate is 0.054\n",
      "permutation 387 of 1500.  Permutation max is 20.0.  Observed max is 39.0.  P-val estimate is 0.054\n",
      "permutation 388 of 1500.  Permutation max is 40.0.  Observed max is 39.0.  P-val estimate is 0.057\n",
      "permutation 389 of 1500.  Permutation max is 18.0.  Observed max is 39.0.  P-val estimate is 0.056\n",
      "permutation 390 of 1500.  Permutation max is 34.0.  Observed max is 39.0.  P-val estimate is 0.056\n",
      "permutation 391 of 1500.  Permutation max is 26.0.  Observed max is 39.0.  P-val estimate is 0.056\n",
      "permutation 392 of 1500.  Permutation max is 37.0.  Observed max is 39.0.  P-val estimate is 0.056\n",
      "permutation 393 of 1500.  Permutation max is 40.0.  Observed max is 39.0.  P-val estimate is 0.058\n",
      "permutation 394 of 1500.  Permutation max is 24.0.  Observed max is 39.0.  P-val estimate is 0.058\n",
      "permutation 395 of 1500.  Permutation max is 24.0.  Observed max is 39.0.  P-val estimate is 0.058\n",
      "permutation 396 of 1500.  Permutation max is 35.0.  Observed max is 39.0.  P-val estimate is 0.058\n",
      "permutation 397 of 1500.  Permutation max is 11.0.  Observed max is 39.0.  P-val estimate is 0.058\n",
      "permutation 398 of 1500.  Permutation max is 19.0.  Observed max is 39.0.  P-val estimate is 0.058\n",
      "permutation 399 of 1500.  Permutation max is 17.0.  Observed max is 39.0.  P-val estimate is 0.058\n",
      "permutation 400 of 1500.  Permutation max is 28.0.  Observed max is 39.0.  P-val estimate is 0.057\n",
      "permutation 401 of 1500.  Permutation max is 28.0.  Observed max is 39.0.  P-val estimate is 0.057\n",
      "permutation 402 of 1500.  Permutation max is 37.0.  Observed max is 39.0.  P-val estimate is 0.057\n",
      "permutation 403 of 1500.  Permutation max is 34.0.  Observed max is 39.0.  P-val estimate is 0.057\n",
      "permutation 404 of 1500.  Permutation max is 24.0.  Observed max is 39.0.  P-val estimate is 0.057\n",
      "permutation 405 of 1500.  Permutation max is 40.0.  Observed max is 39.0.  P-val estimate is 0.059\n",
      "permutation 406 of 1500.  Permutation max is 32.0.  Observed max is 39.0.  P-val estimate is 0.059\n",
      "permutation 407 of 1500.  Permutation max is 12.0.  Observed max is 39.0.  P-val estimate is 0.059\n",
      "permutation 408 of 1500.  Permutation max is 16.0.  Observed max is 39.0.  P-val estimate is 0.059\n",
      "permutation 409 of 1500.  Permutation max is 22.0.  Observed max is 39.0.  P-val estimate is 0.059\n",
      "permutation 410 of 1500.  Permutation max is 45.0.  Observed max is 39.0.  P-val estimate is 0.061\n",
      "permutation 411 of 1500.  Permutation max is 23.0.  Observed max is 39.0.  P-val estimate is 0.061\n",
      "permutation 412 of 1500.  Permutation max is 21.0.  Observed max is 39.0.  P-val estimate is 0.061\n",
      "permutation 413 of 1500.  Permutation max is 17.0.  Observed max is 39.0.  P-val estimate is 0.060\n",
      "permutation 414 of 1500.  Permutation max is 34.0.  Observed max is 39.0.  P-val estimate is 0.060\n",
      "permutation 415 of 1500.  Permutation max is 6.0.  Observed max is 39.0.  P-val estimate is 0.060\n",
      "permutation 416 of 1500.  Permutation max is 15.0.  Observed max is 39.0.  P-val estimate is 0.060\n",
      "permutation 417 of 1500.  Permutation max is 34.0.  Observed max is 39.0.  P-val estimate is 0.060\n",
      "permutation 418 of 1500.  Permutation max is 34.0.  Observed max is 39.0.  P-val estimate is 0.060\n",
      "permutation 419 of 1500.  Permutation max is 31.0.  Observed max is 39.0.  P-val estimate is 0.060\n",
      "permutation 420 of 1500.  Permutation max is 33.0.  Observed max is 39.0.  P-val estimate is 0.059\n",
      "permutation 421 of 1500.  Permutation max is 23.0.  Observed max is 39.0.  P-val estimate is 0.059\n",
      "permutation 422 of 1500.  Permutation max is 6.0.  Observed max is 39.0.  P-val estimate is 0.059\n",
      "permutation 423 of 1500.  Permutation max is 32.0.  Observed max is 39.0.  P-val estimate is 0.059\n",
      "permutation 424 of 1500.  Permutation max is 29.0.  Observed max is 39.0.  P-val estimate is 0.059\n",
      "permutation 425 of 1500.  Permutation max is 24.0.  Observed max is 39.0.  P-val estimate is 0.059\n",
      "permutation 426 of 1500.  Permutation max is 23.0.  Observed max is 39.0.  P-val estimate is 0.059\n",
      "permutation 427 of 1500.  Permutation max is 23.0.  Observed max is 39.0.  P-val estimate is 0.058\n",
      "permutation 428 of 1500.  Permutation max is 24.0.  Observed max is 39.0.  P-val estimate is 0.058\n",
      "permutation 429 of 1500.  Permutation max is 34.0.  Observed max is 39.0.  P-val estimate is 0.058\n",
      "permutation 430 of 1500.  Permutation max is 26.0.  Observed max is 39.0.  P-val estimate is 0.058\n",
      "permutation 431 of 1500.  Permutation max is 22.0.  Observed max is 39.0.  P-val estimate is 0.058\n",
      "permutation 432 of 1500.  Permutation max is 18.0.  Observed max is 39.0.  P-val estimate is 0.058\n",
      "permutation 433 of 1500.  Permutation max is 41.0.  Observed max is 39.0.  P-val estimate is 0.060\n",
      "permutation 434 of 1500.  Permutation max is 24.0.  Observed max is 39.0.  P-val estimate is 0.060\n",
      "permutation 435 of 1500.  Permutation max is 31.0.  Observed max is 39.0.  P-val estimate is 0.060\n",
      "permutation 436 of 1500.  Permutation max is 12.0.  Observed max is 39.0.  P-val estimate is 0.059\n",
      "permutation 437 of 1500.  Permutation max is 8.0.  Observed max is 39.0.  P-val estimate is 0.059\n",
      "permutation 438 of 1500.  Permutation max is 41.0.  Observed max is 39.0.  P-val estimate is 0.062\n",
      "permutation 439 of 1500.  Permutation max is 8.0.  Observed max is 39.0.  P-val estimate is 0.061\n",
      "permutation 440 of 1500.  Permutation max is 13.0.  Observed max is 39.0.  P-val estimate is 0.061\n",
      "permutation 441 of 1500.  Permutation max is 26.0.  Observed max is 39.0.  P-val estimate is 0.061\n",
      "permutation 442 of 1500.  Permutation max is 16.0.  Observed max is 39.0.  P-val estimate is 0.061\n",
      "permutation 443 of 1500.  Permutation max is 30.0.  Observed max is 39.0.  P-val estimate is 0.061\n",
      "permutation 444 of 1500.  Permutation max is 10.0.  Observed max is 39.0.  P-val estimate is 0.061\n",
      "permutation 445 of 1500.  Permutation max is 15.0.  Observed max is 39.0.  P-val estimate is 0.061\n"
     ]
    },
    {
     "name": "stdout",
     "output_type": "stream",
     "text": [
      "permutation 446 of 1500.  Permutation max is 21.0.  Observed max is 39.0.  P-val estimate is 0.060\n",
      "permutation 447 of 1500.  Permutation max is 24.0.  Observed max is 39.0.  P-val estimate is 0.060\n",
      "permutation 448 of 1500.  Permutation max is 22.0.  Observed max is 39.0.  P-val estimate is 0.060\n",
      "permutation 449 of 1500.  Permutation max is 9.0.  Observed max is 39.0.  P-val estimate is 0.060\n",
      "permutation 450 of 1500.  Permutation max is 21.0.  Observed max is 39.0.  P-val estimate is 0.060\n",
      "permutation 451 of 1500.  Permutation max is 35.0.  Observed max is 39.0.  P-val estimate is 0.060\n",
      "permutation 452 of 1500.  Permutation max is 18.0.  Observed max is 39.0.  P-val estimate is 0.060\n",
      "permutation 453 of 1500.  Permutation max is 15.0.  Observed max is 39.0.  P-val estimate is 0.059\n",
      "permutation 454 of 1500.  Permutation max is 31.0.  Observed max is 39.0.  P-val estimate is 0.059\n",
      "permutation 455 of 1500.  Permutation max is 23.0.  Observed max is 39.0.  P-val estimate is 0.059\n",
      "permutation 456 of 1500.  Permutation max is 17.0.  Observed max is 39.0.  P-val estimate is 0.059\n",
      "permutation 457 of 1500.  Permutation max is 31.0.  Observed max is 39.0.  P-val estimate is 0.059\n",
      "permutation 458 of 1500.  Permutation max is 26.0.  Observed max is 39.0.  P-val estimate is 0.059\n",
      "permutation 459 of 1500.  Permutation max is 16.0.  Observed max is 39.0.  P-val estimate is 0.059\n",
      "permutation 460 of 1500.  Permutation max is 30.0.  Observed max is 39.0.  P-val estimate is 0.059\n",
      "permutation 461 of 1500.  Permutation max is 35.0.  Observed max is 39.0.  P-val estimate is 0.058\n",
      "permutation 462 of 1500.  Permutation max is 27.0.  Observed max is 39.0.  P-val estimate is 0.058\n",
      "permutation 463 of 1500.  Permutation max is 30.0.  Observed max is 39.0.  P-val estimate is 0.058\n",
      "permutation 464 of 1500.  Permutation max is 22.0.  Observed max is 39.0.  P-val estimate is 0.058\n",
      "permutation 465 of 1500.  Permutation max is 28.0.  Observed max is 39.0.  P-val estimate is 0.058\n",
      "permutation 466 of 1500.  Permutation max is 24.0.  Observed max is 39.0.  P-val estimate is 0.058\n",
      "permutation 467 of 1500.  Permutation max is 31.0.  Observed max is 39.0.  P-val estimate is 0.058\n",
      "permutation 468 of 1500.  Permutation max is 27.0.  Observed max is 39.0.  P-val estimate is 0.058\n",
      "permutation 469 of 1500.  Permutation max is 17.0.  Observed max is 39.0.  P-val estimate is 0.057\n",
      "permutation 470 of 1500.  Permutation max is 27.0.  Observed max is 39.0.  P-val estimate is 0.057\n",
      "permutation 471 of 1500.  Permutation max is 40.0.  Observed max is 39.0.  P-val estimate is 0.059\n",
      "permutation 472 of 1500.  Permutation max is 31.0.  Observed max is 39.0.  P-val estimate is 0.059\n",
      "permutation 473 of 1500.  Permutation max is 41.0.  Observed max is 39.0.  P-val estimate is 0.061\n",
      "permutation 474 of 1500.  Permutation max is 23.0.  Observed max is 39.0.  P-val estimate is 0.061\n",
      "permutation 475 of 1500.  Permutation max is 41.0.  Observed max is 39.0.  P-val estimate is 0.063\n",
      "permutation 476 of 1500.  Permutation max is 23.0.  Observed max is 39.0.  P-val estimate is 0.063\n",
      "permutation 477 of 1500.  Permutation max is 17.0.  Observed max is 39.0.  P-val estimate is 0.063\n",
      "permutation 478 of 1500.  Permutation max is 17.0.  Observed max is 39.0.  P-val estimate is 0.063\n",
      "permutation 479 of 1500.  Permutation max is 27.0.  Observed max is 39.0.  P-val estimate is 0.062\n",
      "permutation 480 of 1500.  Permutation max is 36.0.  Observed max is 39.0.  P-val estimate is 0.062\n",
      "permutation 481 of 1500.  Permutation max is 24.0.  Observed max is 39.0.  P-val estimate is 0.062\n",
      "permutation 482 of 1500.  Permutation max is 36.0.  Observed max is 39.0.  P-val estimate is 0.062\n",
      "permutation 483 of 1500.  Permutation max is 26.0.  Observed max is 39.0.  P-val estimate is 0.062\n",
      "permutation 484 of 1500.  Permutation max is 28.0.  Observed max is 39.0.  P-val estimate is 0.062\n",
      "permutation 485 of 1500.  Permutation max is 24.0.  Observed max is 39.0.  P-val estimate is 0.062\n",
      "permutation 486 of 1500.  Permutation max is 23.0.  Observed max is 39.0.  P-val estimate is 0.062\n",
      "permutation 487 of 1500.  Permutation max is 36.0.  Observed max is 39.0.  P-val estimate is 0.061\n",
      "permutation 488 of 1500.  Permutation max is 17.0.  Observed max is 39.0.  P-val estimate is 0.061\n",
      "permutation 489 of 1500.  Permutation max is 15.0.  Observed max is 39.0.  P-val estimate is 0.061\n",
      "permutation 490 of 1500.  Permutation max is 24.0.  Observed max is 39.0.  P-val estimate is 0.061\n",
      "permutation 491 of 1500.  Permutation max is 26.0.  Observed max is 39.0.  P-val estimate is 0.061\n",
      "permutation 492 of 1500.  Permutation max is 17.0.  Observed max is 39.0.  P-val estimate is 0.061\n",
      "permutation 493 of 1500.  Permutation max is 21.0.  Observed max is 39.0.  P-val estimate is 0.061\n",
      "permutation 494 of 1500.  Permutation max is 19.0.  Observed max is 39.0.  P-val estimate is 0.061\n",
      "permutation 495 of 1500.  Permutation max is 35.0.  Observed max is 39.0.  P-val estimate is 0.060\n",
      "permutation 496 of 1500.  Permutation max is 21.0.  Observed max is 39.0.  P-val estimate is 0.060\n",
      "permutation 497 of 1500.  Permutation max is 34.0.  Observed max is 39.0.  P-val estimate is 0.060\n",
      "permutation 498 of 1500.  Permutation max is 20.0.  Observed max is 39.0.  P-val estimate is 0.060\n",
      "permutation 499 of 1500.  Permutation max is 35.0.  Observed max is 39.0.  P-val estimate is 0.060\n",
      "permutation 500 of 1500.  Permutation max is 28.0.  Observed max is 39.0.  P-val estimate is 0.060\n",
      "permutation 501 of 1500.  Permutation max is 22.0.  Observed max is 39.0.  P-val estimate is 0.060\n",
      "permutation 502 of 1500.  Permutation max is 27.0.  Observed max is 39.0.  P-val estimate is 0.060\n",
      "permutation 503 of 1500.  Permutation max is 18.0.  Observed max is 39.0.  P-val estimate is 0.060\n",
      "permutation 504 of 1500.  Permutation max is 34.0.  Observed max is 39.0.  P-val estimate is 0.059\n",
      "permutation 505 of 1500.  Permutation max is 28.0.  Observed max is 39.0.  P-val estimate is 0.059\n",
      "permutation 506 of 1500.  Permutation max is 18.0.  Observed max is 39.0.  P-val estimate is 0.059\n",
      "permutation 507 of 1500.  Permutation max is 18.0.  Observed max is 39.0.  P-val estimate is 0.059\n",
      "permutation 508 of 1500.  Permutation max is 24.0.  Observed max is 39.0.  P-val estimate is 0.059\n",
      "permutation 509 of 1500.  Permutation max is 17.0.  Observed max is 39.0.  P-val estimate is 0.059\n",
      "permutation 510 of 1500.  Permutation max is 33.0.  Observed max is 39.0.  P-val estimate is 0.059\n",
      "permutation 511 of 1500.  Permutation max is 12.0.  Observed max is 39.0.  P-val estimate is 0.059\n",
      "permutation 512 of 1500.  Permutation max is 6.0.  Observed max is 39.0.  P-val estimate is 0.058\n",
      "permutation 513 of 1500.  Permutation max is 10.0.  Observed max is 39.0.  P-val estimate is 0.058\n",
      "permutation 514 of 1500.  Permutation max is 17.0.  Observed max is 39.0.  P-val estimate is 0.058\n",
      "permutation 515 of 1500.  Permutation max is 24.0.  Observed max is 39.0.  P-val estimate is 0.058\n",
      "permutation 516 of 1500.  Permutation max is 26.0.  Observed max is 39.0.  P-val estimate is 0.058\n",
      "permutation 517 of 1500.  Permutation max is 19.0.  Observed max is 39.0.  P-val estimate is 0.058\n",
      "permutation 518 of 1500.  Permutation max is 40.0.  Observed max is 39.0.  P-val estimate is 0.060\n",
      "permutation 519 of 1500.  Permutation max is 28.0.  Observed max is 39.0.  P-val estimate is 0.060\n",
      "permutation 520 of 1500.  Permutation max is 22.0.  Observed max is 39.0.  P-val estimate is 0.060\n",
      "permutation 521 of 1500.  Permutation max is 16.0.  Observed max is 39.0.  P-val estimate is 0.059\n",
      "permutation 522 of 1500.  Permutation max is 35.0.  Observed max is 39.0.  P-val estimate is 0.059\n",
      "permutation 523 of 1500.  Permutation max is 7.0.  Observed max is 39.0.  P-val estimate is 0.059\n",
      "permutation 524 of 1500.  Permutation max is 31.0.  Observed max is 39.0.  P-val estimate is 0.059\n",
      "permutation 525 of 1500.  Permutation max is 28.0.  Observed max is 39.0.  P-val estimate is 0.059\n",
      "permutation 526 of 1500.  Permutation max is 34.0.  Observed max is 39.0.  P-val estimate is 0.059\n",
      "permutation 527 of 1500.  Permutation max is 16.0.  Observed max is 39.0.  P-val estimate is 0.059\n",
      "permutation 528 of 1500.  Permutation max is 26.0.  Observed max is 39.0.  P-val estimate is 0.059\n",
      "permutation 529 of 1500.  Permutation max is 19.0.  Observed max is 39.0.  P-val estimate is 0.058\n",
      "permutation 530 of 1500.  Permutation max is 32.0.  Observed max is 39.0.  P-val estimate is 0.058\n",
      "permutation 531 of 1500.  Permutation max is 16.0.  Observed max is 39.0.  P-val estimate is 0.058\n",
      "permutation 532 of 1500.  Permutation max is 12.0.  Observed max is 39.0.  P-val estimate is 0.058\n",
      "permutation 533 of 1500.  Permutation max is 35.0.  Observed max is 39.0.  P-val estimate is 0.058\n",
      "permutation 534 of 1500.  Permutation max is 17.0.  Observed max is 39.0.  P-val estimate is 0.058\n",
      "permutation 535 of 1500.  Permutation max is 21.0.  Observed max is 39.0.  P-val estimate is 0.058\n"
     ]
    },
    {
     "name": "stdout",
     "output_type": "stream",
     "text": [
      "permutation 536 of 1500.  Permutation max is 27.0.  Observed max is 39.0.  P-val estimate is 0.058\n",
      "permutation 537 of 1500.  Permutation max is 25.0.  Observed max is 39.0.  P-val estimate is 0.058\n",
      "permutation 538 of 1500.  Permutation max is 13.0.  Observed max is 39.0.  P-val estimate is 0.058\n",
      "permutation 539 of 1500.  Permutation max is 31.0.  Observed max is 39.0.  P-val estimate is 0.057\n",
      "permutation 540 of 1500.  Permutation max is 28.0.  Observed max is 39.0.  P-val estimate is 0.057\n",
      "permutation 541 of 1500.  Permutation max is 31.0.  Observed max is 39.0.  P-val estimate is 0.057\n",
      "permutation 542 of 1500.  Permutation max is 32.0.  Observed max is 39.0.  P-val estimate is 0.057\n",
      "permutation 543 of 1500.  Permutation max is 11.0.  Observed max is 39.0.  P-val estimate is 0.057\n",
      "permutation 544 of 1500.  Permutation max is 23.0.  Observed max is 39.0.  P-val estimate is 0.057\n",
      "permutation 545 of 1500.  Permutation max is 36.0.  Observed max is 39.0.  P-val estimate is 0.057\n",
      "permutation 546 of 1500.  Permutation max is 18.0.  Observed max is 39.0.  P-val estimate is 0.057\n",
      "permutation 547 of 1500.  Permutation max is 15.0.  Observed max is 39.0.  P-val estimate is 0.057\n",
      "permutation 548 of 1500.  Permutation max is 19.0.  Observed max is 39.0.  P-val estimate is 0.056\n",
      "permutation 549 of 1500.  Permutation max is 26.0.  Observed max is 39.0.  P-val estimate is 0.056\n",
      "permutation 550 of 1500.  Permutation max is 37.0.  Observed max is 39.0.  P-val estimate is 0.056\n",
      "permutation 551 of 1500.  Permutation max is 23.0.  Observed max is 39.0.  P-val estimate is 0.056\n",
      "permutation 552 of 1500.  Permutation max is 16.0.  Observed max is 39.0.  P-val estimate is 0.056\n",
      "permutation 553 of 1500.  Permutation max is 34.0.  Observed max is 39.0.  P-val estimate is 0.056\n",
      "permutation 554 of 1500.  Permutation max is 28.0.  Observed max is 39.0.  P-val estimate is 0.056\n",
      "permutation 555 of 1500.  Permutation max is 28.0.  Observed max is 39.0.  P-val estimate is 0.056\n",
      "permutation 556 of 1500.  Permutation max is 16.0.  Observed max is 39.0.  P-val estimate is 0.056\n",
      "permutation 557 of 1500.  Permutation max is 40.0.  Observed max is 39.0.  P-val estimate is 0.057\n",
      "permutation 558 of 1500.  Permutation max is 24.0.  Observed max is 39.0.  P-val estimate is 0.057\n",
      "permutation 559 of 1500.  Permutation max is 37.0.  Observed max is 39.0.  P-val estimate is 0.057\n",
      "permutation 560 of 1500.  Permutation max is 39.0.  Observed max is 39.0.  P-val estimate is 0.059\n",
      "permutation 561 of 1500.  Permutation max is 13.0.  Observed max is 39.0.  P-val estimate is 0.059\n",
      "permutation 562 of 1500.  Permutation max is 38.0.  Observed max is 39.0.  P-val estimate is 0.059\n",
      "permutation 563 of 1500.  Permutation max is 33.0.  Observed max is 39.0.  P-val estimate is 0.059\n",
      "permutation 564 of 1500.  Permutation max is 26.0.  Observed max is 39.0.  P-val estimate is 0.058\n",
      "permutation 565 of 1500.  Permutation max is 26.0.  Observed max is 39.0.  P-val estimate is 0.058\n",
      "permutation 566 of 1500.  Permutation max is 17.0.  Observed max is 39.0.  P-val estimate is 0.058\n",
      "permutation 567 of 1500.  Permutation max is 20.0.  Observed max is 39.0.  P-val estimate is 0.058\n",
      "permutation 568 of 1500.  Permutation max is 15.0.  Observed max is 39.0.  P-val estimate is 0.058\n",
      "permutation 569 of 1500.  Permutation max is 37.0.  Observed max is 39.0.  P-val estimate is 0.058\n",
      "permutation 570 of 1500.  Permutation max is 13.0.  Observed max is 39.0.  P-val estimate is 0.058\n",
      "permutation 571 of 1500.  Permutation max is 23.0.  Observed max is 39.0.  P-val estimate is 0.058\n",
      "permutation 572 of 1500.  Permutation max is 24.0.  Observed max is 39.0.  P-val estimate is 0.058\n",
      "permutation 573 of 1500.  Permutation max is 24.0.  Observed max is 39.0.  P-val estimate is 0.057\n",
      "permutation 574 of 1500.  Permutation max is 18.0.  Observed max is 39.0.  P-val estimate is 0.057\n",
      "permutation 575 of 1500.  Permutation max is 25.0.  Observed max is 39.0.  P-val estimate is 0.057\n",
      "permutation 576 of 1500.  Permutation max is 45.0.  Observed max is 39.0.  P-val estimate is 0.059\n",
      "permutation 577 of 1500.  Permutation max is 18.0.  Observed max is 39.0.  P-val estimate is 0.059\n",
      "permutation 578 of 1500.  Permutation max is 19.0.  Observed max is 39.0.  P-val estimate is 0.059\n",
      "permutation 579 of 1500.  Permutation max is 10.0.  Observed max is 39.0.  P-val estimate is 0.059\n",
      "permutation 580 of 1500.  Permutation max is 31.0.  Observed max is 39.0.  P-val estimate is 0.059\n",
      "permutation 581 of 1500.  Permutation max is 26.0.  Observed max is 39.0.  P-val estimate is 0.058\n",
      "permutation 582 of 1500.  Permutation max is 18.0.  Observed max is 39.0.  P-val estimate is 0.058\n",
      "permutation 583 of 1500.  Permutation max is 17.0.  Observed max is 39.0.  P-val estimate is 0.058\n",
      "permutation 584 of 1500.  Permutation max is 14.0.  Observed max is 39.0.  P-val estimate is 0.058\n",
      "permutation 585 of 1500.  Permutation max is 34.0.  Observed max is 39.0.  P-val estimate is 0.058\n",
      "permutation 586 of 1500.  Permutation max is 31.0.  Observed max is 39.0.  P-val estimate is 0.058\n",
      "permutation 587 of 1500.  Permutation max is 18.0.  Observed max is 39.0.  P-val estimate is 0.058\n",
      "permutation 588 of 1500.  Permutation max is 35.0.  Observed max is 39.0.  P-val estimate is 0.058\n",
      "permutation 589 of 1500.  Permutation max is 16.0.  Observed max is 39.0.  P-val estimate is 0.058\n",
      "permutation 590 of 1500.  Permutation max is 17.0.  Observed max is 39.0.  P-val estimate is 0.058\n",
      "permutation 591 of 1500.  Permutation max is 17.0.  Observed max is 39.0.  P-val estimate is 0.057\n",
      "permutation 592 of 1500.  Permutation max is 22.0.  Observed max is 39.0.  P-val estimate is 0.057\n",
      "permutation 593 of 1500.  Permutation max is 7.0.  Observed max is 39.0.  P-val estimate is 0.057\n",
      "permutation 594 of 1500.  Permutation max is 16.0.  Observed max is 39.0.  P-val estimate is 0.057\n",
      "permutation 595 of 1500.  Permutation max is 45.0.  Observed max is 39.0.  P-val estimate is 0.059\n",
      "permutation 596 of 1500.  Permutation max is 30.0.  Observed max is 39.0.  P-val estimate is 0.059\n",
      "permutation 597 of 1500.  Permutation max is 23.0.  Observed max is 39.0.  P-val estimate is 0.059\n",
      "permutation 598 of 1500.  Permutation max is 28.0.  Observed max is 39.0.  P-val estimate is 0.058\n",
      "permutation 599 of 1500.  Permutation max is 34.0.  Observed max is 39.0.  P-val estimate is 0.058\n",
      "permutation 600 of 1500.  Permutation max is 20.0.  Observed max is 39.0.  P-val estimate is 0.058\n",
      "permutation 601 of 1500.  Permutation max is 14.0.  Observed max is 39.0.  P-val estimate is 0.058\n",
      "permutation 602 of 1500.  Permutation max is 33.0.  Observed max is 39.0.  P-val estimate is 0.058\n",
      "permutation 603 of 1500.  Permutation max is 7.0.  Observed max is 39.0.  P-val estimate is 0.058\n",
      "permutation 604 of 1500.  Permutation max is 37.0.  Observed max is 39.0.  P-val estimate is 0.058\n",
      "permutation 605 of 1500.  Permutation max is 23.0.  Observed max is 39.0.  P-val estimate is 0.058\n",
      "permutation 606 of 1500.  Permutation max is 37.0.  Observed max is 39.0.  P-val estimate is 0.058\n",
      "permutation 607 of 1500.  Permutation max is 32.0.  Observed max is 39.0.  P-val estimate is 0.058\n",
      "permutation 608 of 1500.  Permutation max is 39.0.  Observed max is 39.0.  P-val estimate is 0.059\n",
      "permutation 609 of 1500.  Permutation max is 26.0.  Observed max is 39.0.  P-val estimate is 0.059\n",
      "permutation 610 of 1500.  Permutation max is 7.0.  Observed max is 39.0.  P-val estimate is 0.059\n",
      "permutation 611 of 1500.  Permutation max is 25.0.  Observed max is 39.0.  P-val estimate is 0.059\n",
      "permutation 612 of 1500.  Permutation max is 6.0.  Observed max is 39.0.  P-val estimate is 0.059\n",
      "permutation 613 of 1500.  Permutation max is 26.0.  Observed max is 39.0.  P-val estimate is 0.059\n",
      "permutation 614 of 1500.  Permutation max is 25.0.  Observed max is 39.0.  P-val estimate is 0.059\n",
      "permutation 615 of 1500.  Permutation max is 40.0.  Observed max is 39.0.  P-val estimate is 0.060\n",
      "permutation 616 of 1500.  Permutation max is 36.0.  Observed max is 39.0.  P-val estimate is 0.060\n",
      "permutation 617 of 1500.  Permutation max is 35.0.  Observed max is 39.0.  P-val estimate is 0.060\n",
      "permutation 618 of 1500.  Permutation max is 19.0.  Observed max is 39.0.  P-val estimate is 0.060\n",
      "permutation 619 of 1500.  Permutation max is 14.0.  Observed max is 39.0.  P-val estimate is 0.060\n",
      "permutation 620 of 1500.  Permutation max is 18.0.  Observed max is 39.0.  P-val estimate is 0.060\n",
      "permutation 621 of 1500.  Permutation max is 22.0.  Observed max is 39.0.  P-val estimate is 0.059\n",
      "permutation 622 of 1500.  Permutation max is 34.0.  Observed max is 39.0.  P-val estimate is 0.059\n",
      "permutation 623 of 1500.  Permutation max is 25.0.  Observed max is 39.0.  P-val estimate is 0.059\n",
      "permutation 624 of 1500.  Permutation max is 18.0.  Observed max is 39.0.  P-val estimate is 0.059\n",
      "permutation 625 of 1500.  Permutation max is 22.0.  Observed max is 39.0.  P-val estimate is 0.059\n"
     ]
    },
    {
     "name": "stdout",
     "output_type": "stream",
     "text": [
      "permutation 626 of 1500.  Permutation max is 35.0.  Observed max is 39.0.  P-val estimate is 0.059\n",
      "permutation 627 of 1500.  Permutation max is 22.0.  Observed max is 39.0.  P-val estimate is 0.059\n",
      "permutation 628 of 1500.  Permutation max is 17.0.  Observed max is 39.0.  P-val estimate is 0.059\n",
      "permutation 629 of 1500.  Permutation max is 12.0.  Observed max is 39.0.  P-val estimate is 0.059\n",
      "permutation 630 of 1500.  Permutation max is 25.0.  Observed max is 39.0.  P-val estimate is 0.059\n",
      "permutation 631 of 1500.  Permutation max is 18.0.  Observed max is 39.0.  P-val estimate is 0.059\n",
      "permutation 632 of 1500.  Permutation max is 26.0.  Observed max is 39.0.  P-val estimate is 0.058\n",
      "permutation 633 of 1500.  Permutation max is 14.0.  Observed max is 39.0.  P-val estimate is 0.058\n",
      "permutation 634 of 1500.  Permutation max is 15.0.  Observed max is 39.0.  P-val estimate is 0.058\n",
      "permutation 635 of 1500.  Permutation max is 16.0.  Observed max is 39.0.  P-val estimate is 0.058\n",
      "permutation 636 of 1500.  Permutation max is 9.0.  Observed max is 39.0.  P-val estimate is 0.058\n",
      "permutation 637 of 1500.  Permutation max is 26.0.  Observed max is 39.0.  P-val estimate is 0.058\n",
      "permutation 638 of 1500.  Permutation max is 27.0.  Observed max is 39.0.  P-val estimate is 0.058\n",
      "permutation 639 of 1500.  Permutation max is 26.0.  Observed max is 39.0.  P-val estimate is 0.058\n",
      "permutation 640 of 1500.  Permutation max is 13.0.  Observed max is 39.0.  P-val estimate is 0.058\n",
      "permutation 641 of 1500.  Permutation max is 22.0.  Observed max is 39.0.  P-val estimate is 0.058\n",
      "permutation 642 of 1500.  Permutation max is 31.0.  Observed max is 39.0.  P-val estimate is 0.058\n",
      "permutation 643 of 1500.  Permutation max is 28.0.  Observed max is 39.0.  P-val estimate is 0.057\n",
      "permutation 644 of 1500.  Permutation max is 31.0.  Observed max is 39.0.  P-val estimate is 0.057\n",
      "permutation 645 of 1500.  Permutation max is 13.0.  Observed max is 39.0.  P-val estimate is 0.057\n",
      "permutation 646 of 1500.  Permutation max is 8.0.  Observed max is 39.0.  P-val estimate is 0.057\n",
      "permutation 647 of 1500.  Permutation max is 25.0.  Observed max is 39.0.  P-val estimate is 0.057\n",
      "permutation 648 of 1500.  Permutation max is 16.0.  Observed max is 39.0.  P-val estimate is 0.057\n",
      "permutation 649 of 1500.  Permutation max is 11.0.  Observed max is 39.0.  P-val estimate is 0.057\n",
      "permutation 650 of 1500.  Permutation max is 31.0.  Observed max is 39.0.  P-val estimate is 0.057\n",
      "permutation 651 of 1500.  Permutation max is 18.0.  Observed max is 39.0.  P-val estimate is 0.057\n",
      "permutation 652 of 1500.  Permutation max is 17.0.  Observed max is 39.0.  P-val estimate is 0.057\n",
      "permutation 653 of 1500.  Permutation max is 21.0.  Observed max is 39.0.  P-val estimate is 0.057\n",
      "permutation 654 of 1500.  Permutation max is 41.0.  Observed max is 39.0.  P-val estimate is 0.058\n",
      "permutation 655 of 1500.  Permutation max is 17.0.  Observed max is 39.0.  P-val estimate is 0.058\n",
      "permutation 656 of 1500.  Permutation max is 13.0.  Observed max is 39.0.  P-val estimate is 0.058\n",
      "permutation 657 of 1500.  Permutation max is 17.0.  Observed max is 39.0.  P-val estimate is 0.058\n",
      "permutation 658 of 1500.  Permutation max is 13.0.  Observed max is 39.0.  P-val estimate is 0.058\n",
      "permutation 659 of 1500.  Permutation max is 40.0.  Observed max is 39.0.  P-val estimate is 0.059\n",
      "permutation 660 of 1500.  Permutation max is 37.0.  Observed max is 39.0.  P-val estimate is 0.059\n",
      "permutation 661 of 1500.  Permutation max is 35.0.  Observed max is 39.0.  P-val estimate is 0.059\n",
      "permutation 662 of 1500.  Permutation max is 25.0.  Observed max is 39.0.  P-val estimate is 0.059\n",
      "permutation 663 of 1500.  Permutation max is 35.0.  Observed max is 39.0.  P-val estimate is 0.059\n",
      "permutation 664 of 1500.  Permutation max is 21.0.  Observed max is 39.0.  P-val estimate is 0.059\n",
      "permutation 665 of 1500.  Permutation max is 17.0.  Observed max is 39.0.  P-val estimate is 0.059\n",
      "permutation 666 of 1500.  Permutation max is 31.0.  Observed max is 39.0.  P-val estimate is 0.058\n",
      "permutation 667 of 1500.  Permutation max is 19.0.  Observed max is 39.0.  P-val estimate is 0.058\n",
      "permutation 668 of 1500.  Permutation max is 37.0.  Observed max is 39.0.  P-val estimate is 0.058\n",
      "permutation 669 of 1500.  Permutation max is 45.0.  Observed max is 39.0.  P-val estimate is 0.060\n",
      "permutation 670 of 1500.  Permutation max is 17.0.  Observed max is 39.0.  P-val estimate is 0.060\n",
      "permutation 671 of 1500.  Permutation max is 20.0.  Observed max is 39.0.  P-val estimate is 0.060\n",
      "permutation 672 of 1500.  Permutation max is 25.0.  Observed max is 39.0.  P-val estimate is 0.059\n",
      "permutation 673 of 1500.  Permutation max is 31.0.  Observed max is 39.0.  P-val estimate is 0.059\n",
      "permutation 674 of 1500.  Permutation max is 23.0.  Observed max is 39.0.  P-val estimate is 0.059\n",
      "permutation 675 of 1500.  Permutation max is 25.0.  Observed max is 39.0.  P-val estimate is 0.059\n",
      "permutation 676 of 1500.  Permutation max is 40.0.  Observed max is 39.0.  P-val estimate is 0.061\n",
      "permutation 677 of 1500.  Permutation max is 15.0.  Observed max is 39.0.  P-val estimate is 0.060\n",
      "permutation 678 of 1500.  Permutation max is 7.0.  Observed max is 39.0.  P-val estimate is 0.060\n",
      "permutation 679 of 1500.  Permutation max is 32.0.  Observed max is 39.0.  P-val estimate is 0.060\n",
      "permutation 680 of 1500.  Permutation max is 24.0.  Observed max is 39.0.  P-val estimate is 0.060\n",
      "permutation 681 of 1500.  Permutation max is 34.0.  Observed max is 39.0.  P-val estimate is 0.060\n",
      "permutation 682 of 1500.  Permutation max is 34.0.  Observed max is 39.0.  P-val estimate is 0.060\n",
      "permutation 683 of 1500.  Permutation max is 16.0.  Observed max is 39.0.  P-val estimate is 0.060\n",
      "permutation 684 of 1500.  Permutation max is 17.0.  Observed max is 39.0.  P-val estimate is 0.060\n",
      "permutation 685 of 1500.  Permutation max is 18.0.  Observed max is 39.0.  P-val estimate is 0.060\n",
      "permutation 686 of 1500.  Permutation max is 27.0.  Observed max is 39.0.  P-val estimate is 0.060\n",
      "permutation 687 of 1500.  Permutation max is 26.0.  Observed max is 39.0.  P-val estimate is 0.060\n",
      "permutation 688 of 1500.  Permutation max is 25.0.  Observed max is 39.0.  P-val estimate is 0.060\n",
      "permutation 689 of 1500.  Permutation max is 16.0.  Observed max is 39.0.  P-val estimate is 0.059\n",
      "permutation 690 of 1500.  Permutation max is 15.0.  Observed max is 39.0.  P-val estimate is 0.059\n",
      "permutation 691 of 1500.  Permutation max is 21.0.  Observed max is 39.0.  P-val estimate is 0.059\n",
      "permutation 692 of 1500.  Permutation max is 20.0.  Observed max is 39.0.  P-val estimate is 0.059\n",
      "permutation 693 of 1500.  Permutation max is 14.0.  Observed max is 39.0.  P-val estimate is 0.059\n",
      "permutation 694 of 1500.  Permutation max is 32.0.  Observed max is 39.0.  P-val estimate is 0.059\n",
      "permutation 695 of 1500.  Permutation max is 23.0.  Observed max is 39.0.  P-val estimate is 0.059\n",
      "permutation 696 of 1500.  Permutation max is 31.0.  Observed max is 39.0.  P-val estimate is 0.059\n",
      "permutation 697 of 1500.  Permutation max is 23.0.  Observed max is 39.0.  P-val estimate is 0.059\n",
      "permutation 698 of 1500.  Permutation max is 12.0.  Observed max is 39.0.  P-val estimate is 0.059\n",
      "permutation 699 of 1500.  Permutation max is 31.0.  Observed max is 39.0.  P-val estimate is 0.059\n",
      "permutation 700 of 1500.  Permutation max is 45.0.  Observed max is 39.0.  P-val estimate is 0.060\n",
      "permutation 701 of 1500.  Permutation max is 27.0.  Observed max is 39.0.  P-val estimate is 0.060\n",
      "permutation 702 of 1500.  Permutation max is 23.0.  Observed max is 39.0.  P-val estimate is 0.060\n",
      "permutation 703 of 1500.  Permutation max is 25.0.  Observed max is 39.0.  P-val estimate is 0.060\n",
      "permutation 704 of 1500.  Permutation max is 32.0.  Observed max is 39.0.  P-val estimate is 0.060\n",
      "permutation 705 of 1500.  Permutation max is 11.0.  Observed max is 39.0.  P-val estimate is 0.059\n",
      "permutation 706 of 1500.  Permutation max is 26.0.  Observed max is 39.0.  P-val estimate is 0.059\n",
      "permutation 707 of 1500.  Permutation max is 17.0.  Observed max is 39.0.  P-val estimate is 0.059\n",
      "permutation 708 of 1500.  Permutation max is 36.0.  Observed max is 39.0.  P-val estimate is 0.059\n",
      "permutation 709 of 1500.  Permutation max is 45.0.  Observed max is 39.0.  P-val estimate is 0.061\n",
      "permutation 710 of 1500.  Permutation max is 8.0.  Observed max is 39.0.  P-val estimate is 0.060\n",
      "permutation 711 of 1500.  Permutation max is 24.0.  Observed max is 39.0.  P-val estimate is 0.060\n",
      "permutation 712 of 1500.  Permutation max is 19.0.  Observed max is 39.0.  P-val estimate is 0.060\n",
      "permutation 713 of 1500.  Permutation max is 13.0.  Observed max is 39.0.  P-val estimate is 0.060\n",
      "permutation 714 of 1500.  Permutation max is 12.0.  Observed max is 39.0.  P-val estimate is 0.060\n",
      "permutation 715 of 1500.  Permutation max is 24.0.  Observed max is 39.0.  P-val estimate is 0.060\n"
     ]
    },
    {
     "name": "stdout",
     "output_type": "stream",
     "text": [
      "permutation 716 of 1500.  Permutation max is 41.0.  Observed max is 39.0.  P-val estimate is 0.061\n",
      "permutation 717 of 1500.  Permutation max is 26.0.  Observed max is 39.0.  P-val estimate is 0.061\n",
      "permutation 718 of 1500.  Permutation max is 34.0.  Observed max is 39.0.  P-val estimate is 0.061\n",
      "permutation 719 of 1500.  Permutation max is 16.0.  Observed max is 39.0.  P-val estimate is 0.061\n",
      "permutation 720 of 1500.  Permutation max is 28.0.  Observed max is 39.0.  P-val estimate is 0.061\n",
      "permutation 721 of 1500.  Permutation max is 28.0.  Observed max is 39.0.  P-val estimate is 0.061\n",
      "permutation 722 of 1500.  Permutation max is 26.0.  Observed max is 39.0.  P-val estimate is 0.061\n",
      "permutation 723 of 1500.  Permutation max is 18.0.  Observed max is 39.0.  P-val estimate is 0.061\n",
      "permutation 724 of 1500.  Permutation max is 24.0.  Observed max is 39.0.  P-val estimate is 0.061\n",
      "permutation 725 of 1500.  Permutation max is 40.0.  Observed max is 39.0.  P-val estimate is 0.062\n",
      "permutation 726 of 1500.  Permutation max is 20.0.  Observed max is 39.0.  P-val estimate is 0.062\n",
      "permutation 727 of 1500.  Permutation max is 18.0.  Observed max is 39.0.  P-val estimate is 0.062\n",
      "permutation 728 of 1500.  Permutation max is 34.0.  Observed max is 39.0.  P-val estimate is 0.062\n",
      "permutation 729 of 1500.  Permutation max is 12.0.  Observed max is 39.0.  P-val estimate is 0.062\n",
      "permutation 730 of 1500.  Permutation max is 17.0.  Observed max is 39.0.  P-val estimate is 0.062\n",
      "permutation 731 of 1500.  Permutation max is 19.0.  Observed max is 39.0.  P-val estimate is 0.061\n",
      "permutation 732 of 1500.  Permutation max is 41.0.  Observed max is 39.0.  P-val estimate is 0.063\n",
      "permutation 733 of 1500.  Permutation max is 17.0.  Observed max is 39.0.  P-val estimate is 0.063\n",
      "permutation 734 of 1500.  Permutation max is 30.0.  Observed max is 39.0.  P-val estimate is 0.063\n",
      "permutation 735 of 1500.  Permutation max is 26.0.  Observed max is 39.0.  P-val estimate is 0.062\n",
      "permutation 736 of 1500.  Permutation max is 19.0.  Observed max is 39.0.  P-val estimate is 0.062\n",
      "permutation 737 of 1500.  Permutation max is 18.0.  Observed max is 39.0.  P-val estimate is 0.062\n",
      "permutation 738 of 1500.  Permutation max is 16.0.  Observed max is 39.0.  P-val estimate is 0.062\n",
      "permutation 739 of 1500.  Permutation max is 26.0.  Observed max is 39.0.  P-val estimate is 0.062\n",
      "permutation 740 of 1500.  Permutation max is 31.0.  Observed max is 39.0.  P-val estimate is 0.062\n",
      "permutation 741 of 1500.  Permutation max is 31.0.  Observed max is 39.0.  P-val estimate is 0.062\n",
      "permutation 742 of 1500.  Permutation max is 29.0.  Observed max is 39.0.  P-val estimate is 0.062\n",
      "permutation 743 of 1500.  Permutation max is 21.0.  Observed max is 39.0.  P-val estimate is 0.062\n",
      "permutation 744 of 1500.  Permutation max is 13.0.  Observed max is 39.0.  P-val estimate is 0.062\n",
      "permutation 745 of 1500.  Permutation max is 32.0.  Observed max is 39.0.  P-val estimate is 0.062\n",
      "permutation 746 of 1500.  Permutation max is 41.0.  Observed max is 39.0.  P-val estimate is 0.063\n",
      "permutation 747 of 1500.  Permutation max is 26.0.  Observed max is 39.0.  P-val estimate is 0.063\n",
      "permutation 748 of 1500.  Permutation max is 14.0.  Observed max is 39.0.  P-val estimate is 0.063\n",
      "permutation 749 of 1500.  Permutation max is 29.0.  Observed max is 39.0.  P-val estimate is 0.063\n",
      "permutation 750 of 1500.  Permutation max is 31.0.  Observed max is 39.0.  P-val estimate is 0.063\n",
      "permutation 751 of 1500.  Permutation max is 31.0.  Observed max is 39.0.  P-val estimate is 0.062\n",
      "permutation 752 of 1500.  Permutation max is 30.0.  Observed max is 39.0.  P-val estimate is 0.062\n",
      "permutation 753 of 1500.  Permutation max is 22.0.  Observed max is 39.0.  P-val estimate is 0.062\n",
      "permutation 754 of 1500.  Permutation max is 33.0.  Observed max is 39.0.  P-val estimate is 0.062\n",
      "permutation 755 of 1500.  Permutation max is 31.0.  Observed max is 39.0.  P-val estimate is 0.062\n",
      "permutation 756 of 1500.  Permutation max is 30.0.  Observed max is 39.0.  P-val estimate is 0.062\n",
      "permutation 757 of 1500.  Permutation max is 13.0.  Observed max is 39.0.  P-val estimate is 0.062\n",
      "permutation 758 of 1500.  Permutation max is 16.0.  Observed max is 39.0.  P-val estimate is 0.062\n",
      "permutation 759 of 1500.  Permutation max is 24.0.  Observed max is 39.0.  P-val estimate is 0.062\n",
      "permutation 760 of 1500.  Permutation max is 32.0.  Observed max is 39.0.  P-val estimate is 0.062\n",
      "permutation 761 of 1500.  Permutation max is 8.0.  Observed max is 39.0.  P-val estimate is 0.062\n",
      "permutation 762 of 1500.  Permutation max is 6.0.  Observed max is 39.0.  P-val estimate is 0.062\n",
      "permutation 763 of 1500.  Permutation max is 18.0.  Observed max is 39.0.  P-val estimate is 0.062\n",
      "permutation 764 of 1500.  Permutation max is 27.0.  Observed max is 39.0.  P-val estimate is 0.061\n",
      "permutation 765 of 1500.  Permutation max is 39.0.  Observed max is 39.0.  P-val estimate is 0.063\n",
      "permutation 766 of 1500.  Permutation max is 15.0.  Observed max is 39.0.  P-val estimate is 0.063\n",
      "permutation 767 of 1500.  Permutation max is 12.0.  Observed max is 39.0.  P-val estimate is 0.062\n",
      "permutation 768 of 1500.  Permutation max is 19.0.  Observed max is 39.0.  P-val estimate is 0.062\n",
      "permutation 769 of 1500.  Permutation max is 31.0.  Observed max is 39.0.  P-val estimate is 0.062\n",
      "permutation 770 of 1500.  Permutation max is 26.0.  Observed max is 39.0.  P-val estimate is 0.062\n",
      "permutation 771 of 1500.  Permutation max is 18.0.  Observed max is 39.0.  P-val estimate is 0.062\n",
      "permutation 772 of 1500.  Permutation max is 34.0.  Observed max is 39.0.  P-val estimate is 0.062\n",
      "permutation 773 of 1500.  Permutation max is 22.0.  Observed max is 39.0.  P-val estimate is 0.062\n",
      "permutation 774 of 1500.  Permutation max is 25.0.  Observed max is 39.0.  P-val estimate is 0.062\n",
      "permutation 775 of 1500.  Permutation max is 17.0.  Observed max is 39.0.  P-val estimate is 0.062\n",
      "permutation 776 of 1500.  Permutation max is 23.0.  Observed max is 39.0.  P-val estimate is 0.062\n",
      "permutation 777 of 1500.  Permutation max is 17.0.  Observed max is 39.0.  P-val estimate is 0.062\n",
      "permutation 778 of 1500.  Permutation max is 7.0.  Observed max is 39.0.  P-val estimate is 0.062\n",
      "permutation 779 of 1500.  Permutation max is 28.0.  Observed max is 39.0.  P-val estimate is 0.062\n",
      "permutation 780 of 1500.  Permutation max is 9.0.  Observed max is 39.0.  P-val estimate is 0.061\n",
      "permutation 781 of 1500.  Permutation max is 33.0.  Observed max is 39.0.  P-val estimate is 0.061\n",
      "permutation 782 of 1500.  Permutation max is 26.0.  Observed max is 39.0.  P-val estimate is 0.061\n",
      "permutation 783 of 1500.  Permutation max is 35.0.  Observed max is 39.0.  P-val estimate is 0.061\n",
      "permutation 784 of 1500.  Permutation max is 29.0.  Observed max is 39.0.  P-val estimate is 0.061\n",
      "permutation 785 of 1500.  Permutation max is 28.0.  Observed max is 39.0.  P-val estimate is 0.061\n",
      "permutation 786 of 1500.  Permutation max is 17.0.  Observed max is 39.0.  P-val estimate is 0.061\n",
      "permutation 787 of 1500.  Permutation max is 6.0.  Observed max is 39.0.  P-val estimate is 0.061\n",
      "permutation 788 of 1500.  Permutation max is 23.0.  Observed max is 39.0.  P-val estimate is 0.061\n",
      "permutation 789 of 1500.  Permutation max is 9.0.  Observed max is 39.0.  P-val estimate is 0.061\n",
      "permutation 790 of 1500.  Permutation max is 17.0.  Observed max is 39.0.  P-val estimate is 0.061\n",
      "permutation 791 of 1500.  Permutation max is 18.0.  Observed max is 39.0.  P-val estimate is 0.061\n",
      "permutation 792 of 1500.  Permutation max is 26.0.  Observed max is 39.0.  P-val estimate is 0.061\n",
      "permutation 793 of 1500.  Permutation max is 16.0.  Observed max is 39.0.  P-val estimate is 0.060\n",
      "permutation 794 of 1500.  Permutation max is 28.0.  Observed max is 39.0.  P-val estimate is 0.060\n",
      "permutation 795 of 1500.  Permutation max is 21.0.  Observed max is 39.0.  P-val estimate is 0.060\n",
      "permutation 796 of 1500.  Permutation max is 23.0.  Observed max is 39.0.  P-val estimate is 0.060\n",
      "permutation 797 of 1500.  Permutation max is 17.0.  Observed max is 39.0.  P-val estimate is 0.060\n",
      "permutation 798 of 1500.  Permutation max is 40.0.  Observed max is 39.0.  P-val estimate is 0.061\n",
      "permutation 799 of 1500.  Permutation max is 37.0.  Observed max is 39.0.  P-val estimate is 0.061\n",
      "permutation 800 of 1500.  Permutation max is 24.0.  Observed max is 39.0.  P-val estimate is 0.061\n",
      "permutation 801 of 1500.  Permutation max is 36.0.  Observed max is 39.0.  P-val estimate is 0.061\n",
      "permutation 802 of 1500.  Permutation max is 31.0.  Observed max is 39.0.  P-val estimate is 0.061\n",
      "permutation 803 of 1500.  Permutation max is 34.0.  Observed max is 39.0.  P-val estimate is 0.061\n",
      "permutation 804 of 1500.  Permutation max is 26.0.  Observed max is 39.0.  P-val estimate is 0.061\n",
      "permutation 805 of 1500.  Permutation max is 15.0.  Observed max is 39.0.  P-val estimate is 0.061\n"
     ]
    },
    {
     "name": "stdout",
     "output_type": "stream",
     "text": [
      "permutation 806 of 1500.  Permutation max is 40.0.  Observed max is 39.0.  P-val estimate is 0.062\n",
      "permutation 807 of 1500.  Permutation max is 23.0.  Observed max is 39.0.  P-val estimate is 0.062\n",
      "permutation 808 of 1500.  Permutation max is 25.0.  Observed max is 39.0.  P-val estimate is 0.062\n",
      "permutation 809 of 1500.  Permutation max is 41.0.  Observed max is 39.0.  P-val estimate is 0.063\n",
      "permutation 810 of 1500.  Permutation max is 24.0.  Observed max is 39.0.  P-val estimate is 0.063\n",
      "permutation 811 of 1500.  Permutation max is 40.0.  Observed max is 39.0.  P-val estimate is 0.064\n",
      "permutation 812 of 1500.  Permutation max is 13.0.  Observed max is 39.0.  P-val estimate is 0.064\n",
      "permutation 813 of 1500.  Permutation max is 9.0.  Observed max is 39.0.  P-val estimate is 0.064\n",
      "permutation 814 of 1500.  Permutation max is 37.0.  Observed max is 39.0.  P-val estimate is 0.064\n",
      "permutation 815 of 1500.  Permutation max is 30.0.  Observed max is 39.0.  P-val estimate is 0.064\n",
      "permutation 816 of 1500.  Permutation max is 11.0.  Observed max is 39.0.  P-val estimate is 0.064\n",
      "permutation 817 of 1500.  Permutation max is 28.0.  Observed max is 39.0.  P-val estimate is 0.064\n",
      "permutation 818 of 1500.  Permutation max is 38.0.  Observed max is 39.0.  P-val estimate is 0.063\n",
      "permutation 819 of 1500.  Permutation max is 25.0.  Observed max is 39.0.  P-val estimate is 0.063\n",
      "permutation 820 of 1500.  Permutation max is 12.0.  Observed max is 39.0.  P-val estimate is 0.063\n",
      "permutation 821 of 1500.  Permutation max is 17.0.  Observed max is 39.0.  P-val estimate is 0.063\n",
      "permutation 822 of 1500.  Permutation max is 7.0.  Observed max is 39.0.  P-val estimate is 0.063\n",
      "permutation 823 of 1500.  Permutation max is 31.0.  Observed max is 39.0.  P-val estimate is 0.063\n",
      "permutation 824 of 1500.  Permutation max is 24.0.  Observed max is 39.0.  P-val estimate is 0.063\n",
      "permutation 825 of 1500.  Permutation max is 22.0.  Observed max is 39.0.  P-val estimate is 0.063\n",
      "permutation 826 of 1500.  Permutation max is 17.0.  Observed max is 39.0.  P-val estimate is 0.063\n",
      "permutation 827 of 1500.  Permutation max is 27.0.  Observed max is 39.0.  P-val estimate is 0.063\n",
      "permutation 828 of 1500.  Permutation max is 22.0.  Observed max is 39.0.  P-val estimate is 0.063\n",
      "permutation 829 of 1500.  Permutation max is 31.0.  Observed max is 39.0.  P-val estimate is 0.063\n",
      "permutation 830 of 1500.  Permutation max is 28.0.  Observed max is 39.0.  P-val estimate is 0.063\n",
      "permutation 831 of 1500.  Permutation max is 17.0.  Observed max is 39.0.  P-val estimate is 0.062\n",
      "permutation 832 of 1500.  Permutation max is 23.0.  Observed max is 39.0.  P-val estimate is 0.062\n",
      "permutation 833 of 1500.  Permutation max is 27.0.  Observed max is 39.0.  P-val estimate is 0.062\n",
      "permutation 834 of 1500.  Permutation max is 16.0.  Observed max is 39.0.  P-val estimate is 0.062\n",
      "permutation 835 of 1500.  Permutation max is 33.0.  Observed max is 39.0.  P-val estimate is 0.062\n",
      "permutation 836 of 1500.  Permutation max is 34.0.  Observed max is 39.0.  P-val estimate is 0.062\n",
      "permutation 837 of 1500.  Permutation max is 20.0.  Observed max is 39.0.  P-val estimate is 0.062\n",
      "permutation 838 of 1500.  Permutation max is 23.0.  Observed max is 39.0.  P-val estimate is 0.062\n",
      "permutation 839 of 1500.  Permutation max is 26.0.  Observed max is 39.0.  P-val estimate is 0.062\n",
      "permutation 840 of 1500.  Permutation max is 19.0.  Observed max is 39.0.  P-val estimate is 0.062\n",
      "permutation 841 of 1500.  Permutation max is 19.0.  Observed max is 39.0.  P-val estimate is 0.062\n",
      "permutation 842 of 1500.  Permutation max is 34.0.  Observed max is 39.0.  P-val estimate is 0.062\n",
      "permutation 843 of 1500.  Permutation max is 22.0.  Observed max is 39.0.  P-val estimate is 0.062\n",
      "permutation 844 of 1500.  Permutation max is 24.0.  Observed max is 39.0.  P-val estimate is 0.062\n",
      "permutation 845 of 1500.  Permutation max is 22.0.  Observed max is 39.0.  P-val estimate is 0.061\n",
      "permutation 846 of 1500.  Permutation max is 31.0.  Observed max is 39.0.  P-val estimate is 0.061\n",
      "permutation 847 of 1500.  Permutation max is 18.0.  Observed max is 39.0.  P-val estimate is 0.061\n",
      "permutation 848 of 1500.  Permutation max is 18.0.  Observed max is 39.0.  P-val estimate is 0.061\n",
      "permutation 849 of 1500.  Permutation max is 20.0.  Observed max is 39.0.  P-val estimate is 0.061\n",
      "permutation 850 of 1500.  Permutation max is 23.0.  Observed max is 39.0.  P-val estimate is 0.061\n",
      "permutation 851 of 1500.  Permutation max is 24.0.  Observed max is 39.0.  P-val estimate is 0.061\n",
      "permutation 852 of 1500.  Permutation max is 11.0.  Observed max is 39.0.  P-val estimate is 0.061\n",
      "permutation 853 of 1500.  Permutation max is 20.0.  Observed max is 39.0.  P-val estimate is 0.061\n",
      "permutation 854 of 1500.  Permutation max is 22.0.  Observed max is 39.0.  P-val estimate is 0.061\n",
      "permutation 855 of 1500.  Permutation max is 25.0.  Observed max is 39.0.  P-val estimate is 0.061\n",
      "permutation 856 of 1500.  Permutation max is 34.0.  Observed max is 39.0.  P-val estimate is 0.061\n",
      "permutation 857 of 1500.  Permutation max is 13.0.  Observed max is 39.0.  P-val estimate is 0.061\n",
      "permutation 858 of 1500.  Permutation max is 7.0.  Observed max is 39.0.  P-val estimate is 0.061\n",
      "permutation 859 of 1500.  Permutation max is 24.0.  Observed max is 39.0.  P-val estimate is 0.060\n",
      "permutation 860 of 1500.  Permutation max is 36.0.  Observed max is 39.0.  P-val estimate is 0.060\n",
      "permutation 861 of 1500.  Permutation max is 39.0.  Observed max is 39.0.  P-val estimate is 0.061\n",
      "permutation 862 of 1500.  Permutation max is 18.0.  Observed max is 39.0.  P-val estimate is 0.061\n",
      "permutation 863 of 1500.  Permutation max is 17.0.  Observed max is 39.0.  P-val estimate is 0.061\n",
      "permutation 864 of 1500.  Permutation max is 26.0.  Observed max is 39.0.  P-val estimate is 0.061\n",
      "permutation 865 of 1500.  Permutation max is 36.0.  Observed max is 39.0.  P-val estimate is 0.061\n",
      "permutation 866 of 1500.  Permutation max is 22.0.  Observed max is 39.0.  P-val estimate is 0.061\n",
      "permutation 867 of 1500.  Permutation max is 26.0.  Observed max is 39.0.  P-val estimate is 0.061\n",
      "permutation 868 of 1500.  Permutation max is 33.0.  Observed max is 39.0.  P-val estimate is 0.061\n",
      "permutation 869 of 1500.  Permutation max is 33.0.  Observed max is 39.0.  P-val estimate is 0.061\n",
      "permutation 870 of 1500.  Permutation max is 35.0.  Observed max is 39.0.  P-val estimate is 0.061\n",
      "permutation 871 of 1500.  Permutation max is 18.0.  Observed max is 39.0.  P-val estimate is 0.061\n",
      "permutation 872 of 1500.  Permutation max is 31.0.  Observed max is 39.0.  P-val estimate is 0.061\n",
      "permutation 873 of 1500.  Permutation max is 13.0.  Observed max is 39.0.  P-val estimate is 0.061\n",
      "permutation 874 of 1500.  Permutation max is 16.0.  Observed max is 39.0.  P-val estimate is 0.061\n",
      "permutation 875 of 1500.  Permutation max is 41.0.  Observed max is 39.0.  P-val estimate is 0.062\n",
      "permutation 876 of 1500.  Permutation max is 25.0.  Observed max is 39.0.  P-val estimate is 0.062\n",
      "permutation 877 of 1500.  Permutation max is 11.0.  Observed max is 39.0.  P-val estimate is 0.062\n",
      "permutation 878 of 1500.  Permutation max is 21.0.  Observed max is 39.0.  P-val estimate is 0.061\n",
      "permutation 879 of 1500.  Permutation max is 34.0.  Observed max is 39.0.  P-val estimate is 0.061\n",
      "permutation 880 of 1500.  Permutation max is 27.0.  Observed max is 39.0.  P-val estimate is 0.061\n",
      "permutation 881 of 1500.  Permutation max is 28.0.  Observed max is 39.0.  P-val estimate is 0.061\n",
      "permutation 882 of 1500.  Permutation max is 33.0.  Observed max is 39.0.  P-val estimate is 0.061\n",
      "permutation 883 of 1500.  Permutation max is 24.0.  Observed max is 39.0.  P-val estimate is 0.061\n",
      "permutation 884 of 1500.  Permutation max is 19.0.  Observed max is 39.0.  P-val estimate is 0.061\n",
      "permutation 885 of 1500.  Permutation max is 24.0.  Observed max is 39.0.  P-val estimate is 0.061\n",
      "permutation 886 of 1500.  Permutation max is 12.0.  Observed max is 39.0.  P-val estimate is 0.061\n",
      "permutation 887 of 1500.  Permutation max is 18.0.  Observed max is 39.0.  P-val estimate is 0.061\n",
      "permutation 888 of 1500.  Permutation max is 37.0.  Observed max is 39.0.  P-val estimate is 0.061\n",
      "permutation 889 of 1500.  Permutation max is 23.0.  Observed max is 39.0.  P-val estimate is 0.061\n",
      "permutation 890 of 1500.  Permutation max is 29.0.  Observed max is 39.0.  P-val estimate is 0.061\n",
      "permutation 891 of 1500.  Permutation max is 26.0.  Observed max is 39.0.  P-val estimate is 0.061\n",
      "permutation 892 of 1500.  Permutation max is 23.0.  Observed max is 39.0.  P-val estimate is 0.060\n",
      "permutation 893 of 1500.  Permutation max is 26.0.  Observed max is 39.0.  P-val estimate is 0.060\n",
      "permutation 894 of 1500.  Permutation max is 15.0.  Observed max is 39.0.  P-val estimate is 0.060\n",
      "permutation 895 of 1500.  Permutation max is 17.0.  Observed max is 39.0.  P-val estimate is 0.060\n"
     ]
    },
    {
     "name": "stdout",
     "output_type": "stream",
     "text": [
      "permutation 896 of 1500.  Permutation max is 17.0.  Observed max is 39.0.  P-val estimate is 0.060\n",
      "permutation 897 of 1500.  Permutation max is 18.0.  Observed max is 39.0.  P-val estimate is 0.060\n",
      "permutation 898 of 1500.  Permutation max is 20.0.  Observed max is 39.0.  P-val estimate is 0.060\n",
      "permutation 899 of 1500.  Permutation max is 14.0.  Observed max is 39.0.  P-val estimate is 0.060\n",
      "permutation 900 of 1500.  Permutation max is 20.0.  Observed max is 39.0.  P-val estimate is 0.060\n",
      "permutation 901 of 1500.  Permutation max is 13.0.  Observed max is 39.0.  P-val estimate is 0.060\n",
      "permutation 902 of 1500.  Permutation max is 23.0.  Observed max is 39.0.  P-val estimate is 0.060\n",
      "permutation 903 of 1500.  Permutation max is 34.0.  Observed max is 39.0.  P-val estimate is 0.060\n",
      "permutation 904 of 1500.  Permutation max is 27.0.  Observed max is 39.0.  P-val estimate is 0.060\n",
      "permutation 905 of 1500.  Permutation max is 17.0.  Observed max is 39.0.  P-val estimate is 0.060\n",
      "permutation 906 of 1500.  Permutation max is 12.0.  Observed max is 39.0.  P-val estimate is 0.060\n",
      "permutation 907 of 1500.  Permutation max is 23.0.  Observed max is 39.0.  P-val estimate is 0.059\n",
      "permutation 908 of 1500.  Permutation max is 20.0.  Observed max is 39.0.  P-val estimate is 0.059\n",
      "permutation 909 of 1500.  Permutation max is 26.0.  Observed max is 39.0.  P-val estimate is 0.059\n",
      "permutation 910 of 1500.  Permutation max is 25.0.  Observed max is 39.0.  P-val estimate is 0.059\n",
      "permutation 911 of 1500.  Permutation max is 34.0.  Observed max is 39.0.  P-val estimate is 0.059\n",
      "permutation 912 of 1500.  Permutation max is 40.0.  Observed max is 39.0.  P-val estimate is 0.060\n",
      "permutation 913 of 1500.  Permutation max is 28.0.  Observed max is 39.0.  P-val estimate is 0.060\n",
      "permutation 914 of 1500.  Permutation max is 22.0.  Observed max is 39.0.  P-val estimate is 0.060\n",
      "permutation 915 of 1500.  Permutation max is 18.0.  Observed max is 39.0.  P-val estimate is 0.060\n",
      "permutation 916 of 1500.  Permutation max is 31.0.  Observed max is 39.0.  P-val estimate is 0.060\n",
      "permutation 917 of 1500.  Permutation max is 36.0.  Observed max is 39.0.  P-val estimate is 0.060\n",
      "permutation 918 of 1500.  Permutation max is 23.0.  Observed max is 39.0.  P-val estimate is 0.060\n",
      "permutation 919 of 1500.  Permutation max is 22.0.  Observed max is 39.0.  P-val estimate is 0.060\n",
      "permutation 920 of 1500.  Permutation max is 28.0.  Observed max is 39.0.  P-val estimate is 0.060\n",
      "permutation 921 of 1500.  Permutation max is 35.0.  Observed max is 39.0.  P-val estimate is 0.060\n",
      "permutation 922 of 1500.  Permutation max is 23.0.  Observed max is 39.0.  P-val estimate is 0.060\n",
      "permutation 923 of 1500.  Permutation max is 35.0.  Observed max is 39.0.  P-val estimate is 0.060\n",
      "permutation 924 of 1500.  Permutation max is 35.0.  Observed max is 39.0.  P-val estimate is 0.059\n",
      "permutation 925 of 1500.  Permutation max is 21.0.  Observed max is 39.0.  P-val estimate is 0.059\n",
      "permutation 926 of 1500.  Permutation max is 40.0.  Observed max is 39.0.  P-val estimate is 0.060\n",
      "permutation 927 of 1500.  Permutation max is 7.0.  Observed max is 39.0.  P-val estimate is 0.060\n",
      "permutation 928 of 1500.  Permutation max is 23.0.  Observed max is 39.0.  P-val estimate is 0.060\n",
      "permutation 929 of 1500.  Permutation max is 28.0.  Observed max is 39.0.  P-val estimate is 0.060\n",
      "permutation 930 of 1500.  Permutation max is 41.0.  Observed max is 39.0.  P-val estimate is 0.061\n",
      "permutation 931 of 1500.  Permutation max is 31.0.  Observed max is 39.0.  P-val estimate is 0.061\n",
      "permutation 932 of 1500.  Permutation max is 28.0.  Observed max is 39.0.  P-val estimate is 0.061\n",
      "permutation 933 of 1500.  Permutation max is 34.0.  Observed max is 39.0.  P-val estimate is 0.061\n",
      "permutation 934 of 1500.  Permutation max is 28.0.  Observed max is 39.0.  P-val estimate is 0.061\n",
      "permutation 935 of 1500.  Permutation max is 35.0.  Observed max is 39.0.  P-val estimate is 0.061\n",
      "permutation 936 of 1500.  Permutation max is 34.0.  Observed max is 39.0.  P-val estimate is 0.061\n",
      "permutation 937 of 1500.  Permutation max is 7.0.  Observed max is 39.0.  P-val estimate is 0.061\n",
      "permutation 938 of 1500.  Permutation max is 18.0.  Observed max is 39.0.  P-val estimate is 0.061\n",
      "permutation 939 of 1500.  Permutation max is 28.0.  Observed max is 39.0.  P-val estimate is 0.061\n",
      "permutation 940 of 1500.  Permutation max is 23.0.  Observed max is 39.0.  P-val estimate is 0.061\n",
      "permutation 941 of 1500.  Permutation max is 34.0.  Observed max is 39.0.  P-val estimate is 0.061\n",
      "permutation 942 of 1500.  Permutation max is 24.0.  Observed max is 39.0.  P-val estimate is 0.060\n",
      "permutation 943 of 1500.  Permutation max is 24.0.  Observed max is 39.0.  P-val estimate is 0.060\n",
      "permutation 944 of 1500.  Permutation max is 38.0.  Observed max is 39.0.  P-val estimate is 0.060\n",
      "permutation 945 of 1500.  Permutation max is 26.0.  Observed max is 39.0.  P-val estimate is 0.060\n",
      "permutation 946 of 1500.  Permutation max is 12.0.  Observed max is 39.0.  P-val estimate is 0.060\n",
      "permutation 947 of 1500.  Permutation max is 28.0.  Observed max is 39.0.  P-val estimate is 0.060\n",
      "permutation 948 of 1500.  Permutation max is 11.0.  Observed max is 39.0.  P-val estimate is 0.060\n",
      "permutation 949 of 1500.  Permutation max is 34.0.  Observed max is 39.0.  P-val estimate is 0.060\n",
      "permutation 950 of 1500.  Permutation max is 16.0.  Observed max is 39.0.  P-val estimate is 0.060\n",
      "permutation 951 of 1500.  Permutation max is 26.0.  Observed max is 39.0.  P-val estimate is 0.060\n",
      "permutation 952 of 1500.  Permutation max is 12.0.  Observed max is 39.0.  P-val estimate is 0.060\n",
      "permutation 953 of 1500.  Permutation max is 24.0.  Observed max is 39.0.  P-val estimate is 0.060\n",
      "permutation 954 of 1500.  Permutation max is 24.0.  Observed max is 39.0.  P-val estimate is 0.060\n",
      "permutation 955 of 1500.  Permutation max is 29.0.  Observed max is 39.0.  P-val estimate is 0.060\n",
      "permutation 956 of 1500.  Permutation max is 19.0.  Observed max is 39.0.  P-val estimate is 0.060\n",
      "permutation 957 of 1500.  Permutation max is 25.0.  Observed max is 39.0.  P-val estimate is 0.059\n",
      "permutation 958 of 1500.  Permutation max is 26.0.  Observed max is 39.0.  P-val estimate is 0.059\n",
      "permutation 959 of 1500.  Permutation max is 17.0.  Observed max is 39.0.  P-val estimate is 0.059\n",
      "permutation 960 of 1500.  Permutation max is 16.0.  Observed max is 39.0.  P-val estimate is 0.059\n",
      "permutation 961 of 1500.  Permutation max is 8.0.  Observed max is 39.0.  P-val estimate is 0.059\n",
      "permutation 962 of 1500.  Permutation max is 22.0.  Observed max is 39.0.  P-val estimate is 0.059\n",
      "permutation 963 of 1500.  Permutation max is 16.0.  Observed max is 39.0.  P-val estimate is 0.059\n",
      "permutation 964 of 1500.  Permutation max is 41.0.  Observed max is 39.0.  P-val estimate is 0.060\n",
      "permutation 965 of 1500.  Permutation max is 26.0.  Observed max is 39.0.  P-val estimate is 0.060\n",
      "permutation 966 of 1500.  Permutation max is 32.0.  Observed max is 39.0.  P-val estimate is 0.060\n",
      "permutation 967 of 1500.  Permutation max is 18.0.  Observed max is 39.0.  P-val estimate is 0.060\n",
      "permutation 968 of 1500.  Permutation max is 23.0.  Observed max is 39.0.  P-val estimate is 0.060\n",
      "permutation 969 of 1500.  Permutation max is 24.0.  Observed max is 39.0.  P-val estimate is 0.060\n",
      "permutation 970 of 1500.  Permutation max is 45.0.  Observed max is 39.0.  P-val estimate is 0.061\n",
      "permutation 971 of 1500.  Permutation max is 26.0.  Observed max is 39.0.  P-val estimate is 0.061\n",
      "permutation 972 of 1500.  Permutation max is 39.0.  Observed max is 39.0.  P-val estimate is 0.062\n",
      "permutation 973 of 1500.  Permutation max is 28.0.  Observed max is 39.0.  P-val estimate is 0.062\n",
      "permutation 974 of 1500.  Permutation max is 8.0.  Observed max is 39.0.  P-val estimate is 0.062\n",
      "permutation 975 of 1500.  Permutation max is 36.0.  Observed max is 39.0.  P-val estimate is 0.061\n",
      "permutation 976 of 1500.  Permutation max is 36.0.  Observed max is 39.0.  P-val estimate is 0.061\n",
      "permutation 977 of 1500.  Permutation max is 19.0.  Observed max is 39.0.  P-val estimate is 0.061\n",
      "permutation 978 of 1500.  Permutation max is 33.0.  Observed max is 39.0.  P-val estimate is 0.061\n",
      "permutation 979 of 1500.  Permutation max is 26.0.  Observed max is 39.0.  P-val estimate is 0.061\n",
      "permutation 980 of 1500.  Permutation max is 41.0.  Observed max is 39.0.  P-val estimate is 0.062\n",
      "permutation 981 of 1500.  Permutation max is 31.0.  Observed max is 39.0.  P-val estimate is 0.062\n",
      "permutation 982 of 1500.  Permutation max is 45.0.  Observed max is 39.0.  P-val estimate is 0.063\n",
      "permutation 983 of 1500.  Permutation max is 36.0.  Observed max is 39.0.  P-val estimate is 0.063\n",
      "permutation 984 of 1500.  Permutation max is 28.0.  Observed max is 39.0.  P-val estimate is 0.063\n",
      "permutation 985 of 1500.  Permutation max is 24.0.  Observed max is 39.0.  P-val estimate is 0.063\n"
     ]
    },
    {
     "name": "stdout",
     "output_type": "stream",
     "text": [
      "permutation 986 of 1500.  Permutation max is 24.0.  Observed max is 39.0.  P-val estimate is 0.063\n",
      "permutation 987 of 1500.  Permutation max is 35.0.  Observed max is 39.0.  P-val estimate is 0.063\n",
      "permutation 988 of 1500.  Permutation max is 25.0.  Observed max is 39.0.  P-val estimate is 0.063\n",
      "permutation 989 of 1500.  Permutation max is 20.0.  Observed max is 39.0.  P-val estimate is 0.063\n",
      "permutation 990 of 1500.  Permutation max is 24.0.  Observed max is 39.0.  P-val estimate is 0.063\n",
      "permutation 991 of 1500.  Permutation max is 20.0.  Observed max is 39.0.  P-val estimate is 0.062\n",
      "permutation 992 of 1500.  Permutation max is 12.0.  Observed max is 39.0.  P-val estimate is 0.062\n",
      "permutation 993 of 1500.  Permutation max is 18.0.  Observed max is 39.0.  P-val estimate is 0.062\n",
      "permutation 994 of 1500.  Permutation max is 18.0.  Observed max is 39.0.  P-val estimate is 0.062\n",
      "permutation 995 of 1500.  Permutation max is 16.0.  Observed max is 39.0.  P-val estimate is 0.062\n",
      "permutation 996 of 1500.  Permutation max is 25.0.  Observed max is 39.0.  P-val estimate is 0.062\n",
      "permutation 997 of 1500.  Permutation max is 13.0.  Observed max is 39.0.  P-val estimate is 0.062\n",
      "permutation 998 of 1500.  Permutation max is 34.0.  Observed max is 39.0.  P-val estimate is 0.062\n",
      "permutation 999 of 1500.  Permutation max is 34.0.  Observed max is 39.0.  P-val estimate is 0.062\n",
      "permutation 1000 of 1500.  Permutation max is 28.0.  Observed max is 39.0.  P-val estimate is 0.062\n",
      "permutation 1001 of 1500.  Permutation max is 28.0.  Observed max is 39.0.  P-val estimate is 0.062\n",
      "permutation 1002 of 1500.  Permutation max is 33.0.  Observed max is 39.0.  P-val estimate is 0.062\n",
      "permutation 1003 of 1500.  Permutation max is 28.0.  Observed max is 39.0.  P-val estimate is 0.062\n",
      "permutation 1004 of 1500.  Permutation max is 24.0.  Observed max is 39.0.  P-val estimate is 0.062\n",
      "permutation 1005 of 1500.  Permutation max is 13.0.  Observed max is 39.0.  P-val estimate is 0.062\n",
      "permutation 1006 of 1500.  Permutation max is 15.0.  Observed max is 39.0.  P-val estimate is 0.062\n",
      "permutation 1007 of 1500.  Permutation max is 22.0.  Observed max is 39.0.  P-val estimate is 0.062\n",
      "permutation 1008 of 1500.  Permutation max is 17.0.  Observed max is 39.0.  P-val estimate is 0.061\n",
      "permutation 1009 of 1500.  Permutation max is 23.0.  Observed max is 39.0.  P-val estimate is 0.061\n",
      "permutation 1010 of 1500.  Permutation max is 20.0.  Observed max is 39.0.  P-val estimate is 0.061\n",
      "permutation 1011 of 1500.  Permutation max is 26.0.  Observed max is 39.0.  P-val estimate is 0.061\n",
      "permutation 1012 of 1500.  Permutation max is 13.0.  Observed max is 39.0.  P-val estimate is 0.061\n",
      "permutation 1013 of 1500.  Permutation max is 23.0.  Observed max is 39.0.  P-val estimate is 0.061\n",
      "permutation 1014 of 1500.  Permutation max is 17.0.  Observed max is 39.0.  P-val estimate is 0.061\n",
      "permutation 1015 of 1500.  Permutation max is 25.0.  Observed max is 39.0.  P-val estimate is 0.061\n",
      "permutation 1016 of 1500.  Permutation max is 23.0.  Observed max is 39.0.  P-val estimate is 0.061\n",
      "permutation 1017 of 1500.  Permutation max is 24.0.  Observed max is 39.0.  P-val estimate is 0.061\n",
      "permutation 1018 of 1500.  Permutation max is 27.0.  Observed max is 39.0.  P-val estimate is 0.061\n",
      "permutation 1019 of 1500.  Permutation max is 8.0.  Observed max is 39.0.  P-val estimate is 0.061\n",
      "permutation 1020 of 1500.  Permutation max is 13.0.  Observed max is 39.0.  P-val estimate is 0.061\n",
      "permutation 1021 of 1500.  Permutation max is 38.0.  Observed max is 39.0.  P-val estimate is 0.061\n",
      "permutation 1022 of 1500.  Permutation max is 14.0.  Observed max is 39.0.  P-val estimate is 0.061\n",
      "permutation 1023 of 1500.  Permutation max is 21.0.  Observed max is 39.0.  P-val estimate is 0.061\n",
      "permutation 1024 of 1500.  Permutation max is 40.0.  Observed max is 39.0.  P-val estimate is 0.061\n",
      "permutation 1025 of 1500.  Permutation max is 29.0.  Observed max is 39.0.  P-val estimate is 0.061\n",
      "permutation 1026 of 1500.  Permutation max is 41.0.  Observed max is 39.0.  P-val estimate is 0.062\n",
      "permutation 1027 of 1500.  Permutation max is 25.0.  Observed max is 39.0.  P-val estimate is 0.062\n",
      "permutation 1028 of 1500.  Permutation max is 27.0.  Observed max is 39.0.  P-val estimate is 0.062\n",
      "permutation 1029 of 1500.  Permutation max is 19.0.  Observed max is 39.0.  P-val estimate is 0.062\n",
      "permutation 1030 of 1500.  Permutation max is 26.0.  Observed max is 39.0.  P-val estimate is 0.062\n",
      "permutation 1031 of 1500.  Permutation max is 41.0.  Observed max is 39.0.  P-val estimate is 0.063\n",
      "permutation 1032 of 1500.  Permutation max is 26.0.  Observed max is 39.0.  P-val estimate is 0.063\n",
      "permutation 1033 of 1500.  Permutation max is 41.0.  Observed max is 39.0.  P-val estimate is 0.064\n",
      "permutation 1034 of 1500.  Permutation max is 33.0.  Observed max is 39.0.  P-val estimate is 0.064\n",
      "permutation 1035 of 1500.  Permutation max is 28.0.  Observed max is 39.0.  P-val estimate is 0.064\n",
      "permutation 1036 of 1500.  Permutation max is 19.0.  Observed max is 39.0.  P-val estimate is 0.064\n",
      "permutation 1037 of 1500.  Permutation max is 41.0.  Observed max is 39.0.  P-val estimate is 0.065\n",
      "permutation 1038 of 1500.  Permutation max is 22.0.  Observed max is 39.0.  P-val estimate is 0.064\n",
      "permutation 1039 of 1500.  Permutation max is 31.0.  Observed max is 39.0.  P-val estimate is 0.064\n",
      "permutation 1040 of 1500.  Permutation max is 25.0.  Observed max is 39.0.  P-val estimate is 0.064\n",
      "permutation 1041 of 1500.  Permutation max is 13.0.  Observed max is 39.0.  P-val estimate is 0.064\n",
      "permutation 1042 of 1500.  Permutation max is 15.0.  Observed max is 39.0.  P-val estimate is 0.064\n",
      "permutation 1043 of 1500.  Permutation max is 18.0.  Observed max is 39.0.  P-val estimate is 0.064\n",
      "permutation 1044 of 1500.  Permutation max is 19.0.  Observed max is 39.0.  P-val estimate is 0.064\n",
      "permutation 1045 of 1500.  Permutation max is 31.0.  Observed max is 39.0.  P-val estimate is 0.064\n",
      "permutation 1046 of 1500.  Permutation max is 23.0.  Observed max is 39.0.  P-val estimate is 0.064\n",
      "permutation 1047 of 1500.  Permutation max is 28.0.  Observed max is 39.0.  P-val estimate is 0.064\n",
      "permutation 1048 of 1500.  Permutation max is 28.0.  Observed max is 39.0.  P-val estimate is 0.064\n",
      "permutation 1049 of 1500.  Permutation max is 32.0.  Observed max is 39.0.  P-val estimate is 0.064\n",
      "permutation 1050 of 1500.  Permutation max is 19.0.  Observed max is 39.0.  P-val estimate is 0.064\n",
      "permutation 1051 of 1500.  Permutation max is 28.0.  Observed max is 39.0.  P-val estimate is 0.064\n",
      "permutation 1052 of 1500.  Permutation max is 29.0.  Observed max is 39.0.  P-val estimate is 0.064\n",
      "permutation 1053 of 1500.  Permutation max is 29.0.  Observed max is 39.0.  P-val estimate is 0.064\n",
      "permutation 1054 of 1500.  Permutation max is 26.0.  Observed max is 39.0.  P-val estimate is 0.064\n",
      "permutation 1055 of 1500.  Permutation max is 41.0.  Observed max is 39.0.  P-val estimate is 0.064\n",
      "permutation 1056 of 1500.  Permutation max is 18.0.  Observed max is 39.0.  P-val estimate is 0.064\n",
      "permutation 1057 of 1500.  Permutation max is 17.0.  Observed max is 39.0.  P-val estimate is 0.064\n",
      "permutation 1058 of 1500.  Permutation max is 18.0.  Observed max is 39.0.  P-val estimate is 0.064\n",
      "permutation 1059 of 1500.  Permutation max is 16.0.  Observed max is 39.0.  P-val estimate is 0.064\n",
      "permutation 1060 of 1500.  Permutation max is 22.0.  Observed max is 39.0.  P-val estimate is 0.064\n",
      "permutation 1061 of 1500.  Permutation max is 40.0.  Observed max is 39.0.  P-val estimate is 0.065\n",
      "permutation 1062 of 1500.  Permutation max is 16.0.  Observed max is 39.0.  P-val estimate is 0.065\n",
      "permutation 1063 of 1500.  Permutation max is 23.0.  Observed max is 39.0.  P-val estimate is 0.065\n",
      "permutation 1064 of 1500.  Permutation max is 36.0.  Observed max is 39.0.  P-val estimate is 0.065\n",
      "permutation 1065 of 1500.  Permutation max is 35.0.  Observed max is 39.0.  P-val estimate is 0.065\n",
      "permutation 1066 of 1500.  Permutation max is 33.0.  Observed max is 39.0.  P-val estimate is 0.065\n",
      "permutation 1067 of 1500.  Permutation max is 20.0.  Observed max is 39.0.  P-val estimate is 0.065\n",
      "permutation 1068 of 1500.  Permutation max is 31.0.  Observed max is 39.0.  P-val estimate is 0.065\n",
      "permutation 1069 of 1500.  Permutation max is 22.0.  Observed max is 39.0.  P-val estimate is 0.064\n",
      "permutation 1070 of 1500.  Permutation max is 22.0.  Observed max is 39.0.  P-val estimate is 0.064\n",
      "permutation 1071 of 1500.  Permutation max is 37.0.  Observed max is 39.0.  P-val estimate is 0.064\n",
      "permutation 1072 of 1500.  Permutation max is 23.0.  Observed max is 39.0.  P-val estimate is 0.064\n",
      "permutation 1073 of 1500.  Permutation max is 20.0.  Observed max is 39.0.  P-val estimate is 0.064\n",
      "permutation 1074 of 1500.  Permutation max is 6.0.  Observed max is 39.0.  P-val estimate is 0.064\n",
      "permutation 1075 of 1500.  Permutation max is 11.0.  Observed max is 39.0.  P-val estimate is 0.064\n"
     ]
    },
    {
     "name": "stdout",
     "output_type": "stream",
     "text": [
      "permutation 1076 of 1500.  Permutation max is 18.0.  Observed max is 39.0.  P-val estimate is 0.064\n",
      "permutation 1077 of 1500.  Permutation max is 32.0.  Observed max is 39.0.  P-val estimate is 0.064\n",
      "permutation 1078 of 1500.  Permutation max is 27.0.  Observed max is 39.0.  P-val estimate is 0.064\n",
      "permutation 1079 of 1500.  Permutation max is 33.0.  Observed max is 39.0.  P-val estimate is 0.064\n",
      "permutation 1080 of 1500.  Permutation max is 15.0.  Observed max is 39.0.  P-val estimate is 0.064\n",
      "permutation 1081 of 1500.  Permutation max is 18.0.  Observed max is 39.0.  P-val estimate is 0.064\n",
      "permutation 1082 of 1500.  Permutation max is 40.0.  Observed max is 39.0.  P-val estimate is 0.065\n",
      "permutation 1083 of 1500.  Permutation max is 16.0.  Observed max is 39.0.  P-val estimate is 0.065\n",
      "permutation 1084 of 1500.  Permutation max is 23.0.  Observed max is 39.0.  P-val estimate is 0.065\n",
      "permutation 1085 of 1500.  Permutation max is 28.0.  Observed max is 39.0.  P-val estimate is 0.064\n",
      "permutation 1086 of 1500.  Permutation max is 6.0.  Observed max is 39.0.  P-val estimate is 0.064\n",
      "permutation 1087 of 1500.  Permutation max is 41.0.  Observed max is 39.0.  P-val estimate is 0.065\n",
      "permutation 1088 of 1500.  Permutation max is 27.0.  Observed max is 39.0.  P-val estimate is 0.065\n",
      "permutation 1089 of 1500.  Permutation max is 30.0.  Observed max is 39.0.  P-val estimate is 0.065\n",
      "permutation 1090 of 1500.  Permutation max is 33.0.  Observed max is 39.0.  P-val estimate is 0.065\n",
      "permutation 1091 of 1500.  Permutation max is 18.0.  Observed max is 39.0.  P-val estimate is 0.065\n",
      "permutation 1092 of 1500.  Permutation max is 13.0.  Observed max is 39.0.  P-val estimate is 0.065\n",
      "permutation 1093 of 1500.  Permutation max is 28.0.  Observed max is 39.0.  P-val estimate is 0.065\n",
      "permutation 1094 of 1500.  Permutation max is 18.0.  Observed max is 39.0.  P-val estimate is 0.065\n",
      "permutation 1095 of 1500.  Permutation max is 30.0.  Observed max is 39.0.  P-val estimate is 0.065\n",
      "permutation 1096 of 1500.  Permutation max is 32.0.  Observed max is 39.0.  P-val estimate is 0.065\n",
      "permutation 1097 of 1500.  Permutation max is 28.0.  Observed max is 39.0.  P-val estimate is 0.065\n",
      "permutation 1098 of 1500.  Permutation max is 29.0.  Observed max is 39.0.  P-val estimate is 0.065\n",
      "permutation 1099 of 1500.  Permutation max is 18.0.  Observed max is 39.0.  P-val estimate is 0.065\n",
      "permutation 1100 of 1500.  Permutation max is 9.0.  Observed max is 39.0.  P-val estimate is 0.064\n",
      "permutation 1101 of 1500.  Permutation max is 36.0.  Observed max is 39.0.  P-val estimate is 0.064\n",
      "permutation 1102 of 1500.  Permutation max is 11.0.  Observed max is 39.0.  P-val estimate is 0.064\n",
      "permutation 1103 of 1500.  Permutation max is 35.0.  Observed max is 39.0.  P-val estimate is 0.064\n",
      "permutation 1104 of 1500.  Permutation max is 16.0.  Observed max is 39.0.  P-val estimate is 0.064\n",
      "permutation 1105 of 1500.  Permutation max is 34.0.  Observed max is 39.0.  P-val estimate is 0.064\n",
      "permutation 1106 of 1500.  Permutation max is 45.0.  Observed max is 39.0.  P-val estimate is 0.065\n",
      "permutation 1107 of 1500.  Permutation max is 32.0.  Observed max is 39.0.  P-val estimate is 0.065\n",
      "permutation 1108 of 1500.  Permutation max is 17.0.  Observed max is 39.0.  P-val estimate is 0.065\n",
      "permutation 1109 of 1500.  Permutation max is 26.0.  Observed max is 39.0.  P-val estimate is 0.065\n",
      "permutation 1110 of 1500.  Permutation max is 14.0.  Observed max is 39.0.  P-val estimate is 0.065\n",
      "permutation 1111 of 1500.  Permutation max is 15.0.  Observed max is 39.0.  P-val estimate is 0.065\n",
      "permutation 1112 of 1500.  Permutation max is 6.0.  Observed max is 39.0.  P-val estimate is 0.065\n",
      "permutation 1113 of 1500.  Permutation max is 22.0.  Observed max is 39.0.  P-val estimate is 0.065\n",
      "permutation 1114 of 1500.  Permutation max is 29.0.  Observed max is 39.0.  P-val estimate is 0.065\n",
      "permutation 1115 of 1500.  Permutation max is 34.0.  Observed max is 39.0.  P-val estimate is 0.065\n",
      "permutation 1116 of 1500.  Permutation max is 18.0.  Observed max is 39.0.  P-val estimate is 0.064\n",
      "permutation 1117 of 1500.  Permutation max is 26.0.  Observed max is 39.0.  P-val estimate is 0.064\n",
      "permutation 1118 of 1500.  Permutation max is 34.0.  Observed max is 39.0.  P-val estimate is 0.064\n",
      "permutation 1119 of 1500.  Permutation max is 26.0.  Observed max is 39.0.  P-val estimate is 0.064\n",
      "permutation 1120 of 1500.  Permutation max is 25.0.  Observed max is 39.0.  P-val estimate is 0.064\n",
      "permutation 1121 of 1500.  Permutation max is 28.0.  Observed max is 39.0.  P-val estimate is 0.064\n",
      "permutation 1122 of 1500.  Permutation max is 21.0.  Observed max is 39.0.  P-val estimate is 0.064\n",
      "permutation 1123 of 1500.  Permutation max is 35.0.  Observed max is 39.0.  P-val estimate is 0.064\n",
      "permutation 1124 of 1500.  Permutation max is 20.0.  Observed max is 39.0.  P-val estimate is 0.064\n",
      "permutation 1125 of 1500.  Permutation max is 24.0.  Observed max is 39.0.  P-val estimate is 0.064\n",
      "permutation 1126 of 1500.  Permutation max is 24.0.  Observed max is 39.0.  P-val estimate is 0.064\n",
      "permutation 1127 of 1500.  Permutation max is 33.0.  Observed max is 39.0.  P-val estimate is 0.064\n",
      "permutation 1128 of 1500.  Permutation max is 17.0.  Observed max is 39.0.  P-val estimate is 0.064\n",
      "permutation 1129 of 1500.  Permutation max is 23.0.  Observed max is 39.0.  P-val estimate is 0.064\n",
      "permutation 1130 of 1500.  Permutation max is 28.0.  Observed max is 39.0.  P-val estimate is 0.064\n",
      "permutation 1131 of 1500.  Permutation max is 33.0.  Observed max is 39.0.  P-val estimate is 0.064\n",
      "permutation 1132 of 1500.  Permutation max is 28.0.  Observed max is 39.0.  P-val estimate is 0.064\n",
      "permutation 1133 of 1500.  Permutation max is 8.0.  Observed max is 39.0.  P-val estimate is 0.063\n",
      "permutation 1134 of 1500.  Permutation max is 17.0.  Observed max is 39.0.  P-val estimate is 0.063\n",
      "permutation 1135 of 1500.  Permutation max is 24.0.  Observed max is 39.0.  P-val estimate is 0.063\n",
      "permutation 1136 of 1500.  Permutation max is 34.0.  Observed max is 39.0.  P-val estimate is 0.063\n",
      "permutation 1137 of 1500.  Permutation max is 36.0.  Observed max is 39.0.  P-val estimate is 0.063\n",
      "permutation 1138 of 1500.  Permutation max is 35.0.  Observed max is 39.0.  P-val estimate is 0.063\n",
      "permutation 1139 of 1500.  Permutation max is 24.0.  Observed max is 39.0.  P-val estimate is 0.063\n",
      "permutation 1140 of 1500.  Permutation max is 22.0.  Observed max is 39.0.  P-val estimate is 0.063\n",
      "permutation 1141 of 1500.  Permutation max is 34.0.  Observed max is 39.0.  P-val estimate is 0.063\n",
      "permutation 1142 of 1500.  Permutation max is 23.0.  Observed max is 39.0.  P-val estimate is 0.063\n",
      "permutation 1143 of 1500.  Permutation max is 28.0.  Observed max is 39.0.  P-val estimate is 0.063\n",
      "permutation 1144 of 1500.  Permutation max is 35.0.  Observed max is 39.0.  P-val estimate is 0.063\n",
      "permutation 1145 of 1500.  Permutation max is 29.0.  Observed max is 39.0.  P-val estimate is 0.063\n",
      "permutation 1146 of 1500.  Permutation max is 21.0.  Observed max is 39.0.  P-val estimate is 0.063\n",
      "permutation 1147 of 1500.  Permutation max is 21.0.  Observed max is 39.0.  P-val estimate is 0.063\n",
      "permutation 1148 of 1500.  Permutation max is 15.0.  Observed max is 39.0.  P-val estimate is 0.063\n",
      "permutation 1149 of 1500.  Permutation max is 20.0.  Observed max is 39.0.  P-val estimate is 0.063\n",
      "permutation 1150 of 1500.  Permutation max is 23.0.  Observed max is 39.0.  P-val estimate is 0.063\n",
      "permutation 1151 of 1500.  Permutation max is 20.0.  Observed max is 39.0.  P-val estimate is 0.062\n",
      "permutation 1152 of 1500.  Permutation max is 6.0.  Observed max is 39.0.  P-val estimate is 0.062\n",
      "permutation 1153 of 1500.  Permutation max is 16.0.  Observed max is 39.0.  P-val estimate is 0.062\n",
      "permutation 1154 of 1500.  Permutation max is 18.0.  Observed max is 39.0.  P-val estimate is 0.062\n",
      "permutation 1155 of 1500.  Permutation max is 24.0.  Observed max is 39.0.  P-val estimate is 0.062\n",
      "permutation 1156 of 1500.  Permutation max is 28.0.  Observed max is 39.0.  P-val estimate is 0.062\n",
      "permutation 1157 of 1500.  Permutation max is 12.0.  Observed max is 39.0.  P-val estimate is 0.062\n",
      "permutation 1158 of 1500.  Permutation max is 21.0.  Observed max is 39.0.  P-val estimate is 0.062\n",
      "permutation 1159 of 1500.  Permutation max is 36.0.  Observed max is 39.0.  P-val estimate is 0.062\n",
      "permutation 1160 of 1500.  Permutation max is 31.0.  Observed max is 39.0.  P-val estimate is 0.062\n",
      "permutation 1161 of 1500.  Permutation max is 23.0.  Observed max is 39.0.  P-val estimate is 0.062\n",
      "permutation 1162 of 1500.  Permutation max is 23.0.  Observed max is 39.0.  P-val estimate is 0.062\n",
      "permutation 1163 of 1500.  Permutation max is 32.0.  Observed max is 39.0.  P-val estimate is 0.062\n",
      "permutation 1164 of 1500.  Permutation max is 32.0.  Observed max is 39.0.  P-val estimate is 0.062\n",
      "permutation 1165 of 1500.  Permutation max is 25.0.  Observed max is 39.0.  P-val estimate is 0.062\n"
     ]
    },
    {
     "name": "stdout",
     "output_type": "stream",
     "text": [
      "permutation 1166 of 1500.  Permutation max is 24.0.  Observed max is 39.0.  P-val estimate is 0.062\n",
      "permutation 1167 of 1500.  Permutation max is 31.0.  Observed max is 39.0.  P-val estimate is 0.062\n",
      "permutation 1168 of 1500.  Permutation max is 26.0.  Observed max is 39.0.  P-val estimate is 0.062\n",
      "permutation 1169 of 1500.  Permutation max is 31.0.  Observed max is 39.0.  P-val estimate is 0.062\n",
      "permutation 1170 of 1500.  Permutation max is 37.0.  Observed max is 39.0.  P-val estimate is 0.061\n",
      "permutation 1171 of 1500.  Permutation max is 24.0.  Observed max is 39.0.  P-val estimate is 0.061\n",
      "permutation 1172 of 1500.  Permutation max is 26.0.  Observed max is 39.0.  P-val estimate is 0.061\n",
      "permutation 1173 of 1500.  Permutation max is 17.0.  Observed max is 39.0.  P-val estimate is 0.061\n",
      "permutation 1174 of 1500.  Permutation max is 14.0.  Observed max is 39.0.  P-val estimate is 0.061\n",
      "permutation 1175 of 1500.  Permutation max is 17.0.  Observed max is 39.0.  P-val estimate is 0.061\n",
      "permutation 1176 of 1500.  Permutation max is 13.0.  Observed max is 39.0.  P-val estimate is 0.061\n",
      "permutation 1177 of 1500.  Permutation max is 7.0.  Observed max is 39.0.  P-val estimate is 0.061\n",
      "permutation 1178 of 1500.  Permutation max is 27.0.  Observed max is 39.0.  P-val estimate is 0.061\n",
      "permutation 1179 of 1500.  Permutation max is 38.0.  Observed max is 39.0.  P-val estimate is 0.061\n",
      "permutation 1180 of 1500.  Permutation max is 20.0.  Observed max is 39.0.  P-val estimate is 0.061\n",
      "permutation 1181 of 1500.  Permutation max is 17.0.  Observed max is 39.0.  P-val estimate is 0.061\n",
      "permutation 1182 of 1500.  Permutation max is 23.0.  Observed max is 39.0.  P-val estimate is 0.061\n",
      "permutation 1183 of 1500.  Permutation max is 35.0.  Observed max is 39.0.  P-val estimate is 0.061\n",
      "permutation 1184 of 1500.  Permutation max is 30.0.  Observed max is 39.0.  P-val estimate is 0.061\n",
      "permutation 1185 of 1500.  Permutation max is 18.0.  Observed max is 39.0.  P-val estimate is 0.061\n",
      "permutation 1186 of 1500.  Permutation max is 17.0.  Observed max is 39.0.  P-val estimate is 0.061\n",
      "permutation 1187 of 1500.  Permutation max is 13.0.  Observed max is 39.0.  P-val estimate is 0.061\n",
      "permutation 1188 of 1500.  Permutation max is 23.0.  Observed max is 39.0.  P-val estimate is 0.061\n",
      "permutation 1189 of 1500.  Permutation max is 8.0.  Observed max is 39.0.  P-val estimate is 0.061\n",
      "permutation 1190 of 1500.  Permutation max is 12.0.  Observed max is 39.0.  P-val estimate is 0.060\n",
      "permutation 1191 of 1500.  Permutation max is 32.0.  Observed max is 39.0.  P-val estimate is 0.060\n",
      "permutation 1192 of 1500.  Permutation max is 14.0.  Observed max is 39.0.  P-val estimate is 0.060\n",
      "permutation 1193 of 1500.  Permutation max is 37.0.  Observed max is 39.0.  P-val estimate is 0.060\n",
      "permutation 1194 of 1500.  Permutation max is 15.0.  Observed max is 39.0.  P-val estimate is 0.060\n",
      "permutation 1195 of 1500.  Permutation max is 45.0.  Observed max is 39.0.  P-val estimate is 0.061\n",
      "permutation 1196 of 1500.  Permutation max is 25.0.  Observed max is 39.0.  P-val estimate is 0.061\n",
      "permutation 1197 of 1500.  Permutation max is 32.0.  Observed max is 39.0.  P-val estimate is 0.061\n",
      "permutation 1198 of 1500.  Permutation max is 35.0.  Observed max is 39.0.  P-val estimate is 0.061\n",
      "permutation 1199 of 1500.  Permutation max is 28.0.  Observed max is 39.0.  P-val estimate is 0.061\n",
      "permutation 1200 of 1500.  Permutation max is 31.0.  Observed max is 39.0.  P-val estimate is 0.061\n",
      "permutation 1201 of 1500.  Permutation max is 6.0.  Observed max is 39.0.  P-val estimate is 0.061\n",
      "permutation 1202 of 1500.  Permutation max is 21.0.  Observed max is 39.0.  P-val estimate is 0.061\n",
      "permutation 1203 of 1500.  Permutation max is 14.0.  Observed max is 39.0.  P-val estimate is 0.061\n",
      "permutation 1204 of 1500.  Permutation max is 33.0.  Observed max is 39.0.  P-val estimate is 0.061\n",
      "permutation 1205 of 1500.  Permutation max is 20.0.  Observed max is 39.0.  P-val estimate is 0.061\n",
      "permutation 1206 of 1500.  Permutation max is 36.0.  Observed max is 39.0.  P-val estimate is 0.060\n",
      "permutation 1207 of 1500.  Permutation max is 23.0.  Observed max is 39.0.  P-val estimate is 0.060\n",
      "permutation 1208 of 1500.  Permutation max is 10.0.  Observed max is 39.0.  P-val estimate is 0.060\n",
      "permutation 1209 of 1500.  Permutation max is 9.0.  Observed max is 39.0.  P-val estimate is 0.060\n",
      "permutation 1210 of 1500.  Permutation max is 26.0.  Observed max is 39.0.  P-val estimate is 0.060\n",
      "permutation 1211 of 1500.  Permutation max is 17.0.  Observed max is 39.0.  P-val estimate is 0.060\n",
      "permutation 1212 of 1500.  Permutation max is 22.0.  Observed max is 39.0.  P-val estimate is 0.060\n",
      "permutation 1213 of 1500.  Permutation max is 31.0.  Observed max is 39.0.  P-val estimate is 0.060\n",
      "permutation 1214 of 1500.  Permutation max is 35.0.  Observed max is 39.0.  P-val estimate is 0.060\n",
      "permutation 1215 of 1500.  Permutation max is 23.0.  Observed max is 39.0.  P-val estimate is 0.060\n",
      "permutation 1216 of 1500.  Permutation max is 30.0.  Observed max is 39.0.  P-val estimate is 0.060\n",
      "permutation 1217 of 1500.  Permutation max is 13.0.  Observed max is 39.0.  P-val estimate is 0.060\n",
      "permutation 1218 of 1500.  Permutation max is 26.0.  Observed max is 39.0.  P-val estimate is 0.060\n",
      "permutation 1219 of 1500.  Permutation max is 16.0.  Observed max is 39.0.  P-val estimate is 0.060\n",
      "permutation 1220 of 1500.  Permutation max is 13.0.  Observed max is 39.0.  P-val estimate is 0.060\n",
      "permutation 1221 of 1500.  Permutation max is 16.0.  Observed max is 39.0.  P-val estimate is 0.060\n",
      "permutation 1222 of 1500.  Permutation max is 26.0.  Observed max is 39.0.  P-val estimate is 0.060\n",
      "permutation 1223 of 1500.  Permutation max is 22.0.  Observed max is 39.0.  P-val estimate is 0.060\n",
      "permutation 1224 of 1500.  Permutation max is 17.0.  Observed max is 39.0.  P-val estimate is 0.060\n",
      "permutation 1225 of 1500.  Permutation max is 35.0.  Observed max is 39.0.  P-val estimate is 0.060\n",
      "permutation 1226 of 1500.  Permutation max is 28.0.  Observed max is 39.0.  P-val estimate is 0.059\n",
      "permutation 1227 of 1500.  Permutation max is 23.0.  Observed max is 39.0.  P-val estimate is 0.059\n",
      "permutation 1228 of 1500.  Permutation max is 23.0.  Observed max is 39.0.  P-val estimate is 0.059\n",
      "permutation 1229 of 1500.  Permutation max is 27.0.  Observed max is 39.0.  P-val estimate is 0.059\n",
      "permutation 1230 of 1500.  Permutation max is 33.0.  Observed max is 39.0.  P-val estimate is 0.059\n",
      "permutation 1231 of 1500.  Permutation max is 27.0.  Observed max is 39.0.  P-val estimate is 0.059\n",
      "permutation 1232 of 1500.  Permutation max is 27.0.  Observed max is 39.0.  P-val estimate is 0.059\n",
      "permutation 1233 of 1500.  Permutation max is 21.0.  Observed max is 39.0.  P-val estimate is 0.059\n",
      "permutation 1234 of 1500.  Permutation max is 18.0.  Observed max is 39.0.  P-val estimate is 0.059\n",
      "permutation 1235 of 1500.  Permutation max is 32.0.  Observed max is 39.0.  P-val estimate is 0.059\n",
      "permutation 1236 of 1500.  Permutation max is 31.0.  Observed max is 39.0.  P-val estimate is 0.059\n",
      "permutation 1237 of 1500.  Permutation max is 20.0.  Observed max is 39.0.  P-val estimate is 0.059\n",
      "permutation 1238 of 1500.  Permutation max is 26.0.  Observed max is 39.0.  P-val estimate is 0.059\n",
      "permutation 1239 of 1500.  Permutation max is 12.0.  Observed max is 39.0.  P-val estimate is 0.059\n",
      "permutation 1240 of 1500.  Permutation max is 11.0.  Observed max is 39.0.  P-val estimate is 0.059\n",
      "permutation 1241 of 1500.  Permutation max is 31.0.  Observed max is 39.0.  P-val estimate is 0.059\n",
      "permutation 1242 of 1500.  Permutation max is 12.0.  Observed max is 39.0.  P-val estimate is 0.059\n",
      "permutation 1243 of 1500.  Permutation max is 41.0.  Observed max is 39.0.  P-val estimate is 0.059\n",
      "permutation 1244 of 1500.  Permutation max is 27.0.  Observed max is 39.0.  P-val estimate is 0.059\n",
      "permutation 1245 of 1500.  Permutation max is 14.0.  Observed max is 39.0.  P-val estimate is 0.059\n",
      "permutation 1246 of 1500.  Permutation max is 33.0.  Observed max is 39.0.  P-val estimate is 0.059\n",
      "permutation 1247 of 1500.  Permutation max is 7.0.  Observed max is 39.0.  P-val estimate is 0.059\n",
      "permutation 1248 of 1500.  Permutation max is 10.0.  Observed max is 39.0.  P-val estimate is 0.059\n",
      "permutation 1249 of 1500.  Permutation max is 29.0.  Observed max is 39.0.  P-val estimate is 0.059\n",
      "permutation 1250 of 1500.  Permutation max is 26.0.  Observed max is 39.0.  P-val estimate is 0.059\n",
      "permutation 1251 of 1500.  Permutation max is 36.0.  Observed max is 39.0.  P-val estimate is 0.059\n",
      "permutation 1252 of 1500.  Permutation max is 24.0.  Observed max is 39.0.  P-val estimate is 0.059\n",
      "permutation 1253 of 1500.  Permutation max is 32.0.  Observed max is 39.0.  P-val estimate is 0.059\n",
      "permutation 1254 of 1500.  Permutation max is 25.0.  Observed max is 39.0.  P-val estimate is 0.059\n",
      "permutation 1255 of 1500.  Permutation max is 26.0.  Observed max is 39.0.  P-val estimate is 0.059\n"
     ]
    },
    {
     "name": "stdout",
     "output_type": "stream",
     "text": [
      "permutation 1256 of 1500.  Permutation max is 41.0.  Observed max is 39.0.  P-val estimate is 0.060\n",
      "permutation 1257 of 1500.  Permutation max is 21.0.  Observed max is 39.0.  P-val estimate is 0.060\n",
      "permutation 1258 of 1500.  Permutation max is 20.0.  Observed max is 39.0.  P-val estimate is 0.060\n",
      "permutation 1259 of 1500.  Permutation max is 25.0.  Observed max is 39.0.  P-val estimate is 0.060\n",
      "permutation 1260 of 1500.  Permutation max is 16.0.  Observed max is 39.0.  P-val estimate is 0.059\n",
      "permutation 1261 of 1500.  Permutation max is 33.0.  Observed max is 39.0.  P-val estimate is 0.059\n",
      "permutation 1262 of 1500.  Permutation max is 40.0.  Observed max is 39.0.  P-val estimate is 0.060\n",
      "permutation 1263 of 1500.  Permutation max is 7.0.  Observed max is 39.0.  P-val estimate is 0.060\n",
      "permutation 1264 of 1500.  Permutation max is 19.0.  Observed max is 39.0.  P-val estimate is 0.060\n",
      "permutation 1265 of 1500.  Permutation max is 23.0.  Observed max is 39.0.  P-val estimate is 0.060\n",
      "permutation 1266 of 1500.  Permutation max is 24.0.  Observed max is 39.0.  P-val estimate is 0.060\n",
      "permutation 1267 of 1500.  Permutation max is 21.0.  Observed max is 39.0.  P-val estimate is 0.060\n",
      "permutation 1268 of 1500.  Permutation max is 10.0.  Observed max is 39.0.  P-val estimate is 0.060\n",
      "permutation 1269 of 1500.  Permutation max is 22.0.  Observed max is 39.0.  P-val estimate is 0.060\n",
      "permutation 1270 of 1500.  Permutation max is 31.0.  Observed max is 39.0.  P-val estimate is 0.060\n",
      "permutation 1271 of 1500.  Permutation max is 28.0.  Observed max is 39.0.  P-val estimate is 0.060\n",
      "permutation 1272 of 1500.  Permutation max is 22.0.  Observed max is 39.0.  P-val estimate is 0.060\n",
      "permutation 1273 of 1500.  Permutation max is 16.0.  Observed max is 39.0.  P-val estimate is 0.060\n",
      "permutation 1274 of 1500.  Permutation max is 28.0.  Observed max is 39.0.  P-val estimate is 0.060\n",
      "permutation 1275 of 1500.  Permutation max is 18.0.  Observed max is 39.0.  P-val estimate is 0.060\n",
      "permutation 1276 of 1500.  Permutation max is 26.0.  Observed max is 39.0.  P-val estimate is 0.060\n",
      "permutation 1277 of 1500.  Permutation max is 18.0.  Observed max is 39.0.  P-val estimate is 0.059\n",
      "permutation 1278 of 1500.  Permutation max is 23.0.  Observed max is 39.0.  P-val estimate is 0.059\n",
      "permutation 1279 of 1500.  Permutation max is 45.0.  Observed max is 39.0.  P-val estimate is 0.060\n",
      "permutation 1280 of 1500.  Permutation max is 18.0.  Observed max is 39.0.  P-val estimate is 0.060\n",
      "permutation 1281 of 1500.  Permutation max is 24.0.  Observed max is 39.0.  P-val estimate is 0.060\n",
      "permutation 1282 of 1500.  Permutation max is 24.0.  Observed max is 39.0.  P-val estimate is 0.060\n",
      "permutation 1283 of 1500.  Permutation max is 19.0.  Observed max is 39.0.  P-val estimate is 0.060\n",
      "permutation 1284 of 1500.  Permutation max is 23.0.  Observed max is 39.0.  P-val estimate is 0.060\n",
      "permutation 1285 of 1500.  Permutation max is 39.0.  Observed max is 39.0.  P-val estimate is 0.061\n",
      "permutation 1286 of 1500.  Permutation max is 32.0.  Observed max is 39.0.  P-val estimate is 0.061\n",
      "permutation 1287 of 1500.  Permutation max is 18.0.  Observed max is 39.0.  P-val estimate is 0.061\n",
      "permutation 1288 of 1500.  Permutation max is 28.0.  Observed max is 39.0.  P-val estimate is 0.061\n",
      "permutation 1289 of 1500.  Permutation max is 20.0.  Observed max is 39.0.  P-val estimate is 0.060\n",
      "permutation 1290 of 1500.  Permutation max is 12.0.  Observed max is 39.0.  P-val estimate is 0.060\n",
      "permutation 1291 of 1500.  Permutation max is 16.0.  Observed max is 39.0.  P-val estimate is 0.060\n",
      "permutation 1292 of 1500.  Permutation max is 28.0.  Observed max is 39.0.  P-val estimate is 0.060\n",
      "permutation 1293 of 1500.  Permutation max is 31.0.  Observed max is 39.0.  P-val estimate is 0.060\n",
      "permutation 1294 of 1500.  Permutation max is 41.0.  Observed max is 39.0.  P-val estimate is 0.061\n",
      "permutation 1295 of 1500.  Permutation max is 19.0.  Observed max is 39.0.  P-val estimate is 0.061\n",
      "permutation 1296 of 1500.  Permutation max is 25.0.  Observed max is 39.0.  P-val estimate is 0.061\n",
      "permutation 1297 of 1500.  Permutation max is 24.0.  Observed max is 39.0.  P-val estimate is 0.061\n",
      "permutation 1298 of 1500.  Permutation max is 15.0.  Observed max is 39.0.  P-val estimate is 0.061\n",
      "permutation 1299 of 1500.  Permutation max is 8.0.  Observed max is 39.0.  P-val estimate is 0.061\n",
      "permutation 1300 of 1500.  Permutation max is 7.0.  Observed max is 39.0.  P-val estimate is 0.061\n",
      "permutation 1301 of 1500.  Permutation max is 13.0.  Observed max is 39.0.  P-val estimate is 0.061\n",
      "permutation 1302 of 1500.  Permutation max is 26.0.  Observed max is 39.0.  P-val estimate is 0.061\n",
      "permutation 1303 of 1500.  Permutation max is 31.0.  Observed max is 39.0.  P-val estimate is 0.061\n",
      "permutation 1304 of 1500.  Permutation max is 41.0.  Observed max is 39.0.  P-val estimate is 0.061\n",
      "permutation 1305 of 1500.  Permutation max is 28.0.  Observed max is 39.0.  P-val estimate is 0.061\n",
      "permutation 1306 of 1500.  Permutation max is 16.0.  Observed max is 39.0.  P-val estimate is 0.061\n",
      "permutation 1307 of 1500.  Permutation max is 28.0.  Observed max is 39.0.  P-val estimate is 0.061\n",
      "permutation 1308 of 1500.  Permutation max is 36.0.  Observed max is 39.0.  P-val estimate is 0.061\n",
      "permutation 1309 of 1500.  Permutation max is 33.0.  Observed max is 39.0.  P-val estimate is 0.061\n",
      "permutation 1310 of 1500.  Permutation max is 24.0.  Observed max is 39.0.  P-val estimate is 0.061\n",
      "permutation 1311 of 1500.  Permutation max is 24.0.  Observed max is 39.0.  P-val estimate is 0.061\n",
      "permutation 1312 of 1500.  Permutation max is 26.0.  Observed max is 39.0.  P-val estimate is 0.061\n",
      "permutation 1313 of 1500.  Permutation max is 29.0.  Observed max is 39.0.  P-val estimate is 0.061\n",
      "permutation 1314 of 1500.  Permutation max is 17.0.  Observed max is 39.0.  P-val estimate is 0.061\n",
      "permutation 1315 of 1500.  Permutation max is 35.0.  Observed max is 39.0.  P-val estimate is 0.061\n",
      "permutation 1316 of 1500.  Permutation max is 6.0.  Observed max is 39.0.  P-val estimate is 0.061\n",
      "permutation 1317 of 1500.  Permutation max is 26.0.  Observed max is 39.0.  P-val estimate is 0.061\n",
      "permutation 1318 of 1500.  Permutation max is 21.0.  Observed max is 39.0.  P-val estimate is 0.061\n",
      "permutation 1319 of 1500.  Permutation max is 22.0.  Observed max is 39.0.  P-val estimate is 0.061\n",
      "permutation 1320 of 1500.  Permutation max is 24.0.  Observed max is 39.0.  P-val estimate is 0.061\n",
      "permutation 1321 of 1500.  Permutation max is 33.0.  Observed max is 39.0.  P-val estimate is 0.061\n",
      "permutation 1322 of 1500.  Permutation max is 31.0.  Observed max is 39.0.  P-val estimate is 0.060\n",
      "permutation 1323 of 1500.  Permutation max is 16.0.  Observed max is 39.0.  P-val estimate is 0.060\n",
      "permutation 1324 of 1500.  Permutation max is 22.0.  Observed max is 39.0.  P-val estimate is 0.060\n",
      "permutation 1325 of 1500.  Permutation max is 29.0.  Observed max is 39.0.  P-val estimate is 0.060\n",
      "permutation 1326 of 1500.  Permutation max is 18.0.  Observed max is 39.0.  P-val estimate is 0.060\n",
      "permutation 1327 of 1500.  Permutation max is 18.0.  Observed max is 39.0.  P-val estimate is 0.060\n",
      "permutation 1328 of 1500.  Permutation max is 18.0.  Observed max is 39.0.  P-val estimate is 0.060\n",
      "permutation 1329 of 1500.  Permutation max is 21.0.  Observed max is 39.0.  P-val estimate is 0.060\n",
      "permutation 1330 of 1500.  Permutation max is 23.0.  Observed max is 39.0.  P-val estimate is 0.060\n",
      "permutation 1331 of 1500.  Permutation max is 34.0.  Observed max is 39.0.  P-val estimate is 0.060\n",
      "permutation 1332 of 1500.  Permutation max is 24.0.  Observed max is 39.0.  P-val estimate is 0.060\n",
      "permutation 1333 of 1500.  Permutation max is 34.0.  Observed max is 39.0.  P-val estimate is 0.060\n",
      "permutation 1334 of 1500.  Permutation max is 31.0.  Observed max is 39.0.  P-val estimate is 0.060\n",
      "permutation 1335 of 1500.  Permutation max is 26.0.  Observed max is 39.0.  P-val estimate is 0.060\n",
      "permutation 1336 of 1500.  Permutation max is 19.0.  Observed max is 39.0.  P-val estimate is 0.060\n",
      "permutation 1337 of 1500.  Permutation max is 25.0.  Observed max is 39.0.  P-val estimate is 0.060\n",
      "permutation 1338 of 1500.  Permutation max is 31.0.  Observed max is 39.0.  P-val estimate is 0.060\n",
      "permutation 1339 of 1500.  Permutation max is 25.0.  Observed max is 39.0.  P-val estimate is 0.060\n",
      "permutation 1340 of 1500.  Permutation max is 27.0.  Observed max is 39.0.  P-val estimate is 0.060\n",
      "permutation 1341 of 1500.  Permutation max is 37.0.  Observed max is 39.0.  P-val estimate is 0.060\n",
      "permutation 1342 of 1500.  Permutation max is 27.0.  Observed max is 39.0.  P-val estimate is 0.060\n",
      "permutation 1343 of 1500.  Permutation max is 18.0.  Observed max is 39.0.  P-val estimate is 0.060\n",
      "permutation 1344 of 1500.  Permutation max is 12.0.  Observed max is 39.0.  P-val estimate is 0.059\n",
      "permutation 1345 of 1500.  Permutation max is 12.0.  Observed max is 39.0.  P-val estimate is 0.059\n"
     ]
    },
    {
     "name": "stdout",
     "output_type": "stream",
     "text": [
      "permutation 1346 of 1500.  Permutation max is 28.0.  Observed max is 39.0.  P-val estimate is 0.059\n",
      "permutation 1347 of 1500.  Permutation max is 18.0.  Observed max is 39.0.  P-val estimate is 0.059\n",
      "permutation 1348 of 1500.  Permutation max is 12.0.  Observed max is 39.0.  P-val estimate is 0.059\n",
      "permutation 1349 of 1500.  Permutation max is 8.0.  Observed max is 39.0.  P-val estimate is 0.059\n",
      "permutation 1350 of 1500.  Permutation max is 18.0.  Observed max is 39.0.  P-val estimate is 0.059\n",
      "permutation 1351 of 1500.  Permutation max is 35.0.  Observed max is 39.0.  P-val estimate is 0.059\n",
      "permutation 1352 of 1500.  Permutation max is 23.0.  Observed max is 39.0.  P-val estimate is 0.059\n",
      "permutation 1353 of 1500.  Permutation max is 28.0.  Observed max is 39.0.  P-val estimate is 0.059\n",
      "permutation 1354 of 1500.  Permutation max is 13.0.  Observed max is 39.0.  P-val estimate is 0.059\n",
      "permutation 1355 of 1500.  Permutation max is 29.0.  Observed max is 39.0.  P-val estimate is 0.059\n",
      "permutation 1356 of 1500.  Permutation max is 26.0.  Observed max is 39.0.  P-val estimate is 0.059\n",
      "permutation 1357 of 1500.  Permutation max is 23.0.  Observed max is 39.0.  P-val estimate is 0.059\n",
      "permutation 1358 of 1500.  Permutation max is 21.0.  Observed max is 39.0.  P-val estimate is 0.059\n",
      "permutation 1359 of 1500.  Permutation max is 12.0.  Observed max is 39.0.  P-val estimate is 0.059\n",
      "permutation 1360 of 1500.  Permutation max is 33.0.  Observed max is 39.0.  P-val estimate is 0.059\n",
      "permutation 1361 of 1500.  Permutation max is 30.0.  Observed max is 39.0.  P-val estimate is 0.059\n",
      "permutation 1362 of 1500.  Permutation max is 24.0.  Observed max is 39.0.  P-val estimate is 0.059\n",
      "permutation 1363 of 1500.  Permutation max is 16.0.  Observed max is 39.0.  P-val estimate is 0.059\n",
      "permutation 1364 of 1500.  Permutation max is 15.0.  Observed max is 39.0.  P-val estimate is 0.059\n",
      "permutation 1365 of 1500.  Permutation max is 23.0.  Observed max is 39.0.  P-val estimate is 0.059\n",
      "permutation 1366 of 1500.  Permutation max is 36.0.  Observed max is 39.0.  P-val estimate is 0.059\n",
      "permutation 1367 of 1500.  Permutation max is 24.0.  Observed max is 39.0.  P-val estimate is 0.058\n",
      "permutation 1368 of 1500.  Permutation max is 41.0.  Observed max is 39.0.  P-val estimate is 0.059\n",
      "permutation 1369 of 1500.  Permutation max is 38.0.  Observed max is 39.0.  P-val estimate is 0.059\n",
      "permutation 1370 of 1500.  Permutation max is 34.0.  Observed max is 39.0.  P-val estimate is 0.059\n",
      "permutation 1371 of 1500.  Permutation max is 37.0.  Observed max is 39.0.  P-val estimate is 0.059\n",
      "permutation 1372 of 1500.  Permutation max is 21.0.  Observed max is 39.0.  P-val estimate is 0.059\n",
      "permutation 1373 of 1500.  Permutation max is 29.0.  Observed max is 39.0.  P-val estimate is 0.059\n",
      "permutation 1374 of 1500.  Permutation max is 21.0.  Observed max is 39.0.  P-val estimate is 0.059\n",
      "permutation 1375 of 1500.  Permutation max is 20.0.  Observed max is 39.0.  P-val estimate is 0.059\n",
      "permutation 1376 of 1500.  Permutation max is 9.0.  Observed max is 39.0.  P-val estimate is 0.059\n",
      "permutation 1377 of 1500.  Permutation max is 13.0.  Observed max is 39.0.  P-val estimate is 0.059\n",
      "permutation 1378 of 1500.  Permutation max is 34.0.  Observed max is 39.0.  P-val estimate is 0.059\n",
      "permutation 1379 of 1500.  Permutation max is 22.0.  Observed max is 39.0.  P-val estimate is 0.059\n",
      "permutation 1380 of 1500.  Permutation max is 12.0.  Observed max is 39.0.  P-val estimate is 0.059\n",
      "permutation 1381 of 1500.  Permutation max is 23.0.  Observed max is 39.0.  P-val estimate is 0.059\n",
      "permutation 1382 of 1500.  Permutation max is 20.0.  Observed max is 39.0.  P-val estimate is 0.059\n",
      "permutation 1383 of 1500.  Permutation max is 25.0.  Observed max is 39.0.  P-val estimate is 0.059\n",
      "permutation 1384 of 1500.  Permutation max is 31.0.  Observed max is 39.0.  P-val estimate is 0.058\n",
      "permutation 1385 of 1500.  Permutation max is 16.0.  Observed max is 39.0.  P-val estimate is 0.058\n",
      "permutation 1386 of 1500.  Permutation max is 12.0.  Observed max is 39.0.  P-val estimate is 0.058\n",
      "permutation 1387 of 1500.  Permutation max is 17.0.  Observed max is 39.0.  P-val estimate is 0.058\n",
      "permutation 1388 of 1500.  Permutation max is 18.0.  Observed max is 39.0.  P-val estimate is 0.058\n",
      "permutation 1389 of 1500.  Permutation max is 23.0.  Observed max is 39.0.  P-val estimate is 0.058\n",
      "permutation 1390 of 1500.  Permutation max is 16.0.  Observed max is 39.0.  P-val estimate is 0.058\n",
      "permutation 1391 of 1500.  Permutation max is 28.0.  Observed max is 39.0.  P-val estimate is 0.058\n",
      "permutation 1392 of 1500.  Permutation max is 30.0.  Observed max is 39.0.  P-val estimate is 0.058\n",
      "permutation 1393 of 1500.  Permutation max is 18.0.  Observed max is 39.0.  P-val estimate is 0.058\n",
      "permutation 1394 of 1500.  Permutation max is 26.0.  Observed max is 39.0.  P-val estimate is 0.058\n",
      "permutation 1395 of 1500.  Permutation max is 13.0.  Observed max is 39.0.  P-val estimate is 0.058\n",
      "permutation 1396 of 1500.  Permutation max is 24.0.  Observed max is 39.0.  P-val estimate is 0.058\n",
      "permutation 1397 of 1500.  Permutation max is 13.0.  Observed max is 39.0.  P-val estimate is 0.058\n",
      "permutation 1398 of 1500.  Permutation max is 27.0.  Observed max is 39.0.  P-val estimate is 0.058\n",
      "permutation 1399 of 1500.  Permutation max is 29.0.  Observed max is 39.0.  P-val estimate is 0.058\n",
      "permutation 1400 of 1500.  Permutation max is 13.0.  Observed max is 39.0.  P-val estimate is 0.058\n",
      "permutation 1401 of 1500.  Permutation max is 12.0.  Observed max is 39.0.  P-val estimate is 0.058\n",
      "permutation 1402 of 1500.  Permutation max is 19.0.  Observed max is 39.0.  P-val estimate is 0.058\n",
      "permutation 1403 of 1500.  Permutation max is 20.0.  Observed max is 39.0.  P-val estimate is 0.058\n",
      "permutation 1404 of 1500.  Permutation max is 34.0.  Observed max is 39.0.  P-val estimate is 0.058\n",
      "permutation 1405 of 1500.  Permutation max is 17.0.  Observed max is 39.0.  P-val estimate is 0.058\n",
      "permutation 1406 of 1500.  Permutation max is 24.0.  Observed max is 39.0.  P-val estimate is 0.058\n",
      "permutation 1407 of 1500.  Permutation max is 22.0.  Observed max is 39.0.  P-val estimate is 0.058\n",
      "permutation 1408 of 1500.  Permutation max is 45.0.  Observed max is 39.0.  P-val estimate is 0.058\n",
      "permutation 1409 of 1500.  Permutation max is 40.0.  Observed max is 39.0.  P-val estimate is 0.059\n",
      "permutation 1410 of 1500.  Permutation max is 14.0.  Observed max is 39.0.  P-val estimate is 0.059\n",
      "permutation 1411 of 1500.  Permutation max is 19.0.  Observed max is 39.0.  P-val estimate is 0.059\n",
      "permutation 1412 of 1500.  Permutation max is 19.0.  Observed max is 39.0.  P-val estimate is 0.059\n",
      "permutation 1413 of 1500.  Permutation max is 18.0.  Observed max is 39.0.  P-val estimate is 0.059\n",
      "permutation 1414 of 1500.  Permutation max is 16.0.  Observed max is 39.0.  P-val estimate is 0.059\n",
      "permutation 1415 of 1500.  Permutation max is 31.0.  Observed max is 39.0.  P-val estimate is 0.059\n",
      "permutation 1416 of 1500.  Permutation max is 38.0.  Observed max is 39.0.  P-val estimate is 0.059\n",
      "permutation 1417 of 1500.  Permutation max is 24.0.  Observed max is 39.0.  P-val estimate is 0.059\n",
      "permutation 1418 of 1500.  Permutation max is 28.0.  Observed max is 39.0.  P-val estimate is 0.058\n",
      "permutation 1419 of 1500.  Permutation max is 21.0.  Observed max is 39.0.  P-val estimate is 0.058\n",
      "permutation 1420 of 1500.  Permutation max is 18.0.  Observed max is 39.0.  P-val estimate is 0.058\n",
      "permutation 1421 of 1500.  Permutation max is 8.0.  Observed max is 39.0.  P-val estimate is 0.058\n",
      "permutation 1422 of 1500.  Permutation max is 32.0.  Observed max is 39.0.  P-val estimate is 0.058\n",
      "permutation 1423 of 1500.  Permutation max is 33.0.  Observed max is 39.0.  P-val estimate is 0.058\n",
      "permutation 1424 of 1500.  Permutation max is 17.0.  Observed max is 39.0.  P-val estimate is 0.058\n",
      "permutation 1425 of 1500.  Permutation max is 8.0.  Observed max is 39.0.  P-val estimate is 0.058\n",
      "permutation 1426 of 1500.  Permutation max is 21.0.  Observed max is 39.0.  P-val estimate is 0.058\n",
      "permutation 1427 of 1500.  Permutation max is 18.0.  Observed max is 39.0.  P-val estimate is 0.058\n",
      "permutation 1428 of 1500.  Permutation max is 31.0.  Observed max is 39.0.  P-val estimate is 0.058\n",
      "permutation 1429 of 1500.  Permutation max is 39.0.  Observed max is 39.0.  P-val estimate is 0.059\n",
      "permutation 1430 of 1500.  Permutation max is 17.0.  Observed max is 39.0.  P-val estimate is 0.059\n",
      "permutation 1431 of 1500.  Permutation max is 23.0.  Observed max is 39.0.  P-val estimate is 0.059\n",
      "permutation 1432 of 1500.  Permutation max is 24.0.  Observed max is 39.0.  P-val estimate is 0.059\n",
      "permutation 1433 of 1500.  Permutation max is 19.0.  Observed max is 39.0.  P-val estimate is 0.059\n",
      "permutation 1434 of 1500.  Permutation max is 22.0.  Observed max is 39.0.  P-val estimate is 0.059\n",
      "permutation 1435 of 1500.  Permutation max is 37.0.  Observed max is 39.0.  P-val estimate is 0.058\n"
     ]
    },
    {
     "name": "stdout",
     "output_type": "stream",
     "text": [
      "permutation 1436 of 1500.  Permutation max is 28.0.  Observed max is 39.0.  P-val estimate is 0.058\n",
      "permutation 1437 of 1500.  Permutation max is 31.0.  Observed max is 39.0.  P-val estimate is 0.058\n",
      "permutation 1438 of 1500.  Permutation max is 40.0.  Observed max is 39.0.  P-val estimate is 0.059\n",
      "permutation 1439 of 1500.  Permutation max is 17.0.  Observed max is 39.0.  P-val estimate is 0.059\n",
      "permutation 1440 of 1500.  Permutation max is 21.0.  Observed max is 39.0.  P-val estimate is 0.059\n",
      "permutation 1441 of 1500.  Permutation max is 40.0.  Observed max is 39.0.  P-val estimate is 0.060\n",
      "permutation 1442 of 1500.  Permutation max is 34.0.  Observed max is 39.0.  P-val estimate is 0.060\n",
      "permutation 1443 of 1500.  Permutation max is 18.0.  Observed max is 39.0.  P-val estimate is 0.060\n",
      "permutation 1444 of 1500.  Permutation max is 36.0.  Observed max is 39.0.  P-val estimate is 0.060\n",
      "permutation 1445 of 1500.  Permutation max is 33.0.  Observed max is 39.0.  P-val estimate is 0.059\n",
      "permutation 1446 of 1500.  Permutation max is 37.0.  Observed max is 39.0.  P-val estimate is 0.059\n",
      "permutation 1447 of 1500.  Permutation max is 26.0.  Observed max is 39.0.  P-val estimate is 0.059\n",
      "permutation 1448 of 1500.  Permutation max is 32.0.  Observed max is 39.0.  P-val estimate is 0.059\n",
      "permutation 1449 of 1500.  Permutation max is 18.0.  Observed max is 39.0.  P-val estimate is 0.059\n",
      "permutation 1450 of 1500.  Permutation max is 27.0.  Observed max is 39.0.  P-val estimate is 0.059\n",
      "permutation 1451 of 1500.  Permutation max is 35.0.  Observed max is 39.0.  P-val estimate is 0.059\n",
      "permutation 1452 of 1500.  Permutation max is 12.0.  Observed max is 39.0.  P-val estimate is 0.059\n",
      "permutation 1453 of 1500.  Permutation max is 27.0.  Observed max is 39.0.  P-val estimate is 0.059\n",
      "permutation 1454 of 1500.  Permutation max is 18.0.  Observed max is 39.0.  P-val estimate is 0.059\n",
      "permutation 1455 of 1500.  Permutation max is 33.0.  Observed max is 39.0.  P-val estimate is 0.059\n",
      "permutation 1456 of 1500.  Permutation max is 41.0.  Observed max is 39.0.  P-val estimate is 0.060\n",
      "permutation 1457 of 1500.  Permutation max is 36.0.  Observed max is 39.0.  P-val estimate is 0.060\n",
      "permutation 1458 of 1500.  Permutation max is 23.0.  Observed max is 39.0.  P-val estimate is 0.060\n",
      "permutation 1459 of 1500.  Permutation max is 26.0.  Observed max is 39.0.  P-val estimate is 0.060\n",
      "permutation 1460 of 1500.  Permutation max is 16.0.  Observed max is 39.0.  P-val estimate is 0.060\n",
      "permutation 1461 of 1500.  Permutation max is 14.0.  Observed max is 39.0.  P-val estimate is 0.060\n",
      "permutation 1462 of 1500.  Permutation max is 37.0.  Observed max is 39.0.  P-val estimate is 0.059\n",
      "permutation 1463 of 1500.  Permutation max is 30.0.  Observed max is 39.0.  P-val estimate is 0.059\n",
      "permutation 1464 of 1500.  Permutation max is 31.0.  Observed max is 39.0.  P-val estimate is 0.059\n",
      "permutation 1465 of 1500.  Permutation max is 24.0.  Observed max is 39.0.  P-val estimate is 0.059\n",
      "permutation 1466 of 1500.  Permutation max is 23.0.  Observed max is 39.0.  P-val estimate is 0.059\n",
      "permutation 1467 of 1500.  Permutation max is 31.0.  Observed max is 39.0.  P-val estimate is 0.059\n",
      "permutation 1468 of 1500.  Permutation max is 16.0.  Observed max is 39.0.  P-val estimate is 0.059\n",
      "permutation 1469 of 1500.  Permutation max is 31.0.  Observed max is 39.0.  P-val estimate is 0.059\n",
      "permutation 1470 of 1500.  Permutation max is 22.0.  Observed max is 39.0.  P-val estimate is 0.059\n",
      "permutation 1471 of 1500.  Permutation max is 16.0.  Observed max is 39.0.  P-val estimate is 0.059\n",
      "permutation 1472 of 1500.  Permutation max is 37.0.  Observed max is 39.0.  P-val estimate is 0.059\n",
      "permutation 1473 of 1500.  Permutation max is 17.0.  Observed max is 39.0.  P-val estimate is 0.059\n",
      "permutation 1474 of 1500.  Permutation max is 21.0.  Observed max is 39.0.  P-val estimate is 0.059\n",
      "permutation 1475 of 1500.  Permutation max is 18.0.  Observed max is 39.0.  P-val estimate is 0.059\n",
      "permutation 1476 of 1500.  Permutation max is 11.0.  Observed max is 39.0.  P-val estimate is 0.059\n",
      "permutation 1477 of 1500.  Permutation max is 26.0.  Observed max is 39.0.  P-val estimate is 0.059\n",
      "permutation 1478 of 1500.  Permutation max is 27.0.  Observed max is 39.0.  P-val estimate is 0.059\n",
      "permutation 1479 of 1500.  Permutation max is 19.0.  Observed max is 39.0.  P-val estimate is 0.059\n",
      "permutation 1480 of 1500.  Permutation max is 25.0.  Observed max is 39.0.  P-val estimate is 0.059\n",
      "permutation 1481 of 1500.  Permutation max is 45.0.  Observed max is 39.0.  P-val estimate is 0.059\n",
      "permutation 1482 of 1500.  Permutation max is 38.0.  Observed max is 39.0.  P-val estimate is 0.059\n",
      "permutation 1483 of 1500.  Permutation max is 45.0.  Observed max is 39.0.  P-val estimate is 0.060\n",
      "permutation 1484 of 1500.  Permutation max is 20.0.  Observed max is 39.0.  P-val estimate is 0.060\n",
      "permutation 1485 of 1500.  Permutation max is 35.0.  Observed max is 39.0.  P-val estimate is 0.060\n",
      "permutation 1486 of 1500.  Permutation max is 22.0.  Observed max is 39.0.  P-val estimate is 0.060\n",
      "permutation 1487 of 1500.  Permutation max is 45.0.  Observed max is 39.0.  P-val estimate is 0.060\n",
      "permutation 1488 of 1500.  Permutation max is 37.0.  Observed max is 39.0.  P-val estimate is 0.060\n",
      "permutation 1489 of 1500.  Permutation max is 10.0.  Observed max is 39.0.  P-val estimate is 0.060\n",
      "permutation 1490 of 1500.  Permutation max is 30.0.  Observed max is 39.0.  P-val estimate is 0.060\n",
      "permutation 1491 of 1500.  Permutation max is 31.0.  Observed max is 39.0.  P-val estimate is 0.060\n",
      "permutation 1492 of 1500.  Permutation max is 34.0.  Observed max is 39.0.  P-val estimate is 0.060\n",
      "permutation 1493 of 1500.  Permutation max is 14.0.  Observed max is 39.0.  P-val estimate is 0.060\n",
      "permutation 1494 of 1500.  Permutation max is 17.0.  Observed max is 39.0.  P-val estimate is 0.060\n",
      "permutation 1495 of 1500.  Permutation max is 34.0.  Observed max is 39.0.  P-val estimate is 0.060\n",
      "permutation 1496 of 1500.  Permutation max is 40.0.  Observed max is 39.0.  P-val estimate is 0.061\n",
      "permutation 1497 of 1500.  Permutation max is 28.0.  Observed max is 39.0.  P-val estimate is 0.061\n",
      "permutation 1498 of 1500.  Permutation max is 23.0.  Observed max is 39.0.  P-val estimate is 0.061\n",
      "permutation 1499 of 1500.  Permutation max is 34.0.  Observed max is 39.0.  P-val estimate is 0.061\n"
     ]
    }
   ],
   "source": [
    "# now we can run NBS\n",
    "# NBS is taken from: https://github.com/aestrivex/bctpy, can be installed using pip (pip install bctpy)\n",
    "from bct import nbs\n",
    "# we compare ket1 and ket3\n",
    "pval, adj, _ = nbs.nbs_bct(ket1Reshape, ket3Reshape, thresh=2.5, tail='both',k=1500, paired=True, verbose = True)\n",
    "# check mean p vlue\n",
    "#np.mean(checkNBS[0])"
   ]
  },
  {
   "cell_type": "code",
   "execution_count": 239,
   "metadata": {},
   "outputs": [
    {
     "name": "stdout",
     "output_type": "stream",
     "text": [
      "(1,)\n",
      "[0.06066667]\n",
      "(39, 39)\n",
      "[[0. 0. 0. 0. 0. 0. 0. 0. 0. 0. 0. 0. 0. 0. 0. 0. 0. 0. 0. 0. 0. 0. 0. 1.\n",
      "  0. 0. 0. 0. 0. 0. 0. 1. 0. 0. 0. 0. 0. 0. 0.]\n",
      " [0. 0. 0. 0. 0. 0. 0. 0. 1. 0. 0. 0. 0. 0. 0. 0. 0. 0. 0. 0. 0. 0. 0. 0.\n",
      "  0. 0. 0. 0. 0. 0. 0. 0. 0. 0. 0. 0. 0. 0. 0.]\n",
      " [0. 0. 0. 0. 0. 0. 0. 0. 0. 0. 0. 0. 0. 0. 0. 0. 0. 0. 0. 0. 0. 0. 0. 0.\n",
      "  0. 0. 0. 0. 0. 0. 0. 0. 0. 0. 0. 0. 0. 0. 0.]\n",
      " [0. 0. 0. 0. 0. 0. 0. 0. 0. 0. 0. 0. 0. 0. 0. 0. 0. 0. 0. 0. 0. 0. 0. 0.\n",
      "  0. 0. 0. 0. 0. 0. 0. 0. 0. 0. 0. 0. 0. 0. 0.]\n",
      " [0. 0. 0. 0. 0. 0. 0. 0. 0. 1. 0. 0. 0. 0. 0. 0. 0. 0. 1. 0. 0. 0. 0. 1.\n",
      "  0. 0. 0. 0. 0. 0. 0. 0. 0. 0. 0. 0. 0. 1. 0.]\n",
      " [0. 0. 0. 0. 0. 0. 0. 0. 0. 0. 1. 0. 0. 1. 0. 0. 0. 0. 0. 0. 0. 0. 0. 0.\n",
      "  1. 0. 0. 0. 0. 0. 0. 0. 0. 0. 0. 0. 0. 0. 0.]\n",
      " [0. 0. 0. 0. 0. 0. 0. 0. 0. 0. 0. 0. 0. 0. 0. 0. 0. 0. 0. 0. 0. 0. 0. 0.\n",
      "  1. 0. 0. 0. 0. 0. 0. 0. 0. 0. 0. 0. 0. 0. 0.]\n",
      " [0. 0. 0. 0. 0. 0. 0. 0. 0. 0. 0. 0. 0. 0. 0. 0. 0. 0. 0. 0. 0. 0. 0. 0.\n",
      "  0. 1. 0. 0. 0. 0. 0. 0. 1. 0. 0. 0. 0. 0. 0.]\n",
      " [0. 1. 0. 0. 0. 0. 0. 0. 0. 0. 0. 0. 0. 0. 0. 0. 0. 0. 0. 0. 0. 0. 0. 0.\n",
      "  0. 0. 0. 0. 0. 1. 0. 0. 0. 0. 1. 0. 0. 0. 0.]\n",
      " [0. 0. 0. 0. 1. 0. 0. 0. 0. 0. 0. 0. 0. 0. 0. 0. 0. 0. 0. 0. 0. 0. 0. 0.\n",
      "  0. 0. 0. 0. 0. 0. 0. 0. 0. 0. 0. 0. 1. 0. 0.]]\n",
      "[[0. 0. 0. 0. 0. 0. 0. 0. 0. 0.]\n",
      " [0. 0. 0. 0. 0. 0. 0. 0. 1. 0.]\n",
      " [0. 0. 0. 0. 0. 0. 0. 0. 0. 0.]\n",
      " [0. 0. 0. 0. 0. 0. 0. 0. 0. 0.]\n",
      " [0. 0. 0. 0. 0. 0. 0. 0. 0. 1.]\n",
      " [0. 0. 0. 0. 0. 0. 0. 0. 0. 0.]\n",
      " [0. 0. 0. 0. 0. 0. 0. 0. 0. 0.]\n",
      " [0. 0. 0. 0. 0. 0. 0. 0. 0. 0.]\n",
      " [0. 1. 0. 0. 0. 0. 0. 0. 0. 0.]\n",
      " [0. 0. 0. 0. 1. 0. 0. 0. 0. 0.]\n",
      " [0. 0. 0. 0. 0. 1. 0. 0. 0. 0.]\n",
      " [0. 0. 0. 0. 0. 0. 0. 0. 0. 0.]\n",
      " [0. 0. 0. 0. 0. 0. 0. 0. 0. 0.]\n",
      " [0. 0. 0. 0. 0. 1. 0. 0. 0. 0.]\n",
      " [0. 0. 0. 0. 0. 0. 0. 0. 0. 0.]\n",
      " [0. 0. 0. 0. 0. 0. 0. 0. 0. 0.]\n",
      " [0. 0. 0. 0. 0. 0. 0. 0. 0. 0.]\n",
      " [0. 0. 0. 0. 0. 0. 0. 0. 0. 0.]\n",
      " [0. 0. 0. 0. 1. 0. 0. 0. 0. 0.]\n",
      " [0. 0. 0. 0. 0. 0. 0. 0. 0. 0.]\n",
      " [0. 0. 0. 0. 0. 0. 0. 0. 0. 0.]\n",
      " [0. 0. 0. 0. 0. 0. 0. 0. 0. 0.]\n",
      " [0. 0. 0. 0. 0. 0. 0. 0. 0. 0.]\n",
      " [1. 0. 0. 0. 1. 0. 0. 0. 0. 0.]\n",
      " [0. 0. 0. 0. 0. 1. 1. 0. 0. 0.]\n",
      " [0. 0. 0. 0. 0. 0. 0. 1. 0. 0.]\n",
      " [0. 0. 0. 0. 0. 0. 0. 0. 0. 0.]\n",
      " [0. 0. 0. 0. 0. 0. 0. 0. 0. 0.]\n",
      " [0. 0. 0. 0. 0. 0. 0. 0. 0. 0.]\n",
      " [0. 0. 0. 0. 0. 0. 0. 0. 1. 0.]\n",
      " [0. 0. 0. 0. 0. 0. 0. 0. 0. 0.]\n",
      " [1. 0. 0. 0. 0. 0. 0. 0. 0. 0.]\n",
      " [0. 0. 0. 0. 0. 0. 0. 1. 0. 0.]\n",
      " [0. 0. 0. 0. 0. 0. 0. 0. 0. 0.]\n",
      " [0. 0. 0. 0. 0. 0. 0. 0. 1. 0.]\n",
      " [0. 0. 0. 0. 0. 0. 0. 0. 0. 0.]\n",
      " [0. 0. 0. 0. 0. 0. 0. 0. 0. 1.]\n",
      " [0. 0. 0. 0. 1. 0. 0. 0. 0. 0.]\n",
      " [0. 0. 0. 0. 0. 0. 0. 0. 0. 0.]]\n"
     ]
    }
   ],
   "source": [
    "# look at p values and No. of components.\n",
    "print(pval.shape)\n",
    "print (pval)\n",
    "len(pval)\n",
    "print(adj.shape)\n",
    "\n",
    "print(adj[0:10])\n",
    "ad = np.array(adj)\n",
    "print(ad[:,0:10])\n",
    "#bct.adjacency_plot_und(adj, coords, tube=False)"
   ]
  },
  {
   "cell_type": "markdown",
   "metadata": {},
   "source": [
    "Between 30 days in 1st day Ketamine has different in one components. \n",
    "Lets graph it"
   ]
  },
  {
   "cell_type": "code",
   "execution_count": 26,
   "metadata": {},
   "outputs": [
    {
     "ename": "BCTParamError",
     "evalue": "Population matrices must be an equal size",
     "output_type": "error",
     "traceback": [
      "\u001b[0;31m---------------------------------------------------------------------------\u001b[0m",
      "\u001b[0;31mBCTParamError\u001b[0m                             Traceback (most recent call last)",
      "\u001b[0;32m<ipython-input-26-ab3a9d62f3c4>\u001b[0m in \u001b[0;36m<module>\u001b[0;34m\u001b[0m\n\u001b[1;32m      1\u001b[0m \u001b[0;31m# lets look at 90 days and first\u001b[0m\u001b[0;34m\u001b[0m\u001b[0;34m\u001b[0m\u001b[0;34m\u001b[0m\u001b[0m\n\u001b[0;32m----> 2\u001b[0;31m \u001b[0mpval4\u001b[0m\u001b[0;34m,\u001b[0m \u001b[0madj4\u001b[0m\u001b[0;34m,\u001b[0m \u001b[0m_\u001b[0m \u001b[0;34m=\u001b[0m \u001b[0mnbs\u001b[0m\u001b[0;34m.\u001b[0m\u001b[0mnbs_bct\u001b[0m\u001b[0;34m(\u001b[0m\u001b[0mket1Reshape\u001b[0m\u001b[0;34m,\u001b[0m \u001b[0mket4Reshape\u001b[0m\u001b[0;34m,\u001b[0m \u001b[0mthresh\u001b[0m\u001b[0;34m=\u001b[0m\u001b[0;36m2.5\u001b[0m\u001b[0;34m,\u001b[0m \u001b[0mtail\u001b[0m\u001b[0;34m=\u001b[0m\u001b[0;34m'both'\u001b[0m\u001b[0;34m,\u001b[0m\u001b[0mk\u001b[0m\u001b[0;34m=\u001b[0m\u001b[0;36m1500\u001b[0m\u001b[0;34m,\u001b[0m \u001b[0mpaired\u001b[0m\u001b[0;34m=\u001b[0m\u001b[0;32mTrue\u001b[0m\u001b[0;34m,\u001b[0m \u001b[0mverbose\u001b[0m \u001b[0;34m=\u001b[0m \u001b[0;32mTrue\u001b[0m\u001b[0;34m)\u001b[0m\u001b[0;34m\u001b[0m\u001b[0;34m\u001b[0m\u001b[0m\n\u001b[0m",
      "\u001b[0;32m/gpfs/ysm/project/oad4/conda_envs/py37_dev/lib/python3.6/site-packages/bct/nbs.py\u001b[0m in \u001b[0;36mnbs_bct\u001b[0;34m(x, y, thresh, k, tail, paired, verbose)\u001b[0m\n\u001b[1;32m    135\u001b[0m \u001b[0;34m\u001b[0m\u001b[0m\n\u001b[1;32m    136\u001b[0m     \u001b[0;32mif\u001b[0m \u001b[0mpaired\u001b[0m \u001b[0;32mand\u001b[0m \u001b[0mnx\u001b[0m \u001b[0;34m!=\u001b[0m \u001b[0mny\u001b[0m\u001b[0;34m:\u001b[0m\u001b[0;34m\u001b[0m\u001b[0;34m\u001b[0m\u001b[0m\n\u001b[0;32m--> 137\u001b[0;31m         \u001b[0;32mraise\u001b[0m \u001b[0mBCTParamError\u001b[0m\u001b[0;34m(\u001b[0m\u001b[0;34m'Population matrices must be an equal size'\u001b[0m\u001b[0;34m)\u001b[0m\u001b[0;34m\u001b[0m\u001b[0;34m\u001b[0m\u001b[0m\n\u001b[0m\u001b[1;32m    138\u001b[0m \u001b[0;34m\u001b[0m\u001b[0m\n\u001b[1;32m    139\u001b[0m     \u001b[0;31m# only consider upper triangular edges\u001b[0m\u001b[0;34m\u001b[0m\u001b[0;34m\u001b[0m\u001b[0;34m\u001b[0m\u001b[0m\n",
      "\u001b[0;31mBCTParamError\u001b[0m: Population matrices must be an equal size"
     ]
    }
   ],
   "source": [
    "# lets look at 90 days and first\n"
   ]
  },
  {
   "cell_type": "code",
   "execution_count": null,
   "metadata": {},
   "outputs": [],
   "source": [
    "# Lets check Midazolam group\n"
   ]
  },
  {
   "cell_type": "code",
   "execution_count": null,
   "metadata": {},
   "outputs": [],
   "source": [
    "pvalMid, adjMid, _ = nbs.nbs_bct(mid1Reshape[:,:,:6], mid3Reshape, thresh=2.5, tail='both',k=1000, paired=True, verbose = True)\n"
   ]
  },
  {
   "cell_type": "code",
   "execution_count": null,
   "metadata": {},
   "outputs": [],
   "source": [
    "print(pvalMid.shape)\n",
    "print (pvalMid)"
   ]
  },
  {
   "cell_type": "markdown",
   "metadata": {},
   "source": [
    "Midazolam has no significant change between first day and 7 or 30 days.\n",
    "Lets check differences between ket and mid."
   ]
  },
  {
   "cell_type": "code",
   "execution_count": null,
   "metadata": {},
   "outputs": [],
   "source": [
    "pvalKetMid, adjKetMid, _ = nbs.nbs_bct(ket2Reshape, mid2Reshape, thresh=2.5, tail='both',k=1000, paired=False, verbose = True)\n"
   ]
  },
  {
   "cell_type": "code",
   "execution_count": null,
   "metadata": {},
   "outputs": [],
   "source": [
    "print(pvalKetMid.shape)\n",
    "print (pvalKetMid)\n",
    "# no difference between ketamine and midazolam. \n"
   ]
  },
  {
   "cell_type": "code",
   "execution_count": 316,
   "metadata": {},
   "outputs": [],
   "source": [
    "# for the sake of QA we can create histogram plots of correlation matrices\n",
    "\n",
    "import matplotlib.pyplot as plt\n",
    "import seaborn as sns\n",
    "\n",
    "# matplotlib histogram\n",
    "#plt.hist(f) #, color = 'blue', edgecolor = 'black',\n",
    "         #bins = int(180/5))\n",
    "\n",
    "#ket1_corr.hist()\n",
    "#sns.distplot(f)\n"
   ]
  },
  {
   "cell_type": "code",
   "execution_count": 31,
   "metadata": {},
   "outputs": [
    {
     "name": "stdout",
     "output_type": "stream",
     "text": [
      "(780,)\n",
      "(780,)\n",
      "(780,)\n",
      "(780,)\n",
      "(780,)\n",
      "(780,)\n",
      "(780,)\n",
      "(780,)\n"
     ]
    },
    {
     "data": {
      "image/png": "[encoded data removed]",
      "text/plain": [
       "<Figure size 432x288 with 1 Axes>"
      ]
     },
     "metadata": {
      "needs_background": "light"
     },
     "output_type": "display_data"
    }
   ],
   "source": [
    "# Run analysis on all ket subjects\n",
    "#color = sns.cubehelix_palette(len(ket1_corr),8)\n",
    "#color = sns.palplot(sns.color_palette(\"RdBu_r\", len(ket1_corr)))\n",
    "sns.set_palette(\"husl\") # set color pallet\n",
    "correlation_vec = ConnectivityMeasure(kind='partial correlation', vectorize=True) # can choose partial - it might be better\n",
    "    \n",
    "# create correlation matrix for each subject\n",
    "fullVec = []\n",
    "for time_s in ket3_series:\n",
    "    cor = correlation_vec.fit_transform([time_s])[0]\n",
    "    print(cor.shape)\n",
    "    plt.hist(cor, alpha = 0.3)\n",
    "    fullVec.append(cor)\n"
   ]
  },
  {
   "cell_type": "code",
   "execution_count": 188,
   "metadata": {},
   "outputs": [],
   "source": [
    "# using adjacency matrix - take the real correaltion differences \n",
    "# loop through adj matrix\n",
    "# every time find 1 index it and take actual corelation deltas from Ket3-ket1 matrix (or other of that kind)\n",
    "ketDeltaA = []\n",
    "for i in ket3_ket1:\n",
    "    ketSubjectAdj = []#[np.zeros((39,39))]\n",
    "    for n,k in zip(ad,i):\n",
    "        \n",
    "        # now row by row\n",
    "        for rAdj, rKet in zip(n,k):\n",
    "            a = []\n",
    "            \n",
    "            if rAdj!=0:\n",
    "                a.insert(len(a),rKet) # inserting another element\n",
    "            else:\n",
    "                a.insert(len(a),0)\n",
    "            ketSubjectAdj.insert(len(ketSubjectAdj),a)\n",
    "    ketDeltaA.append(np.array(ketSubjectAdj))#.reshape(-1)) # flatten the ,1 matrix to vector"
   ]
  },
  {
   "cell_type": "code",
   "execution_count": 266,
   "metadata": {},
   "outputs": [
    {
     "name": "stdout",
     "output_type": "stream",
     "text": [
      "[-0.03983419 -0.0293757   0.03759542 -0.21382685 -0.18926696  0.17623788\n",
      " -0.24591062  0.09660732 -0.19541844  0.0755849  -0.17263693  0.00862686\n",
      "  0.33254886  0.07018976  0.24000594 -0.18813713  0.24077527 -0.09071133\n",
      "  0.00109019  0.07497553  0.01829464  0.32075524 -0.09899265  0.00456516\n",
      " -0.057328   -0.04917273 -0.21097772  0.15521836  0.15358975  0.15307276\n",
      "  0.03271684 -0.26708666 -0.11334492 -0.08908983  0.04386594  0.06059105\n",
      "  0.11982872  0.11252264  0.04129635 -0.29651066  0.20539075 -0.1195279\n",
      "  0.09233415  0.08252802  0.16290471 -0.0443337  -0.14679196  0.24011121\n",
      "  0.00123395 -0.20236284  0.0755849   0.14171368 -0.12533686  0.20539075\n",
      " -0.1215636   0.16290471 -0.09063423  0.01140383  0.17924806  0.0742061\n",
      "  0.12953977  0.01102647 -0.0443337   0.15154275 -0.00643213  0.0742061\n",
      " -0.09063423  0.17924806 -0.1195279   0.05206418 -0.01793038  0.13927375\n",
      " -0.00810675 -0.03983419  0.09233415  0.02395743  0.07374428 -0.14679196\n",
      "  0.24011121 -0.24483092 -0.10087672  0.00123395  0.05206418 -0.34980539\n",
      " -0.24483092 -0.12932286  0.12579709  0.02395743  0.01863874  0.14171368\n",
      " -0.00643213 -0.00810675  0.34460022  0.07374428 -0.12932286  0.01863874\n",
      " -0.0293757   0.12953977 -0.20236284  0.01102647  0.12579709  0.33903725\n",
      " -0.12533686  0.13927375  0.01140383 -0.10087672  0.33903725  0.0968499\n",
      " -0.1215636  -0.01793038 -0.34980539  0.08252802  0.15154275  0.34460022\n",
      "  0.0968499 ]\n",
      "[ 0.030739   -0.0805402  -0.06536685 -0.15885698 -0.0462959   0.14246446\n",
      " -0.00723134 -0.12200834 -0.20380228 -0.08108765  0.20396418  0.03151671\n",
      " -0.11663363  0.10136115 -0.20876387  0.12124304 -0.23001668  0.12193758\n",
      "  0.07718787 -0.03634791  0.09696884  0.12582276  0.16392459  0.01517904\n",
      " -0.00627511 -0.15143678  0.21201712  0.06063687 -0.14142862  0.03074708\n",
      "  0.13944134  0.15808481  0.05106294 -0.28814743 -0.00666922  0.05626956\n",
      " -0.1852495  -0.1932166   0.19155811  0.05091283  0.16771557 -0.06583871\n",
      "  0.05167768  0.17735765  0.02355087  0.09801566 -0.06557741  0.05434166\n",
      " -0.02005485 -0.07195239 -0.08108765 -0.02779579 -0.24681887  0.16771557\n",
      " -0.24119124  0.02355087 -0.05917961 -0.01215566  0.25658481  0.06655696\n",
      "  0.06096206 -0.21126057  0.09801566  0.07845537  0.13925371  0.06655696\n",
      " -0.05917961  0.25658481 -0.06583871 -0.03025005 -0.0031115   0.30037281\n",
      "  0.06888636  0.030739    0.05167768 -0.12555935  0.37813859 -0.06557741\n",
      "  0.05434166 -0.06033004 -0.16433686 -0.02005485 -0.03025005 -0.10890943\n",
      " -0.06033004  0.07058615  0.09153402 -0.12555935 -0.2684455  -0.02779579\n",
      "  0.13925371  0.06888636  0.06425157  0.37813859  0.07058615 -0.2684455\n",
      " -0.0805402   0.06096206 -0.07195239 -0.21126057  0.09153402 -0.03273789\n",
      " -0.24681887  0.30037281 -0.01215566 -0.16433686 -0.03273789  0.21564662\n",
      " -0.24119124 -0.0031115  -0.10890943  0.17735765  0.07845537  0.06425157\n",
      "  0.21564662]\n",
      "[-0.15155657  0.08888504  0.15222642 -0.18411354  0.20559678 -0.1699835\n",
      " -0.01173641 -0.01921779  0.15598486 -0.19269602 -0.25690987  0.33257993\n",
      " -0.01088464  0.03011691  0.038776   -0.05542598  0.2127618   0.06793603\n",
      "  0.01208698  0.15327466  0.1138325   0.09219582 -0.04811211 -0.00329768\n",
      "  0.00558514 -0.11506519  0.10227267 -0.00300503  0.09960843  0.0895113\n",
      " -0.05948026  0.0694238  -0.23701584 -0.36895347  0.1095394  -0.13148127\n",
      " -0.02828814  0.30809823  0.01848468  0.12878391  0.04643669 -0.21051185\n",
      "  0.05854727  0.29373858  0.12039146  0.0487177  -0.09886078  0.34512144\n",
      " -0.1358942  -0.15588506 -0.19269602 -0.03588251 -0.01217279  0.04643669\n",
      " -0.24555282  0.12039146 -0.22288569  0.20890017  0.16543382  0.0919135\n",
      "  0.13274969 -0.08969191  0.0487177   0.04913028  0.03706273  0.0919135\n",
      " -0.22288569  0.16543382 -0.21051185  0.13980557 -0.13080613  0.20531773\n",
      "  0.16519692 -0.15155657  0.05854727 -0.12740839  0.21574078 -0.09886078\n",
      "  0.34512144  0.08818134 -0.24239951 -0.1358942   0.13980557 -0.20885674\n",
      "  0.08818134 -0.25945621  0.04595911 -0.12740839 -0.31448148 -0.03588251\n",
      "  0.03706273  0.16519692  0.13012893  0.21574078 -0.25945621 -0.31448148\n",
      "  0.08888504  0.13274969 -0.15588506 -0.08969191  0.04595911  0.23184581\n",
      " -0.01217279  0.20531773  0.20890017 -0.24239951  0.23184581 -0.04081644\n",
      " -0.24555282 -0.13080613 -0.20885674  0.29373858  0.04913028  0.13012893\n",
      " -0.04081644]\n",
      "[-1.43854977e-02 -1.05614407e-01 -2.43054106e-01  3.74626290e-01\n",
      "  3.20187325e-02  3.56094610e-02  8.42224029e-02 -2.87049799e-02\n",
      "  2.81239949e-01 -1.27647244e-01  1.37540072e-01  1.42595107e-01\n",
      " -8.18890192e-02 -1.71342611e-01  1.75389625e-01  1.22077806e-01\n",
      " -2.70318319e-02  2.72371727e-03  2.32051201e-01 -1.62956570e-01\n",
      "  3.17739335e-02 -3.66377930e-02 -1.02848032e-01 -3.53642421e-02\n",
      " -2.55607486e-02 -1.35720756e-01 -3.67755656e-03 -5.31980990e-02\n",
      "  4.41015446e-02  3.51644648e-02 -2.08486087e-01  2.49326772e-02\n",
      "  4.63733011e-02 -1.73747786e-01 -1.03722556e-01 -1.58766485e-01\n",
      "  2.21370483e-01  3.06948953e-03  2.64972495e-01 -7.22462553e-02\n",
      "  1.23256862e-01 -1.13638267e-01  2.86656915e-01  1.67281098e-01\n",
      "  1.89576593e-01  7.88415083e-02 -1.60349667e-01  6.36119173e-04\n",
      " -1.35703931e-02 -2.47813742e-01 -1.27647244e-01  2.38846770e-02\n",
      " -1.33079259e-01  1.23256862e-01  2.54163271e-02  1.89576593e-01\n",
      " -2.16180499e-01  2.31845752e-01  1.22553367e-01  1.00841077e-01\n",
      "  2.25974870e-01  1.95743476e-04  7.88415083e-02  3.13157889e-01\n",
      "  1.37139869e-01  1.00841077e-01 -2.16180499e-01  1.22553367e-01\n",
      " -1.13638267e-01 -1.86049542e-02 -1.51230609e-01  8.05674337e-02\n",
      "  3.11243187e-02 -1.43854977e-02  2.86656915e-01 -3.27931135e-01\n",
      "  3.46064695e-01 -1.60349667e-01  6.36119173e-04 -1.10406901e-01\n",
      " -2.33830957e-01 -1.35703931e-02 -1.86049542e-02 -1.52362546e-01\n",
      " -1.10406901e-01 -9.94807158e-02  2.52285014e-01 -3.27931135e-01\n",
      "  4.23520530e-02  2.38846770e-02  1.37139869e-01  3.11243187e-02\n",
      "  3.02770415e-01  3.46064695e-01 -9.94807158e-02  4.23520530e-02\n",
      " -1.05614407e-01  2.25974870e-01 -2.47813742e-01  1.95743476e-04\n",
      "  2.52285014e-01  2.73397915e-01 -1.33079259e-01  8.05674337e-02\n",
      "  2.31845752e-01 -2.33830957e-01  2.73397915e-01  2.87388973e-02\n",
      "  2.54163271e-02 -1.51230609e-01 -1.52362546e-01  1.67281098e-01\n",
      "  3.13157889e-01  3.02770415e-01  2.87388973e-02]\n",
      "[-0.10230393 -0.15988592  0.08084231  0.17962286  0.04231747 -0.18907441\n",
      " -0.16697567  0.06298773  0.15638887 -0.0141344  -0.18173712 -0.21548786\n",
      " -0.13126546  0.34796197 -0.0923605  -0.13704287  0.09883086  0.30024632\n",
      "  0.00294094 -0.25381714  0.01009382 -0.06117929  0.05618579 -0.04632957\n",
      "  0.09513792 -0.02052103 -0.21824039  0.19449329 -0.16471822 -0.06820661\n",
      "  0.23243986  0.18168941  0.08743543 -0.00569183  0.27871544 -0.12641455\n",
      " -0.37343011  0.10719817 -0.08629927  0.27942377  0.14317769 -0.04500205\n",
      " -0.07456602  0.08385371  0.07896136  0.02971847 -0.05283894  0.13982479\n",
      " -0.02230361 -0.00542589 -0.0141344   0.20406536 -0.1694226   0.14317769\n",
      " -0.09479447  0.07896136 -0.07381234  0.20168276  0.09837998  0.20934769\n",
      " -0.02245918 -0.02733261  0.02971847  0.02267801  0.21666488  0.20934769\n",
      " -0.07381234  0.09837998 -0.04500205  0.06409171 -0.03209013  0.16389454\n",
      "  0.05173129 -0.10230393 -0.07456602 -0.15885372  0.08113454 -0.05283894\n",
      "  0.13982479 -0.14907264  0.01133183 -0.02230361  0.06409171  0.17029068\n",
      " -0.14907264  0.02001576  0.11265876 -0.15885372 -0.16569604  0.20406536\n",
      "  0.21666488  0.05173129  0.0168342   0.08113454  0.02001576 -0.16569604\n",
      " -0.15988592 -0.02245918 -0.00542589 -0.02733261  0.11265876  0.01856022\n",
      " -0.1694226   0.16389454  0.20168276  0.01133183  0.01856022  0.06937487\n",
      " -0.09479447 -0.03209013  0.17029068  0.08385371  0.02267801  0.0168342\n",
      "  0.06937487]\n",
      "[-0.08655424 -0.05156577 -0.12439336 -0.13262064 -0.03246805 -0.27252526\n",
      "  0.03090099  0.24896451 -0.01098631 -0.24148405  0.0788936  -0.16154377\n",
      " -0.17986963  0.05660875 -0.00940653  0.13055402  0.10649355 -0.17987341\n",
      " -0.126973    0.17605233 -0.026608   -0.05815264  0.02772144  0.01029609\n",
      "  0.1003577  -0.16483432  0.36685397 -0.16750005 -0.0209366  -0.18538297\n",
      "  0.05602652 -0.07927979  0.11047169  0.11477257  0.12499566  0.14738397\n",
      " -0.04828259  0.0436705  -0.27707601  0.23213799 -0.01166677 -0.28894725\n",
      "  0.3294532   0.0112892   0.51508782  0.18756065  0.11385994  0.26639011\n",
      " -0.18810137 -0.14166324 -0.24148405  0.15123029 -0.02340525 -0.01166677\n",
      " -0.23450024  0.51508782 -0.05187069  0.12706491 -0.01137132  0.05325277\n",
      " -0.07785285 -0.11493086  0.18756065  0.05675524  0.07999652  0.05325277\n",
      " -0.05187069 -0.01137132 -0.28894725  0.12033972 -0.09265412 -0.01083678\n",
      "  0.17054681 -0.08655424  0.3294532  -0.27877716  0.17074357  0.11385994\n",
      "  0.26639011 -0.24284067 -0.17911673 -0.18810137  0.12033972 -0.27515699\n",
      " -0.24284067 -0.26330331 -0.00885364 -0.27877716 -0.20675394  0.15123029\n",
      "  0.07999652  0.17054681  0.0061147   0.17074357 -0.26330331 -0.20675394\n",
      " -0.05156577 -0.07785285 -0.14166324 -0.11493086 -0.00885364  0.1901523\n",
      " -0.02340525 -0.01083678  0.12706491 -0.17911673  0.1901523   0.07440804\n",
      " -0.23450024 -0.09265412 -0.27515699  0.0112892   0.05675524  0.0061147\n",
      "  0.07440804]\n",
      "[-0.11238986 -0.11289688 -0.07105451 -0.1339505  -0.07574243  0.13095664\n",
      "  0.05483212 -0.03217553 -0.04558498 -0.28661693  0.10575886 -0.21306919\n",
      " -0.07724992 -0.01963523 -0.18969105  0.04058966 -0.02366302  0.05605171\n",
      "  0.00652054  0.14874048  0.04861257  0.11918002  0.20804039 -0.14379268\n",
      "  0.06698294  0.20130993  0.18017056 -0.05513503  0.12385843 -0.01254771\n",
      " -0.07530021 -0.02498399  0.16412424 -0.11635396 -0.17613059  0.00798228\n",
      "  0.01991412  0.01357706  0.03081485 -0.01806761  0.29991876 -0.06514231\n",
      "  0.04701909  0.24769185 -0.04651266  0.3003069  -0.13708268  0.07473279\n",
      " -0.18407354 -0.08160441 -0.28661693  0.1099609  -0.13544729  0.29991876\n",
      " -0.2004675  -0.04651266 -0.08489427 -0.08346784  0.02581802  0.02003138\n",
      "  0.19864943 -0.19853759  0.3003069   0.34746551  0.1590119   0.02003138\n",
      " -0.08489427  0.02581802 -0.06514231  0.19540982 -0.09014613 -0.01329832\n",
      "  0.26311511 -0.11238986  0.04701909 -0.11438293  0.33271232 -0.13708268\n",
      "  0.07473279 -0.0239376   0.04331631 -0.18407354  0.19540982 -0.27809576\n",
      " -0.0239376  -0.05480222  0.2099328  -0.11438293 -0.22562387  0.1099609\n",
      "  0.1590119   0.26311511  0.1585035   0.33271232 -0.05480222 -0.22562387\n",
      " -0.11289688  0.19864943 -0.08160441 -0.19853759  0.2099328  -0.08633288\n",
      " -0.13544729 -0.01329832 -0.08346784  0.04331631 -0.08633288  0.40288965\n",
      " -0.2004675  -0.09014613 -0.27809576  0.24769185  0.34746551  0.1585035\n",
      "  0.40288965]\n",
      "[ 0.01234931 -0.11062316  0.02196477  0.10901753 -0.00084997 -0.11972222\n",
      " -0.00979287 -0.07620283 -0.00293361 -0.12245404  0.23230926  0.06171171\n",
      " -0.16997134  0.01402315 -0.12047217 -0.12742761  0.13622915 -0.1284266\n",
      "  0.05014842  0.04562183 -0.14866256 -0.02336028  0.07383949 -0.07205433\n",
      "  0.13198848 -0.01455683 -0.13872728  0.1185543  -0.0271012  -0.14913185\n",
      " -0.0817249   0.00920035  0.19211625  0.16109396 -0.06736156 -0.0246007\n",
      "  0.14053312 -0.04898087  0.12004849  0.02251196 -0.05679229  0.06623096\n",
      "  0.23606681 -0.07175034  0.21167234  0.14332566 -0.20662789 -0.08558544\n",
      " -0.13838046 -0.14545177 -0.12245404  0.06232577 -0.3750176  -0.05679229\n",
      " -0.09276544  0.21167234 -0.03372184  0.31013033  0.2235095   0.07095558\n",
      "  0.24332295 -0.01800185  0.14332566  0.1755335  -0.07295907  0.07095558\n",
      " -0.03372184  0.2235095   0.06623096  0.24641745  0.01340118  0.03388844\n",
      "  0.01882136  0.01234931  0.23606681 -0.02100343 -0.19518291 -0.20662789\n",
      " -0.08558544 -0.11295702 -0.40971389 -0.13838046  0.24641745 -0.09912855\n",
      " -0.11295702 -0.21235451 -0.04968424 -0.02100343 -0.10586151  0.06232577\n",
      " -0.07295907  0.01882136 -0.01866467 -0.19518291 -0.21235451 -0.10586151\n",
      " -0.11062316  0.24332295 -0.14545177 -0.01800185 -0.04968424  0.18464805\n",
      " -0.3750176   0.03388844  0.31013033 -0.40971389  0.18464805  0.28271104\n",
      " -0.09276544  0.01340118 -0.09912855 -0.07175034  0.1755335  -0.01866467\n",
      "  0.28271104]\n"
     ]
    },
    {
     "data": {
      "text/plain": [
       "(8, 39, 39)"
      ]
     },
     "execution_count": 266,
     "metadata": {},
     "output_type": "execute_result"
    }
   ],
   "source": [
    "ketDeltaA = []\n",
    "b = ad\n",
    "for ket in (ket3_ket1):\n",
    "    #print(f\"New Array {ket}\")\n",
    "    #ketSubjectAdj = []\n",
    "    g = np.zeros([39,39])\n",
    "    print(ket[b!=0])\n",
    "    g[b!=0] = ket[b!=0]\n",
    "    #print (b[0])\n",
    "    #print(ket3_ket1[n,0])\n",
    "    #b[b!=0] = ket[b!=0]\n",
    "    ketDeltaA.insert(len(ketDeltaA),g)\n",
    "    \n",
    "    #ketDeltaA.append(ketSubjectAdj)\n",
    "\n",
    "    \n",
    "np.array(ketDeltaA).shape  \n",
    "#print(f\"First {np.array(ketDeltaA)[0,:,0:10]}\")\n",
    "#print(f\"Sec {np.array(ketDeltaA)[1,:,0:10]}\")\n",
    "    \n",
    "# This vectors (one per subject) will use for regression analysis, after we exclude all zeros from them (see below)"
   ]
  },
  {
   "cell_type": "code",
   "execution_count": 231,
   "metadata": {},
   "outputs": [
    {
     "name": "stdout",
     "output_type": "stream",
     "text": [
      "(2, 3)\n",
      "[([1, 2, 3], [4, 5, 6]), ([1, 2, 7], [4, 5, 9])]\n",
      "[([1, 2, 3], [4, 5, 6]), ([1, 2, 7], [4, 5, 9])]\n"
     ]
    }
   ],
   "source": [
    "p = ([1,2,3],[4,5,6])\n",
    "q = ([1,2,7],[4,5,9])\n",
    "x = ([0,0,1],[0,0,1])\n",
    "a = [p,q]\n",
    "print(np.array(x).shape)\n",
    "x= np.array(x)\n",
    "p = np.array(p)\n",
    "for m in a:\n",
    "    print(a)\n",
    "    #x[x!=0] = m[x!=0]"
   ]
  },
  {
   "cell_type": "code",
   "execution_count": 268,
   "metadata": {},
   "outputs": [
    {
     "name": "stdout",
     "output_type": "stream",
     "text": [
      "[array([[ 0.        ,  0.        ,  0.        , ...,  0.        ,\n",
      "         0.        ,  0.        ],\n",
      "       [ 0.03759542,  0.        , -0.21382685, ...,  0.11252264,\n",
      "         0.04129635, -0.29651066],\n",
      "       [ 0.        ,  0.        ,  0.        , ...,  0.        ,\n",
      "         0.        ,  0.        ],\n",
      "       ...,\n",
      "       [ 0.        ,  0.        ,  0.        , ...,  0.        ,\n",
      "         0.        ,  0.        ],\n",
      "       [ 0.        ,  0.        ,  0.        , ...,  0.        ,\n",
      "         0.        ,  0.        ],\n",
      "       [ 0.        ,  0.        ,  0.        , ...,  0.        ,\n",
      "         0.        ,  0.        ]]), array([[ 0.        ,  0.        ,  0.        , ...,  0.        ,\n",
      "         0.        ,  0.        ],\n",
      "       [-0.06536685,  0.        , -0.15885698, ..., -0.1932166 ,\n",
      "         0.19155811,  0.05091283],\n",
      "       [ 0.        ,  0.        ,  0.        , ...,  0.        ,\n",
      "         0.        ,  0.        ],\n",
      "       ...,\n",
      "       [ 0.        ,  0.        ,  0.        , ...,  0.        ,\n",
      "         0.        ,  0.        ],\n",
      "       [ 0.        ,  0.        ,  0.        , ...,  0.        ,\n",
      "         0.        ,  0.        ],\n",
      "       [ 0.        ,  0.        ,  0.        , ...,  0.        ,\n",
      "         0.        ,  0.        ]]), array([[ 0.        ,  0.        ,  0.        , ...,  0.        ,\n",
      "         0.        ,  0.        ],\n",
      "       [ 0.15222642,  0.        , -0.18411354, ...,  0.30809823,\n",
      "         0.01848468,  0.12878391],\n",
      "       [ 0.        ,  0.        ,  0.        , ...,  0.        ,\n",
      "         0.        ,  0.        ],\n",
      "       ...,\n",
      "       [ 0.        ,  0.        ,  0.        , ...,  0.        ,\n",
      "         0.        ,  0.        ],\n",
      "       [ 0.        ,  0.        ,  0.        , ...,  0.        ,\n",
      "         0.        ,  0.        ],\n",
      "       [ 0.        ,  0.        ,  0.        , ...,  0.        ,\n",
      "         0.        ,  0.        ]]), array([[ 0.        ,  0.        ,  0.        , ...,  0.        ,\n",
      "         0.        ,  0.        ],\n",
      "       [-0.24305411,  0.        ,  0.37462629, ...,  0.00306949,\n",
      "         0.2649725 , -0.07224626],\n",
      "       [ 0.        ,  0.        ,  0.        , ...,  0.        ,\n",
      "         0.        ,  0.        ],\n",
      "       ...,\n",
      "       [ 0.        ,  0.        ,  0.        , ...,  0.        ,\n",
      "         0.        ,  0.        ],\n",
      "       [ 0.        ,  0.        ,  0.        , ...,  0.        ,\n",
      "         0.        ,  0.        ],\n",
      "       [ 0.        ,  0.        ,  0.        , ...,  0.        ,\n",
      "         0.        ,  0.        ]]), array([[ 0.        ,  0.        ,  0.        , ...,  0.        ,\n",
      "         0.        ,  0.        ],\n",
      "       [ 0.08084231,  0.        ,  0.17962286, ...,  0.10719817,\n",
      "        -0.08629927,  0.27942377],\n",
      "       [ 0.        ,  0.        ,  0.        , ...,  0.        ,\n",
      "         0.        ,  0.        ],\n",
      "       ...,\n",
      "       [ 0.        ,  0.        ,  0.        , ...,  0.        ,\n",
      "         0.        ,  0.        ],\n",
      "       [ 0.        ,  0.        ,  0.        , ...,  0.        ,\n",
      "         0.        ,  0.        ],\n",
      "       [ 0.        ,  0.        ,  0.        , ...,  0.        ,\n",
      "         0.        ,  0.        ]]), array([[ 0.        ,  0.        ,  0.        , ...,  0.        ,\n",
      "         0.        ,  0.        ],\n",
      "       [-0.12439336,  0.        , -0.13262064, ...,  0.0436705 ,\n",
      "        -0.27707601,  0.23213799],\n",
      "       [ 0.        ,  0.        ,  0.        , ...,  0.        ,\n",
      "         0.        ,  0.        ],\n",
      "       ...,\n",
      "       [ 0.        ,  0.        ,  0.        , ...,  0.        ,\n",
      "         0.        ,  0.        ],\n",
      "       [ 0.        ,  0.        ,  0.        , ...,  0.        ,\n",
      "         0.        ,  0.        ],\n",
      "       [ 0.        ,  0.        ,  0.        , ...,  0.        ,\n",
      "         0.        ,  0.        ]]), array([[ 0.        ,  0.        ,  0.        , ...,  0.        ,\n",
      "         0.        ,  0.        ],\n",
      "       [-0.07105451,  0.        , -0.1339505 , ...,  0.01357706,\n",
      "         0.03081485, -0.01806761],\n",
      "       [ 0.        ,  0.        ,  0.        , ...,  0.        ,\n",
      "         0.        ,  0.        ],\n",
      "       ...,\n",
      "       [ 0.        ,  0.        ,  0.        , ...,  0.        ,\n",
      "         0.        ,  0.        ],\n",
      "       [ 0.        ,  0.        ,  0.        , ...,  0.        ,\n",
      "         0.        ,  0.        ],\n",
      "       [ 0.        ,  0.        ,  0.        , ...,  0.        ,\n",
      "         0.        ,  0.        ]]), array([[ 0.        ,  0.        ,  0.        , ...,  0.        ,\n",
      "         0.        ,  0.        ],\n",
      "       [ 0.02196477,  0.        ,  0.10901753, ..., -0.04898087,\n",
      "         0.12004849,  0.02251196],\n",
      "       [ 0.        ,  0.        ,  0.        , ...,  0.        ,\n",
      "         0.        ,  0.        ],\n",
      "       ...,\n",
      "       [ 0.        ,  0.        ,  0.        , ...,  0.        ,\n",
      "         0.        ,  0.        ],\n",
      "       [ 0.        ,  0.        ,  0.        , ...,  0.        ,\n",
      "         0.        ,  0.        ],\n",
      "       [ 0.        ,  0.        ,  0.        , ...,  0.        ,\n",
      "         0.        ,  0.        ]])]\n"
     ]
    }
   ],
   "source": [
    "print(ketDeltaA)"
   ]
  },
  {
   "cell_type": "code",
   "execution_count": 301,
   "metadata": {
    "scrolled": true
   },
   "outputs": [
    {
     "data": {
      "text/plain": [
       "<matplotlib.image.AxesImage at 0x2ae13ed0b668>"
      ]
     },
     "execution_count": 301,
     "metadata": {},
     "output_type": "execute_result"
    },
    {
     "data": {
      "image/png": "[encoded data removed]",
      "text/plain": [
       "<Figure size 504x360 with 2 Axes>"
      ]
     },
     "metadata": {
      "needs_background": "light"
     },
     "output_type": "display_data"
    }
   ],
   "source": [
    "# We will build a simple average matrix (ket3 - ket1) according to the adjacency matrix (39,39) in order to vizualize\n",
    "# results on the nodes themselves\n",
    "ket3_1_average = np.average(np.array(ket3_ket1), axis = 0)\n",
    "\n",
    "# now we replace all 1 in adj to real values and zeros will remain zeros\n",
    "j = adj\n",
    "j[j!=0] = ket3_1_average[j!=0] # replacing j values in real difference instead of 1\n",
    "# now we can plot\n",
    "\n",
    "plotting.plot_connectome(j, coords,\n",
    "                        edge_threshold=\"98%\", colorbar=True, output_file=\"Ket3_vsKet1.png\")\n",
    "\n",
    "\n",
    "plotting.plot_matrix(j, labels=labels, colorbar=True,\n",
    "                     vmax=0.3, vmin=-0.3)"
   ]
  },
  {
   "cell_type": "code",
   "execution_count": 300,
   "metadata": {
    "scrolled": false
   },
   "outputs": [
    {
     "name": "stderr",
     "output_type": "stream",
     "text": [
      "/gpfs/ysm/project/oad4/conda_envs/py37_dev/lib/python3.6/site-packages/seaborn/palettes.py:777: DeprecationWarning: object of type <class 'float'> cannot be safely interpreted as an integer.\n",
      "  pal = _ColorPalette(pal(np.linspace(0, 1, n_colors)))\n"
     ]
    },
    {
     "data": {
      "image/png": "[encoded data removed]",
      "text/plain": [
       "<Figure size 1080x864 with 2 Axes>"
      ]
     },
     "metadata": {
      "needs_background": "light"
     },
     "output_type": "display_data"
    }
   ],
   "source": [
    "# this is a small snippet of code that takes the adajecnt's matrix that was created before and present it in diagonal \n",
    "# correlation matrix. \n",
    "#  change it into dataframe to add labels (using atlas labels)\n",
    "import pandas as pd\n",
    "d = pd.DataFrame(data=j,\n",
    "                 columns=labels, index=labels)\n",
    "\n",
    "mask = np.zeros_like(d, dtype=np.bool) # masking half\n",
    "mask[np.triu_indices_from(mask)] = True\n",
    "\n",
    "\n",
    "# Set up the matplotlib figure\n",
    "f, ax = plt.subplots(figsize=(15, 12))\n",
    "\n",
    "# Generate a custom diverging colormap\n",
    "cmap = sns.diverging_palette(220, 10, as_cmap=True)\n",
    "\n",
    "# Draw the heatmap with the mask and correct aspect ratio\n",
    "sns_plot = sns.heatmap(d, mask=mask, cmap=cmap, vmax=.3, center=0,\n",
    "            square=True, linewidths=.5, cbar_kws={\"shrink\": .5})\n",
    "\n"
   ]
  },
  {
   "cell_type": "code",
   "execution_count": 285,
   "metadata": {
    "scrolled": false
   },
   "outputs": [
    {
     "data": {
      "text/plain": [
       "<matplotlib.axes._subplots.AxesSubplot at 0x2ae13d9af6a0>"
      ]
     },
     "execution_count": 285,
     "metadata": {},
     "output_type": "execute_result"
    },
    {
     "data": {
      "image/png": "[encoded data removed]",
      "text/plain": [
       "<Figure size 1080x864 with 2 Axes>"
      ]
     },
     "metadata": {
      "needs_background": "light"
     },
     "output_type": "display_data"
    }
   ],
   "source": [
    "# now - just to make sure I understand which place in the vector (78 because its 39*2) if for which correlation\n",
    "k = ad\n",
    "k[k==1] = ket3_ket1[0][k==1] # replacing j values in real difference instead of 1\n",
    "\n",
    "sub8 = pd.DataFrame(data=k,\n",
    "                 columns=labels, index=labels)\n",
    "\n",
    "mask = np.zeros_like(sub8, dtype=np.bool) # masking half\n",
    "mask[np.triu_indices_from(mask)] = True\n",
    "\n",
    "\n",
    "# Set up the matplotlib figure\n",
    "f, ax = plt.subplots(figsize=(15, 12))\n",
    "\n",
    "# Generate a custom diverging colormap\n",
    "cmap = sns.diverging_palette(220, 10, as_cmap=True)\n",
    "\n",
    "# Draw the heatmap with the mask and correct aspect ratio\n",
    "sns.heatmap(sub8, mask=mask, cmap=cmap, vmax=.3, center=0,\n",
    "            square=True, linewidths=.5, cbar_kws={\"shrink\": .5})"
   ]
  },
  {
   "cell_type": "code",
   "execution_count": 294,
   "metadata": {},
   "outputs": [
    {
     "name": "stdout",
     "output_type": "stream",
     "text": [
      "(8, 39, 39)\n",
      "KDeltaArray [[ 0.         -0.29651066  0.          0.          0.          0.\n",
      "   0.          0.          0.          0.          0.          0.\n",
      "   0.          0.          0.          0.          0.          0.\n",
      "   0.          0.          0.          0.          0.          0.\n",
      "   0.          0.          0.          0.          0.          0.\n",
      "   0.          0.          0.          0.          0.          0.0968499\n",
      "   0.          0.          0.        ]]\n",
      "[-0.03983419 -0.0293757   0.03759542 -0.21382685 -0.18926696  0.17623788\n",
      " -0.24591062  0.09660732 -0.19541844  0.0755849  -0.17263693  0.00862686\n",
      "  0.33254886  0.07018976  0.24000594 -0.18813713  0.24077527 -0.09071133\n",
      "  0.00109019  0.07497553  0.01829464  0.32075524 -0.09899265  0.00456516\n",
      " -0.057328   -0.04917273 -0.21097772  0.15521836  0.15358975  0.15307276\n",
      "  0.03271684 -0.26708666 -0.11334492 -0.08908983  0.04386594  0.06059105\n",
      "  0.11982872  0.11252264  0.04129635 -0.29651066  0.20539075 -0.1195279\n",
      "  0.09233415  0.08252802  0.16290471 -0.0443337  -0.14679196  0.24011121\n",
      "  0.00123395 -0.20236284  0.0755849   0.14171368 -0.12533686  0.20539075\n",
      " -0.1215636   0.16290471 -0.09063423  0.01140383  0.17924806  0.0742061\n",
      "  0.12953977  0.01102647 -0.0443337   0.15154275 -0.00643213  0.0742061\n",
      " -0.09063423  0.17924806 -0.1195279   0.05206418 -0.01793038  0.13927375\n",
      " -0.00810675 -0.03983419  0.09233415  0.02395743  0.07374428 -0.14679196\n",
      "  0.24011121 -0.24483092 -0.10087672  0.00123395  0.05206418 -0.34980539\n",
      " -0.24483092 -0.12932286  0.12579709  0.02395743  0.01863874  0.14171368\n",
      " -0.00643213 -0.00810675  0.34460022  0.07374428 -0.12932286  0.01863874\n",
      " -0.0293757   0.12953977 -0.20236284  0.01102647  0.12579709  0.33903725\n",
      " -0.12533686  0.13927375  0.01140383 -0.10087672  0.33903725  0.0968499\n",
      " -0.1215636  -0.01793038 -0.34980539  0.08252802  0.15154275  0.34460022\n",
      "  0.0968499 ]\n"
     ]
    }
   ],
   "source": [
    "#print(ket3_ket1[1,:,0:15])\n",
    "\n",
    "#print(k[:,38])\n",
    "v = np.array(vecKetamin)\n",
    "print(np.array(ketDeltaA).shape)\n",
    "print(f\"KDeltaArray {np.array(ketDeltaA)[0,:,[38]]}\")\n",
    "print(np.array(vecKetamin)[0])\n",
    "\n",
    "#print(f\"First Ket {ket1_corr[0][:,1:10]}\")\n",
    "#print(f\"Third ket {ket3_corr[0][:,1:10]}\")\n",
    "#print(f\"Substract {ket3_ket1[:,1:10]}\")"
   ]
  },
  {
   "cell_type": "code",
   "execution_count": 271,
   "metadata": {},
   "outputs": [
    {
     "data": {
      "text/plain": [
       "(8, 115)"
      ]
     },
     "execution_count": 271,
     "metadata": {},
     "output_type": "execute_result"
    }
   ],
   "source": [
    "# need to build regression model according to this vector for each subject\n",
    "# change from matrix to vector\n",
    "vecKetamin = [] # vector of all edges per subject\n",
    "for i in ketDeltaA:\n",
    "    a = np.array(i).reshape(-1) # reshaping subject matrix to vector\n",
    "    #print(a[a!=0]) \n",
    "    vecKetamin.append(a[a!=0]) # appending everything that's not zero \n",
    "np.array(vecKetamin).shape # shape of vector (subjects,length)"
   ]
  },
  {
   "cell_type": "code",
   "execution_count": 54,
   "metadata": {},
   "outputs": [
    {
     "name": "stderr",
     "output_type": "stream",
     "text": [
      "/gpfs/ysm/project/oad4/conda_envs/py37_dev/lib/python3.6/site-packages/xlrd/xlsx.py:266: PendingDeprecationWarning: This method will be removed in future versions.  Use 'tree.iter()' or 'list(tree.iter())' instead.\n",
      "  for elem in self.tree.iter() if Element_has_iter else self.tree.getiterator():\n"
     ]
    }
   ],
   "source": [
    "# lets run regression model to try and predict PCL scores with connectivity vector\n",
    "# first load up pcl data\n",
    "kpe_dat = pd.read_excel('/home/oad4/Documents/kpe_analysis/KPEIHR0009_data_all_scored.xlsx', index_col =\"scr_id\")\n"
   ]
  },
  {
   "cell_type": "code",
   "execution_count": 55,
   "metadata": {},
   "outputs": [
    {
     "name": "stdout",
     "output_type": "stream",
     "text": [
      "nan\n",
      "nan\n",
      "nan\n",
      "nan\n",
      "nan\n",
      "nan\n"
     ]
    },
    {
     "name": "stderr",
     "output_type": "stream",
     "text": [
      "/gpfs/ysm/project/oad4/conda_envs/py37_dev/lib/python3.6/site-packages/ipykernel_launcher.py:9: SettingWithCopyWarning: \n",
      "A value is trying to be set on a copy of a slice from a DataFrame\n",
      "\n",
      "See the caveats in the documentation: http://pandas.pydata.org/pandas-docs/stable/indexing.html#indexing-view-versus-copy\n",
      "  if __name__ == '__main__':\n",
      "/gpfs/ysm/project/oad4/conda_envs/py37_dev/lib/python3.6/site-packages/IPython/core/interactiveshell.py:3296: SettingWithCopyWarning: \n",
      "A value is trying to be set on a copy of a slice from a DataFrame\n",
      "\n",
      "See the caveats in the documentation: http://pandas.pydata.org/pandas-docs/stable/indexing.html#indexing-view-versus-copy\n",
      "  exec(code_obj, self.user_global_ns, self.user_ns)\n"
     ]
    },
    {
     "name": "stdout",
     "output_type": "stream",
     "text": [
      "         pcl5_total_visit7  pcl5_total_screen  pcl5_total_followup1  \\\n",
      "scr_id                                                                \n",
      "KPE008                  61                 51                  56.0   \n",
      "KPE1223                 50                 39                  42.0   \n",
      "KPE1253                 58                 58                  33.0   \n",
      "KPE1263                 56                 21                  37.0   \n",
      "KPE1293                  6                 33                   8.0   \n",
      "KPE1307                 41                 56                  45.0   \n",
      "KPE1315                  8                 40                   NaN   \n",
      "KPE1322                 22                 45                  38.0   \n",
      "KPE1339                 65                 68                  46.0   \n",
      "KPE1343                 20                 28                  20.0   \n",
      "KPE1351                 26                 40                  33.0   \n",
      "KPE1356                 56                 61                  52.0   \n",
      "KPE1364                 42                 48                  49.0   \n",
      "KPE1369                 31                 55                  48.0   \n",
      "KPE1387                 46                 32                  48.0   \n",
      "KPE1390                 21                 38                   6.0   \n",
      "KPE1403                  3                 17                   4.0   \n",
      "KPE1464                 14                 35                   NaN   \n",
      "\n",
      "         pcl5_total_followup2  \n",
      "scr_id                         \n",
      "KPE008              49.000000  \n",
      "KPE1223             49.000000  \n",
      "KPE1253             35.133333  \n",
      "KPE1263             34.000000  \n",
      "KPE1293              3.000000  \n",
      "KPE1307             20.000000  \n",
      "KPE1315             35.133333  \n",
      "KPE1322             27.000000  \n",
      "KPE1339             67.000000  \n",
      "KPE1343             19.000000  \n",
      "KPE1351             25.000000  \n",
      "KPE1356             61.000000  \n",
      "KPE1364             52.000000  \n",
      "KPE1369             49.000000  \n",
      "KPE1387             39.000000  \n",
      "KPE1390             25.000000  \n",
      "KPE1403              8.000000  \n",
      "KPE1464             35.133333  \n"
     ]
    },
    {
     "data": {
      "text/plain": [
       "35.13333333333333"
      ]
     },
     "execution_count": 55,
     "metadata": {},
     "output_type": "execute_result"
    }
   ],
   "source": [
    "import statistics \n",
    "# subset the data frame\n",
    "kpe_pcl = kpe_dat[['pcl5_total_visit7','pcl5_total_screen', 'pcl5_total_followup1','pcl5_total_followup2']] \n",
    "# remove NaN's from FU2\n",
    "for i,n in enumerate(kpe_pcl['pcl5_total_followup2']):\n",
    "    if  pd.isna(n) == True:\n",
    "        print('nan')\n",
    "        print(kpe_pcl['pcl5_total_followup2'][i])\n",
    "        kpe_pcl['pcl5_total_followup2'][i]= np.nanmean(kpe_pcl['pcl5_total_followup2'])\n",
    "    \n",
    "    \n",
    "print(kpe_pcl)\n",
    "np.nanmean(kpe_pcl['pcl5_total_followup2'])"
   ]
  },
  {
   "cell_type": "code",
   "execution_count": 56,
   "metadata": {},
   "outputs": [
    {
     "name": "stdout",
     "output_type": "stream",
     "text": [
      "         pcl5_total_visit7  pcl5_total_screen  pcl5_total_followup1  \\\n",
      "scr_id                                                                \n",
      "KPE008                  61                 51                  56.0   \n",
      "KPE1293                  6                 33                   8.0   \n",
      "KPE1307                 41                 56                  45.0   \n",
      "KPE1322                 22                 45                  38.0   \n",
      "KPE1339                 65                 68                  46.0   \n",
      "KPE1343                 20                 28                  20.0   \n",
      "KPE1387                 46                 32                  48.0   \n",
      "KPE1223                 50                 39                  42.0   \n",
      "\n",
      "         pcl5_total_followup2  \n",
      "scr_id                         \n",
      "KPE008                   49.0  \n",
      "KPE1293                   3.0  \n",
      "KPE1307                  20.0  \n",
      "KPE1322                  27.0  \n",
      "KPE1339                  67.0  \n",
      "KPE1343                  19.0  \n",
      "KPE1387                  39.0  \n",
      "KPE1223                  49.0  \n"
     ]
    }
   ],
   "source": [
    "# now lets build regression model\n",
    "# Y = pcl score at FU2\n",
    "# X's = vector of edges from each subject\n",
    "kpe_data_pcl = kpe_pcl.loc[['KPE008','KPE1293','KPE1307','KPE1322','KPE1339','KPE1343','KPE1387','KPE1223']]\n",
    "print(kpe_data_pcl)"
   ]
  },
  {
   "cell_type": "code",
   "execution_count": 272,
   "metadata": {},
   "outputs": [
    {
     "name": "stdout",
     "output_type": "stream",
     "text": [
      "               0         1         2         3         4         5         6   \\\n",
      "KPE008  -0.039834 -0.029376  0.037595 -0.213827 -0.189267  0.176238 -0.245911   \n",
      "KPE1293  0.030739 -0.080540 -0.065367 -0.158857 -0.046296  0.142464 -0.007231   \n",
      "KPE1307 -0.151557  0.088885  0.152226 -0.184114  0.205597 -0.169984 -0.011736   \n",
      "KPE1322 -0.014385 -0.105614 -0.243054  0.374626  0.032019  0.035609  0.084222   \n",
      "KPE1339 -0.102304 -0.159886  0.080842  0.179623  0.042317 -0.189074 -0.166976   \n",
      "KPE1343 -0.086554 -0.051566 -0.124393 -0.132621 -0.032468 -0.272525  0.030901   \n",
      "KPE1387 -0.112390 -0.112897 -0.071055 -0.133951 -0.075742  0.130957  0.054832   \n",
      "KPE1223  0.012349 -0.110623  0.021965  0.109018 -0.000850 -0.119722 -0.009793   \n",
      "\n",
      "               7         8         9   ...        29        30        31  \\\n",
      "KPE008   0.096607 -0.195418  0.075585  ...  0.153073  0.032717 -0.267087   \n",
      "KPE1293 -0.122008 -0.203802 -0.081088  ...  0.030747  0.139441  0.158085   \n",
      "KPE1307 -0.019218  0.155985 -0.192696  ...  0.089511 -0.059480  0.069424   \n",
      "KPE1322 -0.028705  0.281240 -0.127647  ...  0.035164 -0.208486  0.024933   \n",
      "KPE1339  0.062988  0.156389 -0.014134  ... -0.068207  0.232440  0.181689   \n",
      "KPE1343  0.248965 -0.010986 -0.241484  ... -0.185383  0.056027 -0.079280   \n",
      "KPE1387 -0.032176 -0.045585 -0.286617  ... -0.012548 -0.075300 -0.024984   \n",
      "KPE1223 -0.076203 -0.002934 -0.122454  ... -0.149132 -0.081725  0.009200   \n",
      "\n",
      "               32        33        34        35        36        37        38  \n",
      "KPE008  -0.113345 -0.089090  0.043866  0.060591  0.119829  0.112523  0.041296  \n",
      "KPE1293  0.051063 -0.288147 -0.006669  0.056270 -0.185249 -0.193217  0.191558  \n",
      "KPE1307 -0.237016 -0.368953  0.109539 -0.131481 -0.028288  0.308098  0.018485  \n",
      "KPE1322  0.046373 -0.173748 -0.103723 -0.158766  0.221370  0.003069  0.264972  \n",
      "KPE1339  0.087435 -0.005692  0.278715 -0.126415 -0.373430  0.107198 -0.086299  \n",
      "KPE1343  0.110472  0.114773  0.124996  0.147384 -0.048283  0.043671 -0.277076  \n",
      "KPE1387  0.164124 -0.116354 -0.176131  0.007982  0.019914  0.013577  0.030815  \n",
      "KPE1223  0.192116  0.161094 -0.067362 -0.024601  0.140533 -0.048981  0.120048  \n",
      "\n",
      "[8 rows x 39 columns]\n"
     ]
    }
   ],
   "source": [
    "su = ['KPE008','KPE1293','KPE1307','KPE1322','KPE1339','KPE1343','KPE1387','KPE1223']\n",
    "\n",
    "kpe_matrix_dat = pd.DataFrame(vecKetamin, index=su)\n",
    "print(kpe_matrix_dat.iloc[:,0:39])\n",
    "# now we have flatten the matrix. \n",
    "# Remember, we now have double of everything, saw basically should split it in half. \n"
   ]
  },
  {
   "cell_type": "code",
   "execution_count": 320,
   "metadata": {
    "scrolled": false
   },
   "outputs": [
    {
     "name": "stdout",
     "output_type": "stream",
     "text": [
      "                             OLS Regression Results                             \n",
      "================================================================================\n",
      "Dep. Variable:     pcl5_total_followup2   R-squared:                       0.972\n",
      "Model:                              OLS   Adj. R-squared:                  0.902\n",
      "Method:                   Least Squares   F-statistic:                     13.94\n",
      "Date:                  Wed, 08 May 2019   Prob (F-statistic):             0.0683\n",
      "Time:                          18:44:20   Log-Likelihood:                -20.735\n",
      "No. Observations:                     8   AIC:                             53.47\n",
      "Df Residuals:                         2   BIC:                             53.95\n",
      "Df Model:                             5                                         \n",
      "Covariance Type:              nonrobust                                         \n",
      "==============================================================================\n",
      "                 coef    std err          t      P>|t|      [0.025      0.975]\n",
      "------------------------------------------------------------------------------\n",
      "const         27.8208      5.355      5.195      0.035       4.780      50.861\n",
      "0           -158.8175     47.039     -3.376      0.078    -361.209      43.574\n",
      "1            -22.9910     55.365     -0.415      0.718    -261.208     215.226\n",
      "2            146.8784     24.723      5.941      0.027      40.504     253.253\n",
      "3             98.5477     21.524      4.579      0.045       5.938     191.157\n",
      "4           -164.5458     37.018     -4.445      0.047    -323.823      -5.269\n",
      "==============================================================================\n",
      "Omnibus:                        1.446   Durbin-Watson:                   0.962\n",
      "Prob(Omnibus):                  0.485   Jarque-Bera (JB):                0.627\n",
      "Skew:                           0.651   Prob(JB):                        0.731\n",
      "Kurtosis:                       2.572   Cond. No.                         28.8\n",
      "==============================================================================\n",
      "\n",
      "Warnings:\n",
      "[1] Standard Errors assume that the covariance matrix of the errors is correctly specified.\n"
     ]
    },
    {
     "name": "stderr",
     "output_type": "stream",
     "text": [
      "/gpfs/ysm/project/oad4/conda_envs/py37_dev/lib/python3.6/site-packages/numpy/core/fromnumeric.py:2389: FutureWarning: Method .ptp is deprecated and will be removed in a future version. Use numpy.ptp instead.\n",
      "  return ptp(axis=axis, out=out, **kwargs)\n",
      "/gpfs/ysm/project/oad4/conda_envs/py37_dev/lib/python3.6/site-packages/scipy/stats/stats.py:1416: UserWarning: kurtosistest only valid for n>=20 ... continuing anyway, n=8\n",
      "  \"anyway, n=%i\" % int(n))\n"
     ]
    }
   ],
   "source": [
    "import statsmodels.api as sm\n",
    "\n",
    "X = kpe_matrix_dat.iloc[:,0:5] #kpe_matrix_dat[1]\n",
    "y = kpe_data_pcl[\"pcl5_total_followup2\"]\n",
    "\n",
    "X = sm.add_constant(X)\n",
    "# Note the difference in argument order\n",
    "model = sm.OLS(y, X).fit()\n",
    "predictions = model.predict(X) # make the predictions by the model\n",
    "\n",
    "# Print out the statistics\n",
    "print(model.summary())"
   ]
  },
  {
   "cell_type": "code",
   "execution_count": 319,
   "metadata": {},
   "outputs": [
    {
     "data": {
      "text/plain": [
       "<bound method LikelihoodModelResults.cov_params of <statsmodels.regression.linear_model.RegressionResultsWrapper object at 0x2ae13e2a06a0>>"
      ]
     },
     "execution_count": 319,
     "metadata": {},
     "output_type": "execute_result"
    }
   ],
   "source": []
  },
  {
   "cell_type": "code",
   "execution_count": 275,
   "metadata": {},
   "outputs": [
    {
     "name": "stdout",
     "output_type": "stream",
     "text": [
      "(8, 115)\n",
      "(8,)\n"
     ]
    }
   ],
   "source": [
    "from sklearn import linear_model\n",
    "\n",
    "lm = linear_model.LinearRegression()\n",
    "\n",
    "X = kpe_matrix_dat #kpe_matrix_dat[1]\n",
    "y = kpe_data_pcl[\"pcl5_total_followup2\"]\n",
    "\n",
    "# define the data/predictors as the pre-set feature names  \n",
    "#df = pd.DataFrame(kpe_matrix_dat)\n",
    "\n",
    "\n",
    "print(X.shape)\n",
    "print(y.shape)\n",
    "model = lm.fit(X,y)"
   ]
  },
  {
   "cell_type": "code",
   "execution_count": 276,
   "metadata": {},
   "outputs": [],
   "source": [
    "predictions = lm.predict(X)"
   ]
  },
  {
   "cell_type": "code",
   "execution_count": 277,
   "metadata": {},
   "outputs": [
    {
     "name": "stdout",
     "output_type": "stream",
     "text": [
      "[49.  3. 20. 27. 67. 19. 39. 49.]\n"
     ]
    }
   ],
   "source": [
    "print(predictions)"
   ]
  },
  {
   "cell_type": "code",
   "execution_count": 278,
   "metadata": {},
   "outputs": [
    {
     "data": {
      "text/plain": [
       "1.0"
      ]
     },
     "execution_count": 278,
     "metadata": {},
     "output_type": "execute_result"
    }
   ],
   "source": [
    "lm.score(X,y)\n",
    "# This leads to perfect prediction. So lets split data for test-retest"
   ]
  },
  {
   "cell_type": "code",
   "execution_count": 279,
   "metadata": {},
   "outputs": [
    {
     "name": "stdout",
     "output_type": "stream",
     "text": [
      "(6, 115) (6,)\n",
      "(2, 115) (2,)\n"
     ]
    }
   ],
   "source": [
    "from sklearn.model_selection import train_test_split\n",
    "# create training and testing vars\n",
    "X_train, X_test, y_train, y_test = train_test_split(X, y, test_size=0.2)\n",
    "print (X_train.shape, y_train.shape)\n",
    "print (X_test.shape, y_test.shape)\n",
    "\n"
   ]
  },
  {
   "cell_type": "code",
   "execution_count": 280,
   "metadata": {},
   "outputs": [],
   "source": [
    "# fit a model\n",
    "lm = linear_model.LinearRegression()\n",
    "model = lm.fit(X_train, y_train)\n",
    "predictions = lm.predict(X_test)"
   ]
  },
  {
   "cell_type": "code",
   "execution_count": 281,
   "metadata": {},
   "outputs": [
    {
     "data": {
      "text/plain": [
       "array([39.64903041, 44.19329881])"
      ]
     },
     "execution_count": 281,
     "metadata": {},
     "output_type": "execute_result"
    }
   ],
   "source": [
    "predictions"
   ]
  },
  {
   "cell_type": "code",
   "execution_count": 282,
   "metadata": {},
   "outputs": [
    {
     "data": {
      "text/plain": [
       "Text(0, 0.5, 'Predictions')"
      ]
     },
     "execution_count": 282,
     "metadata": {},
     "output_type": "execute_result"
    },
    {
     "data": {
      "image/png": "[encoded data removed]",
      "text/plain": [
       "<Figure size 432x288 with 1 Axes>"
      ]
     },
     "metadata": {
      "needs_background": "light"
     },
     "output_type": "display_data"
    }
   ],
   "source": [
    "plt.scatter(y_test, predictions)\n",
    "plt.xlabel(\"True Values\")\n",
    "plt.ylabel(\"Predictions\")"
   ]
  },
  {
   "cell_type": "code",
   "execution_count": 283,
   "metadata": {},
   "outputs": [
    {
     "data": {
      "text/plain": [
       "0.001140370544000624"
      ]
     },
     "execution_count": 283,
     "metadata": {},
     "output_type": "execute_result"
    }
   ],
   "source": [
    "model.score(X_test, y_test)\n",
    "# prediction is not great"
   ]
  }
 ],
 "metadata": {
  "kernelspec": {
   "display_name": "Python 3",
   "language": "python",
   "name": "python3"
  },
  "language_info": {
   "codemirror_mode": {
    "name": "ipython",
    "version": 3
   },
   "file_extension": ".py",
   "mimetype": "text/x-python",
   "name": "python",
   "nbconvert_exporter": "python",
   "pygments_lexer": "ipython3",
   "version": "3.6.8"
  }
 },
 "nbformat": 4,
 "nbformat_minor": 2
}
