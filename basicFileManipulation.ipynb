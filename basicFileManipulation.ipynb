{
 "cells": [
  {
   "cell_type": "code",
   "execution_count": 5,
   "metadata": {},
   "outputs": [],
   "source": [
    "import os\n",
    "import numpy as np"
   ]
  },
  {
   "cell_type": "code",
   "execution_count": 9,
   "metadata": {},
   "outputs": [],
   "source": [
    "subList =  ['008', '1253' , '1293' ,'1307','1322','1339','1343','1387'] #'1223'\n",
    "midSubList = ['1253','1263','1351','1364','1369','1390','1403']\n",
    "\n",
    "subject_list = np.concatenate([subList,midSubList])\n",
    "ketFiles_2_func = ['/home/oad4/scratch60/kpeOutput/fmriprep/sub-%s/ses-2/func/sub-%s_ses-2_task-rest_space-MNI152NLin2009cAsym_desc-preproc_bold.nii.gz' % (sub,sub) for sub in subList]\n",
    "ketFiles_2_mask = ['/home/oad4/scratch60/kpeOutput/fmriprep/sub-%s/ses-2/func/sub-%s_ses-2_task-rest_space-MNI152NLin2009cAsym_desc-brain_mask.nii.gz' % (sub,sub) for sub in subList]\n",
    "midFiles_2_func = ['/home/oad4/scratch60/kpeOutput/fmriprep/sub-%s/ses-2/func/sub-%s_ses-2_task-rest_space-MNI152NLin2009cAsym_desc-preproc_bold.nii.gz' % (sub,sub) for sub in midSubList]\n",
    "midFiles_2_mask = ['/home/oad4/scratch60/kpeOutput/fmriprep/sub-%s/ses-2/func/sub-%s_ses-2_task-rest_space-MNI152NLin2009cAsym_desc-brain_mask.nii.gz' % (sub,sub) for sub in midSubList]\n",
    "funcFiles = np.concatenate([ketFiles_2_func, midFiles_2_func])\n",
    "maskFiles = np.concatenate([ketFiles_2_mask, midFiles_2_mask])"
   ]
  },
  {
   "cell_type": "code",
   "execution_count": 10,
   "metadata": {},
   "outputs": [
    {
     "data": {
      "text/plain": [
       "array(['/home/oad4/scratch60/kpeOutput/fmriprep/sub-008/ses-2/func/sub-008_ses-2_task-rest_space-MNI152NLin2009cAsym_desc-preproc_bold.nii.gz',\n",
       "       '/home/oad4/scratch60/kpeOutput/fmriprep/sub-1253/ses-2/func/sub-1253_ses-2_task-rest_space-MNI152NLin2009cAsym_desc-preproc_bold.nii.gz',\n",
       "       '/home/oad4/scratch60/kpeOutput/fmriprep/sub-1293/ses-2/func/sub-1293_ses-2_task-rest_space-MNI152NLin2009cAsym_desc-preproc_bold.nii.gz',\n",
       "       '/home/oad4/scratch60/kpeOutput/fmriprep/sub-1307/ses-2/func/sub-1307_ses-2_task-rest_space-MNI152NLin2009cAsym_desc-preproc_bold.nii.gz',\n",
       "       '/home/oad4/scratch60/kpeOutput/fmriprep/sub-1322/ses-2/func/sub-1322_ses-2_task-rest_space-MNI152NLin2009cAsym_desc-preproc_bold.nii.gz',\n",
       "       '/home/oad4/scratch60/kpeOutput/fmriprep/sub-1339/ses-2/func/sub-1339_ses-2_task-rest_space-MNI152NLin2009cAsym_desc-preproc_bold.nii.gz',\n",
       "       '/home/oad4/scratch60/kpeOutput/fmriprep/sub-1343/ses-2/func/sub-1343_ses-2_task-rest_space-MNI152NLin2009cAsym_desc-preproc_bold.nii.gz',\n",
       "       '/home/oad4/scratch60/kpeOutput/fmriprep/sub-1387/ses-2/func/sub-1387_ses-2_task-rest_space-MNI152NLin2009cAsym_desc-preproc_bold.nii.gz',\n",
       "       '/home/oad4/scratch60/kpeOutput/fmriprep/sub-1253/ses-2/func/sub-1253_ses-2_task-rest_space-MNI152NLin2009cAsym_desc-preproc_bold.nii.gz',\n",
       "       '/home/oad4/scratch60/kpeOutput/fmriprep/sub-1263/ses-2/func/sub-1263_ses-2_task-rest_space-MNI152NLin2009cAsym_desc-preproc_bold.nii.gz',\n",
       "       '/home/oad4/scratch60/kpeOutput/fmriprep/sub-1351/ses-2/func/sub-1351_ses-2_task-rest_space-MNI152NLin2009cAsym_desc-preproc_bold.nii.gz',\n",
       "       '/home/oad4/scratch60/kpeOutput/fmriprep/sub-1364/ses-2/func/sub-1364_ses-2_task-rest_space-MNI152NLin2009cAsym_desc-preproc_bold.nii.gz',\n",
       "       '/home/oad4/scratch60/kpeOutput/fmriprep/sub-1369/ses-2/func/sub-1369_ses-2_task-rest_space-MNI152NLin2009cAsym_desc-preproc_bold.nii.gz',\n",
       "       '/home/oad4/scratch60/kpeOutput/fmriprep/sub-1390/ses-2/func/sub-1390_ses-2_task-rest_space-MNI152NLin2009cAsym_desc-preproc_bold.nii.gz',\n",
       "       '/home/oad4/scratch60/kpeOutput/fmriprep/sub-1403/ses-2/func/sub-1403_ses-2_task-rest_space-MNI152NLin2009cAsym_desc-preproc_bold.nii.gz'],\n",
       "      dtype='<U135')"
      ]
     },
     "execution_count": 10,
     "metadata": {},
     "output_type": "execute_result"
    }
   ],
   "source": [
    "funcFiles"
   ]
  },
  {
   "cell_type": "code",
   "execution_count": 14,
   "metadata": {},
   "outputs": [],
   "source": [
    "from shutil import copyfile"
   ]
  },
  {
   "cell_type": "code",
   "execution_count": 15,
   "metadata": {},
   "outputs": [
    {
     "name": "stdout",
     "output_type": "stream",
     "text": [
      "/home/oad4/scratch60/kpeOutput/fmriprep/sub-008/ses-2/func/sub-008_ses-2_task-rest_space-MNI152NLin2009cAsym_desc-preproc_bold.nii.gz\n",
      "sub-008_ses-2_task-rest_space-MNI152NLin2009cAsym_desc-preproc_bold.nii.gz\n",
      "/home/oad4/scratch60/kpeOutput/fmriprep/sub-1253/ses-2/func/sub-1253_ses-2_task-rest_space-MNI152NLin2009cAsym_desc-preproc_bold.nii.gz\n",
      "sub-1253_ses-2_task-rest_space-MNI152NLin2009cAsym_desc-preproc_bold.nii.gz\n",
      "/home/oad4/scratch60/kpeOutput/fmriprep/sub-1293/ses-2/func/sub-1293_ses-2_task-rest_space-MNI152NLin2009cAsym_desc-preproc_bold.nii.gz\n",
      "sub-1293_ses-2_task-rest_space-MNI152NLin2009cAsym_desc-preproc_bold.nii.gz\n",
      "/home/oad4/scratch60/kpeOutput/fmriprep/sub-1307/ses-2/func/sub-1307_ses-2_task-rest_space-MNI152NLin2009cAsym_desc-preproc_bold.nii.gz\n",
      "sub-1307_ses-2_task-rest_space-MNI152NLin2009cAsym_desc-preproc_bold.nii.gz\n",
      "/home/oad4/scratch60/kpeOutput/fmriprep/sub-1322/ses-2/func/sub-1322_ses-2_task-rest_space-MNI152NLin2009cAsym_desc-preproc_bold.nii.gz\n",
      "sub-1322_ses-2_task-rest_space-MNI152NLin2009cAsym_desc-preproc_bold.nii.gz\n",
      "/home/oad4/scratch60/kpeOutput/fmriprep/sub-1339/ses-2/func/sub-1339_ses-2_task-rest_space-MNI152NLin2009cAsym_desc-preproc_bold.nii.gz\n",
      "sub-1339_ses-2_task-rest_space-MNI152NLin2009cAsym_desc-preproc_bold.nii.gz\n",
      "/home/oad4/scratch60/kpeOutput/fmriprep/sub-1343/ses-2/func/sub-1343_ses-2_task-rest_space-MNI152NLin2009cAsym_desc-preproc_bold.nii.gz\n",
      "sub-1343_ses-2_task-rest_space-MNI152NLin2009cAsym_desc-preproc_bold.nii.gz\n",
      "/home/oad4/scratch60/kpeOutput/fmriprep/sub-1387/ses-2/func/sub-1387_ses-2_task-rest_space-MNI152NLin2009cAsym_desc-preproc_bold.nii.gz\n",
      "sub-1387_ses-2_task-rest_space-MNI152NLin2009cAsym_desc-preproc_bold.nii.gz\n",
      "/home/oad4/scratch60/kpeOutput/fmriprep/sub-1253/ses-2/func/sub-1253_ses-2_task-rest_space-MNI152NLin2009cAsym_desc-preproc_bold.nii.gz\n",
      "sub-1253_ses-2_task-rest_space-MNI152NLin2009cAsym_desc-preproc_bold.nii.gz\n",
      "/home/oad4/scratch60/kpeOutput/fmriprep/sub-1263/ses-2/func/sub-1263_ses-2_task-rest_space-MNI152NLin2009cAsym_desc-preproc_bold.nii.gz\n",
      "sub-1263_ses-2_task-rest_space-MNI152NLin2009cAsym_desc-preproc_bold.nii.gz\n",
      "/home/oad4/scratch60/kpeOutput/fmriprep/sub-1351/ses-2/func/sub-1351_ses-2_task-rest_space-MNI152NLin2009cAsym_desc-preproc_bold.nii.gz\n",
      "sub-1351_ses-2_task-rest_space-MNI152NLin2009cAsym_desc-preproc_bold.nii.gz\n",
      "/home/oad4/scratch60/kpeOutput/fmriprep/sub-1364/ses-2/func/sub-1364_ses-2_task-rest_space-MNI152NLin2009cAsym_desc-preproc_bold.nii.gz\n",
      "sub-1364_ses-2_task-rest_space-MNI152NLin2009cAsym_desc-preproc_bold.nii.gz\n",
      "/home/oad4/scratch60/kpeOutput/fmriprep/sub-1369/ses-2/func/sub-1369_ses-2_task-rest_space-MNI152NLin2009cAsym_desc-preproc_bold.nii.gz\n",
      "sub-1369_ses-2_task-rest_space-MNI152NLin2009cAsym_desc-preproc_bold.nii.gz\n",
      "/home/oad4/scratch60/kpeOutput/fmriprep/sub-1390/ses-2/func/sub-1390_ses-2_task-rest_space-MNI152NLin2009cAsym_desc-preproc_bold.nii.gz\n",
      "sub-1390_ses-2_task-rest_space-MNI152NLin2009cAsym_desc-preproc_bold.nii.gz\n",
      "/home/oad4/scratch60/kpeOutput/fmriprep/sub-1403/ses-2/func/sub-1403_ses-2_task-rest_space-MNI152NLin2009cAsym_desc-preproc_bold.nii.gz\n",
      "sub-1403_ses-2_task-rest_space-MNI152NLin2009cAsym_desc-preproc_bold.nii.gz\n"
     ]
    }
   ],
   "source": [
    "for i in funcFiles:\n",
    "   print (i)\n",
    "   g = i.split('func/')\n",
    "   print (g[1])\n",
    "   copyfile(i, os.path.join('/home/oad4/scratch60/kpeForFCMA', g[1]))"
   ]
  },
  {
   "cell_type": "code",
   "execution_count": 18,
   "metadata": {},
   "outputs": [
    {
     "name": "stdout",
     "output_type": "stream",
     "text": [
      "/home/oad4/scratch60/kpeOutput/fmriprep/sub-008/ses-2/func/sub-008_ses-2_task-rest_space-MNI152NLin2009cAsym_desc-brain_mask.nii.gz\n",
      "sub-008_ses-2_task-rest_space-MNI152NLin2009cAsym_desc-brain_mask.nii.gz\n",
      "/home/oad4/scratch60/kpeOutput/fmriprep/sub-1253/ses-2/func/sub-1253_ses-2_task-rest_space-MNI152NLin2009cAsym_desc-brain_mask.nii.gz\n",
      "sub-1253_ses-2_task-rest_space-MNI152NLin2009cAsym_desc-brain_mask.nii.gz\n",
      "/home/oad4/scratch60/kpeOutput/fmriprep/sub-1293/ses-2/func/sub-1293_ses-2_task-rest_space-MNI152NLin2009cAsym_desc-brain_mask.nii.gz\n",
      "sub-1293_ses-2_task-rest_space-MNI152NLin2009cAsym_desc-brain_mask.nii.gz\n",
      "/home/oad4/scratch60/kpeOutput/fmriprep/sub-1307/ses-2/func/sub-1307_ses-2_task-rest_space-MNI152NLin2009cAsym_desc-brain_mask.nii.gz\n",
      "sub-1307_ses-2_task-rest_space-MNI152NLin2009cAsym_desc-brain_mask.nii.gz\n",
      "/home/oad4/scratch60/kpeOutput/fmriprep/sub-1322/ses-2/func/sub-1322_ses-2_task-rest_space-MNI152NLin2009cAsym_desc-brain_mask.nii.gz\n",
      "sub-1322_ses-2_task-rest_space-MNI152NLin2009cAsym_desc-brain_mask.nii.gz\n",
      "/home/oad4/scratch60/kpeOutput/fmriprep/sub-1339/ses-2/func/sub-1339_ses-2_task-rest_space-MNI152NLin2009cAsym_desc-brain_mask.nii.gz\n",
      "sub-1339_ses-2_task-rest_space-MNI152NLin2009cAsym_desc-brain_mask.nii.gz\n",
      "/home/oad4/scratch60/kpeOutput/fmriprep/sub-1343/ses-2/func/sub-1343_ses-2_task-rest_space-MNI152NLin2009cAsym_desc-brain_mask.nii.gz\n",
      "sub-1343_ses-2_task-rest_space-MNI152NLin2009cAsym_desc-brain_mask.nii.gz\n",
      "/home/oad4/scratch60/kpeOutput/fmriprep/sub-1387/ses-2/func/sub-1387_ses-2_task-rest_space-MNI152NLin2009cAsym_desc-brain_mask.nii.gz\n",
      "sub-1387_ses-2_task-rest_space-MNI152NLin2009cAsym_desc-brain_mask.nii.gz\n",
      "/home/oad4/scratch60/kpeOutput/fmriprep/sub-1253/ses-2/func/sub-1253_ses-2_task-rest_space-MNI152NLin2009cAsym_desc-brain_mask.nii.gz\n",
      "sub-1253_ses-2_task-rest_space-MNI152NLin2009cAsym_desc-brain_mask.nii.gz\n",
      "/home/oad4/scratch60/kpeOutput/fmriprep/sub-1263/ses-2/func/sub-1263_ses-2_task-rest_space-MNI152NLin2009cAsym_desc-brain_mask.nii.gz\n",
      "sub-1263_ses-2_task-rest_space-MNI152NLin2009cAsym_desc-brain_mask.nii.gz\n",
      "/home/oad4/scratch60/kpeOutput/fmriprep/sub-1351/ses-2/func/sub-1351_ses-2_task-rest_space-MNI152NLin2009cAsym_desc-brain_mask.nii.gz\n",
      "sub-1351_ses-2_task-rest_space-MNI152NLin2009cAsym_desc-brain_mask.nii.gz\n",
      "/home/oad4/scratch60/kpeOutput/fmriprep/sub-1364/ses-2/func/sub-1364_ses-2_task-rest_space-MNI152NLin2009cAsym_desc-brain_mask.nii.gz\n",
      "sub-1364_ses-2_task-rest_space-MNI152NLin2009cAsym_desc-brain_mask.nii.gz\n",
      "/home/oad4/scratch60/kpeOutput/fmriprep/sub-1369/ses-2/func/sub-1369_ses-2_task-rest_space-MNI152NLin2009cAsym_desc-brain_mask.nii.gz\n",
      "sub-1369_ses-2_task-rest_space-MNI152NLin2009cAsym_desc-brain_mask.nii.gz\n",
      "/home/oad4/scratch60/kpeOutput/fmriprep/sub-1390/ses-2/func/sub-1390_ses-2_task-rest_space-MNI152NLin2009cAsym_desc-brain_mask.nii.gz\n",
      "sub-1390_ses-2_task-rest_space-MNI152NLin2009cAsym_desc-brain_mask.nii.gz\n",
      "/home/oad4/scratch60/kpeOutput/fmriprep/sub-1403/ses-2/func/sub-1403_ses-2_task-rest_space-MNI152NLin2009cAsym_desc-brain_mask.nii.gz\n",
      "sub-1403_ses-2_task-rest_space-MNI152NLin2009cAsym_desc-brain_mask.nii.gz\n"
     ]
    }
   ],
   "source": [
    "for n in maskFiles:\n",
    "    print (n)\n",
    "    g = n.split('func/')\n",
    "    print (g[1])\n",
    "    copyfile(i, os.path.join('/home/oad4/scratch60/kpeForFCMA', g[1]))"
   ]
  },
  {
   "cell_type": "code",
   "execution_count": 31,
   "metadata": {},
   "outputs": [],
   "source": [
    "from brainiak import io\n",
    "data_dir = '/home/oad4/scratch60/kpeForFCMA'\n",
    "suffix = 'bold.nii.gz'\n",
    "mask_file = data_dir +'/' + 'sub-1403_ses-2_task-rest_space-MNI152NLin2009cAsym_desc-brain_mask.nii.gz'\n",
    "images = io.load_images_from_dir(data_dir, suffix=suffix)\n",
    "mask = io.load_boolean_mask(mask_file)"
   ]
  },
  {
   "cell_type": "code",
   "execution_count": 6,
   "metadata": {},
   "outputs": [
    {
     "name": "stdout",
     "output_type": "stream",
     "text": [
      "/gpfs/ysm/scratch60/oad4/kpeForFCMA\n",
      ".\n",
      "├── sub-008_ses-2_task-rest_space-MNI152NLin2009cAsym_desc-brain_mask.nii.gz\n",
      "├── sub-008_ses-2_task-rest_space-MNI152NLin2009cAsym_desc-preproc_bold.nii.gz\n",
      "├── sub-1253_ses-2_task-rest_space-MNI152NLin2009cAsym_desc-brain_mask.nii.gz\n",
      "├── sub-1253_ses-2_task-rest_space-MNI152NLin2009cAsym_desc-preproc_bold.nii.gz\n",
      "├── sub-1263_ses-2_task-rest_space-MNI152NLin2009cAsym_desc-brain_mask.nii.gz\n",
      "├── sub-1263_ses-2_task-rest_space-MNI152NLin2009cAsym_desc-preproc_bold.nii.gz\n",
      "├── sub-1293_ses-2_task-rest_space-MNI152NLin2009cAsym_desc-brain_mask.nii.gz\n",
      "├── sub-1293_ses-2_task-rest_space-MNI152NLin2009cAsym_desc-preproc_bold.nii.gz\n",
      "├── sub-1307_ses-2_task-rest_space-MNI152NLin2009cAsym_desc-brain_mask.nii.gz\n",
      "├── sub-1307_ses-2_task-rest_space-MNI152NLin2009cAsym_desc-preproc_bold.nii.gz\n",
      "├── sub-1322_ses-2_task-rest_space-MNI152NLin2009cAsym_desc-brain_mask.nii.gz\n",
      "├── sub-1322_ses-2_task-rest_space-MNI152NLin2009cAsym_desc-preproc_bold.nii.gz\n",
      "├── sub-1339_ses-2_task-rest_space-MNI152NLin2009cAsym_desc-brain_mask.nii.gz\n",
      "├── sub-1339_ses-2_task-rest_space-MNI152NLin2009cAsym_desc-preproc_bold.nii.gz\n",
      "├── sub-1343_ses-2_task-rest_space-MNI152NLin2009cAsym_desc-brain_mask.nii.gz\n",
      "├── sub-1343_ses-2_task-rest_space-MNI152NLin2009cAsym_desc-preproc_bold.nii.gz\n",
      "├── sub-1351_ses-2_task-rest_space-MNI152NLin2009cAsym_desc-brain_mask.nii.gz\n",
      "├── sub-1351_ses-2_task-rest_space-MNI152NLin2009cAsym_desc-preproc_bold.nii.gz\n",
      "├── sub-1364_ses-2_task-rest_space-MNI152NLin2009cAsym_desc-brain_mask.nii.gz\n",
      "├── sub-1364_ses-2_task-rest_space-MNI152NLin2009cAsym_desc-preproc_bold.nii.gz\n",
      "├── sub-1369_ses-2_task-rest_space-MNI152NLin2009cAsym_desc-brain_mask.nii.gz\n",
      "├── sub-1369_ses-2_task-rest_space-MNI152NLin2009cAsym_desc-preproc_bold.nii.gz\n",
      "├── sub-1387_ses-2_task-rest_space-MNI152NLin2009cAsym_desc-brain_mask.nii.gz\n",
      "├── sub-1387_ses-2_task-rest_space-MNI152NLin2009cAsym_desc-preproc_bold.nii.gz\n",
      "├── sub-1390_ses-2_task-rest_space-MNI152NLin2009cAsym_desc-brain_mask.nii.gz\n",
      "├── sub-1390_ses-2_task-rest_space-MNI152NLin2009cAsym_desc-preproc_bold.nii.gz\n",
      "├── sub-1403_ses-2_task-rest_space-MNI152NLin2009cAsym_desc-brain_mask.nii.gz\n",
      "└── sub-1403_ses-2_task-rest_space-MNI152NLin2009cAsym_desc-preproc_bold.nii.gz\n",
      "\n",
      "0 directories, 28 files\n"
     ]
    }
   ],
   "source": [
    "# building the epoch file according to folder list\n",
    "# first we look at the folder list\n",
    "os.chdir('/home/oad4/scratch60/kpeForFCMA/')\n",
    "!pwd\n",
    "!tree"
   ]
  },
  {
   "cell_type": "code",
   "execution_count": null,
   "metadata": {},
   "outputs": [],
   "source": [
    "import numpy as np\n",
    "import matplotlib.pyplot as plt\n",
    "from brainiak import io"
   ]
  },
  {
   "cell_type": "code",
   "execution_count": 41,
   "metadata": {},
   "outputs": [],
   "source": [
    "a = np.zeros((15,2,1,580))\n",
    "# we are building a 4 dimensional array with first dimension = subject(runs), 2nd = conditions (in this \n",
    "# case ketamine or midazolam), 3rd = nummber of conditions that a run contains (in this case only one, because \n",
    "# it was either ketamine or midazolam). 4th = number or TRs"
   ]
  },
  {
   "cell_type": "code",
   "execution_count": 42,
   "metadata": {},
   "outputs": [
    {
     "data": {
      "text/plain": [
       "(15, 2, 1, 580)"
      ]
     },
     "execution_count": 42,
     "metadata": {},
     "output_type": "execute_result"
    }
   ],
   "source": [
    "a.shape"
   ]
  },
  {
   "cell_type": "code",
   "execution_count": 8,
   "metadata": {},
   "outputs": [
    {
     "data": {
      "text/plain": [
       "['/home/oad4/scratch60/kpeForFCMA/sub-008_ses-2_task-rest_space-MNI152NLin2009cAsym_desc-preproc_bold.nii.gz',\n",
       " '/home/oad4/scratch60/kpeForFCMA/sub-1253_ses-2_task-rest_space-MNI152NLin2009cAsym_desc-preproc_bold.nii.gz',\n",
       " '/home/oad4/scratch60/kpeForFCMA/sub-1263_ses-2_task-rest_space-MNI152NLin2009cAsym_desc-preproc_bold.nii.gz',\n",
       " '/home/oad4/scratch60/kpeForFCMA/sub-1293_ses-2_task-rest_space-MNI152NLin2009cAsym_desc-preproc_bold.nii.gz',\n",
       " '/home/oad4/scratch60/kpeForFCMA/sub-1307_ses-2_task-rest_space-MNI152NLin2009cAsym_desc-preproc_bold.nii.gz',\n",
       " '/home/oad4/scratch60/kpeForFCMA/sub-1322_ses-2_task-rest_space-MNI152NLin2009cAsym_desc-preproc_bold.nii.gz',\n",
       " '/home/oad4/scratch60/kpeForFCMA/sub-1339_ses-2_task-rest_space-MNI152NLin2009cAsym_desc-preproc_bold.nii.gz',\n",
       " '/home/oad4/scratch60/kpeForFCMA/sub-1343_ses-2_task-rest_space-MNI152NLin2009cAsym_desc-preproc_bold.nii.gz',\n",
       " '/home/oad4/scratch60/kpeForFCMA/sub-1351_ses-2_task-rest_space-MNI152NLin2009cAsym_desc-preproc_bold.nii.gz',\n",
       " '/home/oad4/scratch60/kpeForFCMA/sub-1364_ses-2_task-rest_space-MNI152NLin2009cAsym_desc-preproc_bold.nii.gz',\n",
       " '/home/oad4/scratch60/kpeForFCMA/sub-1369_ses-2_task-rest_space-MNI152NLin2009cAsym_desc-preproc_bold.nii.gz',\n",
       " '/home/oad4/scratch60/kpeForFCMA/sub-1387_ses-2_task-rest_space-MNI152NLin2009cAsym_desc-preproc_bold.nii.gz',\n",
       " '/home/oad4/scratch60/kpeForFCMA/sub-1390_ses-2_task-rest_space-MNI152NLin2009cAsym_desc-preproc_bold.nii.gz',\n",
       " '/home/oad4/scratch60/kpeForFCMA/sub-1403_ses-2_task-rest_space-MNI152NLin2009cAsym_desc-preproc_bold.nii.gz']"
      ]
     },
     "execution_count": 8,
     "metadata": {},
     "output_type": "execute_result"
    }
   ],
   "source": [
    "# now we will change the condition according to group\n",
    "import glob\n",
    "filelist = sorted(glob.glob('/home/oad4/scratch60/kpeForFCMA/sub-*_ses-2_task-rest_space-MNI152NLin2009cAsym_desc-preproc_bold.nii.gz'))\n",
    "filelist"
   ]
  },
  {
   "cell_type": "code",
   "execution_count": 34,
   "metadata": {},
   "outputs": [
    {
     "name": "stdout",
     "output_type": "stream",
     "text": [
      "/home/oad4/scratch60/kpeForFCMA/sub-008_ses-2_task-rest_space-MNI152NLin2009cAsym_desc-preproc_bold.nii.gz\n",
      "0\n",
      "/home/oad4/scratch60/kpeOutput/fmriprep/sub-008/ses-2/func/sub-008_ses-2_task-rest_space-MNI152NLin2009cAsym_desc-preproc_bold.nii.gz\n",
      "/home/oad4/scratch60/kpeOutput/fmriprep/sub-1253/ses-2/func/sub-1253_ses-2_task-rest_space-MNI152NLin2009cAsym_desc-preproc_bold.nii.gz\n",
      "/home/oad4/scratch60/kpeOutput/fmriprep/sub-1293/ses-2/func/sub-1293_ses-2_task-rest_space-MNI152NLin2009cAsym_desc-preproc_bold.nii.gz\n",
      "/home/oad4/scratch60/kpeOutput/fmriprep/sub-1307/ses-2/func/sub-1307_ses-2_task-rest_space-MNI152NLin2009cAsym_desc-preproc_bold.nii.gz\n",
      "/home/oad4/scratch60/kpeOutput/fmriprep/sub-1322/ses-2/func/sub-1322_ses-2_task-rest_space-MNI152NLin2009cAsym_desc-preproc_bold.nii.gz\n",
      "/home/oad4/scratch60/kpeOutput/fmriprep/sub-1339/ses-2/func/sub-1339_ses-2_task-rest_space-MNI152NLin2009cAsym_desc-preproc_bold.nii.gz\n",
      "/home/oad4/scratch60/kpeOutput/fmriprep/sub-1343/ses-2/func/sub-1343_ses-2_task-rest_space-MNI152NLin2009cAsym_desc-preproc_bold.nii.gz\n",
      "/home/oad4/scratch60/kpeOutput/fmriprep/sub-1387/ses-2/func/sub-1387_ses-2_task-rest_space-MNI152NLin2009cAsym_desc-preproc_bold.nii.gz\n",
      "/home/oad4/scratch60/kpeForFCMA/sub-1253_ses-2_task-rest_space-MNI152NLin2009cAsym_desc-preproc_bold.nii.gz\n",
      "1\n",
      "/home/oad4/scratch60/kpeOutput/fmriprep/sub-008/ses-2/func/sub-008_ses-2_task-rest_space-MNI152NLin2009cAsym_desc-preproc_bold.nii.gz\n",
      "/home/oad4/scratch60/kpeOutput/fmriprep/sub-1253/ses-2/func/sub-1253_ses-2_task-rest_space-MNI152NLin2009cAsym_desc-preproc_bold.nii.gz\n",
      "/home/oad4/scratch60/kpeOutput/fmriprep/sub-1293/ses-2/func/sub-1293_ses-2_task-rest_space-MNI152NLin2009cAsym_desc-preproc_bold.nii.gz\n",
      "/home/oad4/scratch60/kpeOutput/fmriprep/sub-1307/ses-2/func/sub-1307_ses-2_task-rest_space-MNI152NLin2009cAsym_desc-preproc_bold.nii.gz\n",
      "/home/oad4/scratch60/kpeOutput/fmriprep/sub-1322/ses-2/func/sub-1322_ses-2_task-rest_space-MNI152NLin2009cAsym_desc-preproc_bold.nii.gz\n",
      "/home/oad4/scratch60/kpeOutput/fmriprep/sub-1339/ses-2/func/sub-1339_ses-2_task-rest_space-MNI152NLin2009cAsym_desc-preproc_bold.nii.gz\n",
      "/home/oad4/scratch60/kpeOutput/fmriprep/sub-1343/ses-2/func/sub-1343_ses-2_task-rest_space-MNI152NLin2009cAsym_desc-preproc_bold.nii.gz\n",
      "/home/oad4/scratch60/kpeOutput/fmriprep/sub-1387/ses-2/func/sub-1387_ses-2_task-rest_space-MNI152NLin2009cAsym_desc-preproc_bold.nii.gz\n",
      "/home/oad4/scratch60/kpeForFCMA/sub-1263_ses-2_task-rest_space-MNI152NLin2009cAsym_desc-preproc_bold.nii.gz\n",
      "2\n",
      "/home/oad4/scratch60/kpeOutput/fmriprep/sub-008/ses-2/func/sub-008_ses-2_task-rest_space-MNI152NLin2009cAsym_desc-preproc_bold.nii.gz\n",
      "/home/oad4/scratch60/kpeOutput/fmriprep/sub-1253/ses-2/func/sub-1253_ses-2_task-rest_space-MNI152NLin2009cAsym_desc-preproc_bold.nii.gz\n",
      "/home/oad4/scratch60/kpeOutput/fmriprep/sub-1293/ses-2/func/sub-1293_ses-2_task-rest_space-MNI152NLin2009cAsym_desc-preproc_bold.nii.gz\n",
      "/home/oad4/scratch60/kpeOutput/fmriprep/sub-1307/ses-2/func/sub-1307_ses-2_task-rest_space-MNI152NLin2009cAsym_desc-preproc_bold.nii.gz\n",
      "/home/oad4/scratch60/kpeOutput/fmriprep/sub-1322/ses-2/func/sub-1322_ses-2_task-rest_space-MNI152NLin2009cAsym_desc-preproc_bold.nii.gz\n",
      "/home/oad4/scratch60/kpeOutput/fmriprep/sub-1339/ses-2/func/sub-1339_ses-2_task-rest_space-MNI152NLin2009cAsym_desc-preproc_bold.nii.gz\n",
      "/home/oad4/scratch60/kpeOutput/fmriprep/sub-1343/ses-2/func/sub-1343_ses-2_task-rest_space-MNI152NLin2009cAsym_desc-preproc_bold.nii.gz\n",
      "/home/oad4/scratch60/kpeOutput/fmriprep/sub-1387/ses-2/func/sub-1387_ses-2_task-rest_space-MNI152NLin2009cAsym_desc-preproc_bold.nii.gz\n",
      "/home/oad4/scratch60/kpeForFCMA/sub-1293_ses-2_task-rest_space-MNI152NLin2009cAsym_desc-preproc_bold.nii.gz\n",
      "3\n",
      "/home/oad4/scratch60/kpeOutput/fmriprep/sub-008/ses-2/func/sub-008_ses-2_task-rest_space-MNI152NLin2009cAsym_desc-preproc_bold.nii.gz\n",
      "/home/oad4/scratch60/kpeOutput/fmriprep/sub-1253/ses-2/func/sub-1253_ses-2_task-rest_space-MNI152NLin2009cAsym_desc-preproc_bold.nii.gz\n",
      "/home/oad4/scratch60/kpeOutput/fmriprep/sub-1293/ses-2/func/sub-1293_ses-2_task-rest_space-MNI152NLin2009cAsym_desc-preproc_bold.nii.gz\n",
      "/home/oad4/scratch60/kpeOutput/fmriprep/sub-1307/ses-2/func/sub-1307_ses-2_task-rest_space-MNI152NLin2009cAsym_desc-preproc_bold.nii.gz\n",
      "/home/oad4/scratch60/kpeOutput/fmriprep/sub-1322/ses-2/func/sub-1322_ses-2_task-rest_space-MNI152NLin2009cAsym_desc-preproc_bold.nii.gz\n",
      "/home/oad4/scratch60/kpeOutput/fmriprep/sub-1339/ses-2/func/sub-1339_ses-2_task-rest_space-MNI152NLin2009cAsym_desc-preproc_bold.nii.gz\n",
      "/home/oad4/scratch60/kpeOutput/fmriprep/sub-1343/ses-2/func/sub-1343_ses-2_task-rest_space-MNI152NLin2009cAsym_desc-preproc_bold.nii.gz\n",
      "/home/oad4/scratch60/kpeOutput/fmriprep/sub-1387/ses-2/func/sub-1387_ses-2_task-rest_space-MNI152NLin2009cAsym_desc-preproc_bold.nii.gz\n",
      "/home/oad4/scratch60/kpeForFCMA/sub-1307_ses-2_task-rest_space-MNI152NLin2009cAsym_desc-preproc_bold.nii.gz\n",
      "4\n",
      "/home/oad4/scratch60/kpeOutput/fmriprep/sub-008/ses-2/func/sub-008_ses-2_task-rest_space-MNI152NLin2009cAsym_desc-preproc_bold.nii.gz\n",
      "/home/oad4/scratch60/kpeOutput/fmriprep/sub-1253/ses-2/func/sub-1253_ses-2_task-rest_space-MNI152NLin2009cAsym_desc-preproc_bold.nii.gz\n",
      "/home/oad4/scratch60/kpeOutput/fmriprep/sub-1293/ses-2/func/sub-1293_ses-2_task-rest_space-MNI152NLin2009cAsym_desc-preproc_bold.nii.gz\n",
      "/home/oad4/scratch60/kpeOutput/fmriprep/sub-1307/ses-2/func/sub-1307_ses-2_task-rest_space-MNI152NLin2009cAsym_desc-preproc_bold.nii.gz\n",
      "/home/oad4/scratch60/kpeOutput/fmriprep/sub-1322/ses-2/func/sub-1322_ses-2_task-rest_space-MNI152NLin2009cAsym_desc-preproc_bold.nii.gz\n",
      "/home/oad4/scratch60/kpeOutput/fmriprep/sub-1339/ses-2/func/sub-1339_ses-2_task-rest_space-MNI152NLin2009cAsym_desc-preproc_bold.nii.gz\n",
      "/home/oad4/scratch60/kpeOutput/fmriprep/sub-1343/ses-2/func/sub-1343_ses-2_task-rest_space-MNI152NLin2009cAsym_desc-preproc_bold.nii.gz\n",
      "/home/oad4/scratch60/kpeOutput/fmriprep/sub-1387/ses-2/func/sub-1387_ses-2_task-rest_space-MNI152NLin2009cAsym_desc-preproc_bold.nii.gz\n",
      "/home/oad4/scratch60/kpeForFCMA/sub-1322_ses-2_task-rest_space-MNI152NLin2009cAsym_desc-preproc_bold.nii.gz\n",
      "5\n",
      "/home/oad4/scratch60/kpeOutput/fmriprep/sub-008/ses-2/func/sub-008_ses-2_task-rest_space-MNI152NLin2009cAsym_desc-preproc_bold.nii.gz\n",
      "/home/oad4/scratch60/kpeOutput/fmriprep/sub-1253/ses-2/func/sub-1253_ses-2_task-rest_space-MNI152NLin2009cAsym_desc-preproc_bold.nii.gz\n",
      "/home/oad4/scratch60/kpeOutput/fmriprep/sub-1293/ses-2/func/sub-1293_ses-2_task-rest_space-MNI152NLin2009cAsym_desc-preproc_bold.nii.gz\n",
      "/home/oad4/scratch60/kpeOutput/fmriprep/sub-1307/ses-2/func/sub-1307_ses-2_task-rest_space-MNI152NLin2009cAsym_desc-preproc_bold.nii.gz\n",
      "/home/oad4/scratch60/kpeOutput/fmriprep/sub-1322/ses-2/func/sub-1322_ses-2_task-rest_space-MNI152NLin2009cAsym_desc-preproc_bold.nii.gz\n",
      "/home/oad4/scratch60/kpeOutput/fmriprep/sub-1339/ses-2/func/sub-1339_ses-2_task-rest_space-MNI152NLin2009cAsym_desc-preproc_bold.nii.gz\n",
      "/home/oad4/scratch60/kpeOutput/fmriprep/sub-1343/ses-2/func/sub-1343_ses-2_task-rest_space-MNI152NLin2009cAsym_desc-preproc_bold.nii.gz\n",
      "/home/oad4/scratch60/kpeOutput/fmriprep/sub-1387/ses-2/func/sub-1387_ses-2_task-rest_space-MNI152NLin2009cAsym_desc-preproc_bold.nii.gz\n",
      "/home/oad4/scratch60/kpeForFCMA/sub-1339_ses-2_task-rest_space-MNI152NLin2009cAsym_desc-preproc_bold.nii.gz\n",
      "6\n",
      "/home/oad4/scratch60/kpeOutput/fmriprep/sub-008/ses-2/func/sub-008_ses-2_task-rest_space-MNI152NLin2009cAsym_desc-preproc_bold.nii.gz\n",
      "/home/oad4/scratch60/kpeOutput/fmriprep/sub-1253/ses-2/func/sub-1253_ses-2_task-rest_space-MNI152NLin2009cAsym_desc-preproc_bold.nii.gz\n",
      "/home/oad4/scratch60/kpeOutput/fmriprep/sub-1293/ses-2/func/sub-1293_ses-2_task-rest_space-MNI152NLin2009cAsym_desc-preproc_bold.nii.gz\n",
      "/home/oad4/scratch60/kpeOutput/fmriprep/sub-1307/ses-2/func/sub-1307_ses-2_task-rest_space-MNI152NLin2009cAsym_desc-preproc_bold.nii.gz\n",
      "/home/oad4/scratch60/kpeOutput/fmriprep/sub-1322/ses-2/func/sub-1322_ses-2_task-rest_space-MNI152NLin2009cAsym_desc-preproc_bold.nii.gz\n",
      "/home/oad4/scratch60/kpeOutput/fmriprep/sub-1339/ses-2/func/sub-1339_ses-2_task-rest_space-MNI152NLin2009cAsym_desc-preproc_bold.nii.gz\n",
      "/home/oad4/scratch60/kpeOutput/fmriprep/sub-1343/ses-2/func/sub-1343_ses-2_task-rest_space-MNI152NLin2009cAsym_desc-preproc_bold.nii.gz\n",
      "/home/oad4/scratch60/kpeOutput/fmriprep/sub-1387/ses-2/func/sub-1387_ses-2_task-rest_space-MNI152NLin2009cAsym_desc-preproc_bold.nii.gz\n",
      "/home/oad4/scratch60/kpeForFCMA/sub-1343_ses-2_task-rest_space-MNI152NLin2009cAsym_desc-preproc_bold.nii.gz\n",
      "7\n",
      "/home/oad4/scratch60/kpeOutput/fmriprep/sub-008/ses-2/func/sub-008_ses-2_task-rest_space-MNI152NLin2009cAsym_desc-preproc_bold.nii.gz\n",
      "/home/oad4/scratch60/kpeOutput/fmriprep/sub-1253/ses-2/func/sub-1253_ses-2_task-rest_space-MNI152NLin2009cAsym_desc-preproc_bold.nii.gz\n",
      "/home/oad4/scratch60/kpeOutput/fmriprep/sub-1293/ses-2/func/sub-1293_ses-2_task-rest_space-MNI152NLin2009cAsym_desc-preproc_bold.nii.gz\n",
      "/home/oad4/scratch60/kpeOutput/fmriprep/sub-1307/ses-2/func/sub-1307_ses-2_task-rest_space-MNI152NLin2009cAsym_desc-preproc_bold.nii.gz\n",
      "/home/oad4/scratch60/kpeOutput/fmriprep/sub-1322/ses-2/func/sub-1322_ses-2_task-rest_space-MNI152NLin2009cAsym_desc-preproc_bold.nii.gz\n",
      "/home/oad4/scratch60/kpeOutput/fmriprep/sub-1339/ses-2/func/sub-1339_ses-2_task-rest_space-MNI152NLin2009cAsym_desc-preproc_bold.nii.gz\n",
      "/home/oad4/scratch60/kpeOutput/fmriprep/sub-1343/ses-2/func/sub-1343_ses-2_task-rest_space-MNI152NLin2009cAsym_desc-preproc_bold.nii.gz\n",
      "/home/oad4/scratch60/kpeOutput/fmriprep/sub-1387/ses-2/func/sub-1387_ses-2_task-rest_space-MNI152NLin2009cAsym_desc-preproc_bold.nii.gz\n",
      "/home/oad4/scratch60/kpeForFCMA/sub-1351_ses-2_task-rest_space-MNI152NLin2009cAsym_desc-preproc_bold.nii.gz\n",
      "8\n",
      "/home/oad4/scratch60/kpeOutput/fmriprep/sub-008/ses-2/func/sub-008_ses-2_task-rest_space-MNI152NLin2009cAsym_desc-preproc_bold.nii.gz\n",
      "/home/oad4/scratch60/kpeOutput/fmriprep/sub-1253/ses-2/func/sub-1253_ses-2_task-rest_space-MNI152NLin2009cAsym_desc-preproc_bold.nii.gz\n",
      "/home/oad4/scratch60/kpeOutput/fmriprep/sub-1293/ses-2/func/sub-1293_ses-2_task-rest_space-MNI152NLin2009cAsym_desc-preproc_bold.nii.gz\n",
      "/home/oad4/scratch60/kpeOutput/fmriprep/sub-1307/ses-2/func/sub-1307_ses-2_task-rest_space-MNI152NLin2009cAsym_desc-preproc_bold.nii.gz\n",
      "/home/oad4/scratch60/kpeOutput/fmriprep/sub-1322/ses-2/func/sub-1322_ses-2_task-rest_space-MNI152NLin2009cAsym_desc-preproc_bold.nii.gz\n",
      "/home/oad4/scratch60/kpeOutput/fmriprep/sub-1339/ses-2/func/sub-1339_ses-2_task-rest_space-MNI152NLin2009cAsym_desc-preproc_bold.nii.gz\n",
      "/home/oad4/scratch60/kpeOutput/fmriprep/sub-1343/ses-2/func/sub-1343_ses-2_task-rest_space-MNI152NLin2009cAsym_desc-preproc_bold.nii.gz\n",
      "/home/oad4/scratch60/kpeOutput/fmriprep/sub-1387/ses-2/func/sub-1387_ses-2_task-rest_space-MNI152NLin2009cAsym_desc-preproc_bold.nii.gz\n",
      "/home/oad4/scratch60/kpeForFCMA/sub-1364_ses-2_task-rest_space-MNI152NLin2009cAsym_desc-preproc_bold.nii.gz\n",
      "9\n",
      "/home/oad4/scratch60/kpeOutput/fmriprep/sub-008/ses-2/func/sub-008_ses-2_task-rest_space-MNI152NLin2009cAsym_desc-preproc_bold.nii.gz\n",
      "/home/oad4/scratch60/kpeOutput/fmriprep/sub-1253/ses-2/func/sub-1253_ses-2_task-rest_space-MNI152NLin2009cAsym_desc-preproc_bold.nii.gz\n",
      "/home/oad4/scratch60/kpeOutput/fmriprep/sub-1293/ses-2/func/sub-1293_ses-2_task-rest_space-MNI152NLin2009cAsym_desc-preproc_bold.nii.gz\n",
      "/home/oad4/scratch60/kpeOutput/fmriprep/sub-1307/ses-2/func/sub-1307_ses-2_task-rest_space-MNI152NLin2009cAsym_desc-preproc_bold.nii.gz\n",
      "/home/oad4/scratch60/kpeOutput/fmriprep/sub-1322/ses-2/func/sub-1322_ses-2_task-rest_space-MNI152NLin2009cAsym_desc-preproc_bold.nii.gz\n",
      "/home/oad4/scratch60/kpeOutput/fmriprep/sub-1339/ses-2/func/sub-1339_ses-2_task-rest_space-MNI152NLin2009cAsym_desc-preproc_bold.nii.gz\n",
      "/home/oad4/scratch60/kpeOutput/fmriprep/sub-1343/ses-2/func/sub-1343_ses-2_task-rest_space-MNI152NLin2009cAsym_desc-preproc_bold.nii.gz\n",
      "/home/oad4/scratch60/kpeOutput/fmriprep/sub-1387/ses-2/func/sub-1387_ses-2_task-rest_space-MNI152NLin2009cAsym_desc-preproc_bold.nii.gz\n",
      "/home/oad4/scratch60/kpeForFCMA/sub-1369_ses-2_task-rest_space-MNI152NLin2009cAsym_desc-preproc_bold.nii.gz\n",
      "10\n",
      "/home/oad4/scratch60/kpeOutput/fmriprep/sub-008/ses-2/func/sub-008_ses-2_task-rest_space-MNI152NLin2009cAsym_desc-preproc_bold.nii.gz\n",
      "/home/oad4/scratch60/kpeOutput/fmriprep/sub-1253/ses-2/func/sub-1253_ses-2_task-rest_space-MNI152NLin2009cAsym_desc-preproc_bold.nii.gz\n",
      "/home/oad4/scratch60/kpeOutput/fmriprep/sub-1293/ses-2/func/sub-1293_ses-2_task-rest_space-MNI152NLin2009cAsym_desc-preproc_bold.nii.gz\n",
      "/home/oad4/scratch60/kpeOutput/fmriprep/sub-1307/ses-2/func/sub-1307_ses-2_task-rest_space-MNI152NLin2009cAsym_desc-preproc_bold.nii.gz\n",
      "/home/oad4/scratch60/kpeOutput/fmriprep/sub-1322/ses-2/func/sub-1322_ses-2_task-rest_space-MNI152NLin2009cAsym_desc-preproc_bold.nii.gz\n",
      "/home/oad4/scratch60/kpeOutput/fmriprep/sub-1339/ses-2/func/sub-1339_ses-2_task-rest_space-MNI152NLin2009cAsym_desc-preproc_bold.nii.gz\n",
      "/home/oad4/scratch60/kpeOutput/fmriprep/sub-1343/ses-2/func/sub-1343_ses-2_task-rest_space-MNI152NLin2009cAsym_desc-preproc_bold.nii.gz\n",
      "/home/oad4/scratch60/kpeOutput/fmriprep/sub-1387/ses-2/func/sub-1387_ses-2_task-rest_space-MNI152NLin2009cAsym_desc-preproc_bold.nii.gz\n",
      "/home/oad4/scratch60/kpeForFCMA/sub-1387_ses-2_task-rest_space-MNI152NLin2009cAsym_desc-preproc_bold.nii.gz\n",
      "11\n",
      "/home/oad4/scratch60/kpeOutput/fmriprep/sub-008/ses-2/func/sub-008_ses-2_task-rest_space-MNI152NLin2009cAsym_desc-preproc_bold.nii.gz\n",
      "/home/oad4/scratch60/kpeOutput/fmriprep/sub-1253/ses-2/func/sub-1253_ses-2_task-rest_space-MNI152NLin2009cAsym_desc-preproc_bold.nii.gz\n",
      "/home/oad4/scratch60/kpeOutput/fmriprep/sub-1293/ses-2/func/sub-1293_ses-2_task-rest_space-MNI152NLin2009cAsym_desc-preproc_bold.nii.gz\n",
      "/home/oad4/scratch60/kpeOutput/fmriprep/sub-1307/ses-2/func/sub-1307_ses-2_task-rest_space-MNI152NLin2009cAsym_desc-preproc_bold.nii.gz\n",
      "/home/oad4/scratch60/kpeOutput/fmriprep/sub-1322/ses-2/func/sub-1322_ses-2_task-rest_space-MNI152NLin2009cAsym_desc-preproc_bold.nii.gz\n",
      "/home/oad4/scratch60/kpeOutput/fmriprep/sub-1339/ses-2/func/sub-1339_ses-2_task-rest_space-MNI152NLin2009cAsym_desc-preproc_bold.nii.gz\n",
      "/home/oad4/scratch60/kpeOutput/fmriprep/sub-1343/ses-2/func/sub-1343_ses-2_task-rest_space-MNI152NLin2009cAsym_desc-preproc_bold.nii.gz\n",
      "/home/oad4/scratch60/kpeOutput/fmriprep/sub-1387/ses-2/func/sub-1387_ses-2_task-rest_space-MNI152NLin2009cAsym_desc-preproc_bold.nii.gz\n",
      "/home/oad4/scratch60/kpeForFCMA/sub-1390_ses-2_task-rest_space-MNI152NLin2009cAsym_desc-preproc_bold.nii.gz\n",
      "12\n",
      "/home/oad4/scratch60/kpeOutput/fmriprep/sub-008/ses-2/func/sub-008_ses-2_task-rest_space-MNI152NLin2009cAsym_desc-preproc_bold.nii.gz\n",
      "/home/oad4/scratch60/kpeOutput/fmriprep/sub-1253/ses-2/func/sub-1253_ses-2_task-rest_space-MNI152NLin2009cAsym_desc-preproc_bold.nii.gz\n",
      "/home/oad4/scratch60/kpeOutput/fmriprep/sub-1293/ses-2/func/sub-1293_ses-2_task-rest_space-MNI152NLin2009cAsym_desc-preproc_bold.nii.gz\n",
      "/home/oad4/scratch60/kpeOutput/fmriprep/sub-1307/ses-2/func/sub-1307_ses-2_task-rest_space-MNI152NLin2009cAsym_desc-preproc_bold.nii.gz\n",
      "/home/oad4/scratch60/kpeOutput/fmriprep/sub-1322/ses-2/func/sub-1322_ses-2_task-rest_space-MNI152NLin2009cAsym_desc-preproc_bold.nii.gz\n",
      "/home/oad4/scratch60/kpeOutput/fmriprep/sub-1339/ses-2/func/sub-1339_ses-2_task-rest_space-MNI152NLin2009cAsym_desc-preproc_bold.nii.gz\n",
      "/home/oad4/scratch60/kpeOutput/fmriprep/sub-1343/ses-2/func/sub-1343_ses-2_task-rest_space-MNI152NLin2009cAsym_desc-preproc_bold.nii.gz\n",
      "/home/oad4/scratch60/kpeOutput/fmriprep/sub-1387/ses-2/func/sub-1387_ses-2_task-rest_space-MNI152NLin2009cAsym_desc-preproc_bold.nii.gz\n",
      "/home/oad4/scratch60/kpeForFCMA/sub-1403_ses-2_task-rest_space-MNI152NLin2009cAsym_desc-preproc_bold.nii.gz\n",
      "13\n",
      "/home/oad4/scratch60/kpeOutput/fmriprep/sub-008/ses-2/func/sub-008_ses-2_task-rest_space-MNI152NLin2009cAsym_desc-preproc_bold.nii.gz\n",
      "/home/oad4/scratch60/kpeOutput/fmriprep/sub-1253/ses-2/func/sub-1253_ses-2_task-rest_space-MNI152NLin2009cAsym_desc-preproc_bold.nii.gz\n",
      "/home/oad4/scratch60/kpeOutput/fmriprep/sub-1293/ses-2/func/sub-1293_ses-2_task-rest_space-MNI152NLin2009cAsym_desc-preproc_bold.nii.gz\n",
      "/home/oad4/scratch60/kpeOutput/fmriprep/sub-1307/ses-2/func/sub-1307_ses-2_task-rest_space-MNI152NLin2009cAsym_desc-preproc_bold.nii.gz\n",
      "/home/oad4/scratch60/kpeOutput/fmriprep/sub-1322/ses-2/func/sub-1322_ses-2_task-rest_space-MNI152NLin2009cAsym_desc-preproc_bold.nii.gz\n",
      "/home/oad4/scratch60/kpeOutput/fmriprep/sub-1339/ses-2/func/sub-1339_ses-2_task-rest_space-MNI152NLin2009cAsym_desc-preproc_bold.nii.gz\n",
      "/home/oad4/scratch60/kpeOutput/fmriprep/sub-1343/ses-2/func/sub-1343_ses-2_task-rest_space-MNI152NLin2009cAsym_desc-preproc_bold.nii.gz\n",
      "/home/oad4/scratch60/kpeOutput/fmriprep/sub-1387/ses-2/func/sub-1387_ses-2_task-rest_space-MNI152NLin2009cAsym_desc-preproc_bold.nii.gz\n"
     ]
    }
   ],
   "source": [
    "# building epoc file according to files order\n",
    "finalEpoc = np.zeros((15,2,1,580)) # see above for explanation on this array\n",
    "for x,i in enumerate(filelist):\n",
    "    print (i)\n",
    "    print (x)\n",
    "    for n in ketFiles_2_func:\n",
    "        print (n)\n",
    "        if i.split('sub')[1]==n.split('sub')[2]:\n",
    "            finalEpoc[x,0,:,:] = 1\n",
    "    for z in midFiles_2_func:\n",
    "        if i.split('sub')[1]==z.split('sub')[2]:\n",
    "            finalEpoc[x,1,:,:] = 1\n"
   ]
  },
  {
   "cell_type": "code",
   "execution_count": 43,
   "metadata": {},
   "outputs": [
    {
     "data": {
      "text/plain": [
       "<matplotlib.collections.PathCollection at 0x2b76bc04d518>"
      ]
     },
     "execution_count": 43,
     "metadata": {},
     "output_type": "execute_result"
    },
    {
     "data": {
      "image/png": "[encoded data removed]",
      "text/plain": [
       "<Figure size 432x288 with 1 Axes>"
      ]
     },
     "metadata": {
      "needs_background": "light"
     },
     "output_type": "display_data"
    }
   ],
   "source": [
    "# lets make sure its ok\n",
    "# we are ploting acroos 580 frames for each functional file. \n",
    "import matplotlib.pyplot as plt\n",
    "plt.scatter(range(580), finalEpoc[0,1,0,:])"
   ]
  },
  {
   "cell_type": "code",
   "execution_count": 44,
   "metadata": {},
   "outputs": [
    {
     "name": "stdout",
     "output_type": "stream",
     "text": [
      "/gpfs/ysm/scratch60/oad4/kpeForFCMA\r\n"
     ]
    }
   ],
   "source": [
    "!pwd"
   ]
  },
  {
   "cell_type": "code",
   "execution_count": 46,
   "metadata": {},
   "outputs": [],
   "source": [
    "# now we can save the epoc file\n",
    "from brainiak import io\n",
    "np.save(\"epochKPE.npy\", finalEpoc)\n",
    "#b= io.load_labels(\"epochKPE.npy\")"
   ]
  },
  {
   "cell_type": "code",
   "execution_count": null,
   "metadata": {},
   "outputs": [],
   "source": []
  }
 ],
 "metadata": {
  "kernelspec": {
   "display_name": "Python 3",
   "language": "python",
   "name": "python3"
  },
  "language_info": {
   "codemirror_mode": {
    "name": "ipython",
    "version": 3
   },
   "file_extension": ".py",
   "mimetype": "text/x-python",
   "name": "python",
   "nbconvert_exporter": "python",
   "pygments_lexer": "ipython3",
   "version": "3.6.8"
  }
 },
 "nbformat": 4,
 "nbformat_minor": 2
}
