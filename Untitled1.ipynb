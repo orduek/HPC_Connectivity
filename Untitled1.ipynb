{
 "cells": [
  {
   "cell_type": "code",
   "execution_count": 6,
   "metadata": {},
   "outputs": [],
   "source": [
    "import pandas as pd\n",
    "import numpy as np\n",
    "\n",
    "shape = (10)\n",
    "\n",
    "data = np.random.normal(size=shape)"
   ]
  },
  {
   "cell_type": "code",
   "execution_count": 7,
   "metadata": {},
   "outputs": [
    {
     "data": {
      "text/plain": [
       "array([-1.90532756,  0.0691458 ,  0.76743589,  0.01110668, -0.87129965,\n",
       "        1.59293294, -0.36944815, -0.13928741,  0.48404087,  1.05149768])"
      ]
     },
     "execution_count": 7,
     "metadata": {},
     "output_type": "execute_result"
    }
   ],
   "source": [
    "data"
   ]
  },
  {
   "cell_type": "code",
   "execution_count": 9,
   "metadata": {},
   "outputs": [
    {
     "name": "stdout",
     "output_type": "stream",
     "text": [
      "-1.905327556293292\n",
      "-0.8712996524022153\n",
      "-0.36944815213503696\n",
      "-0.13928741430076255\n",
      "0.011106676013498271\n",
      "0.06914579723905609\n",
      "0.48404086776475125\n",
      "0.767435888530187\n",
      "1.0514976837881285\n",
      "1.5929329447267653\n"
     ]
    }
   ],
   "source": [
    "for i in np.argsort(data):\n",
    "    print(data[i])"
   ]
  },
  {
   "cell_type": "markdown",
   "metadata": {},
   "source": [
    "Going to build the following script:\n",
    "1. Generate correlation matrix for each subject for each scan (first and second)\n",
    "2. check changes in correlation between two scan - look for highest\n",
    "3. see which regions for each subject and then for all\n",
    "4. check corre"
   ]
  }
 ],
 "metadata": {
  "kernelspec": {
   "display_name": "Python 3",
   "language": "python",
   "name": "python3"
  },
  "language_info": {
   "codemirror_mode": {
    "name": "ipython",
    "version": 3
   },
   "file_extension": ".py",
   "mimetype": "text/x-python",
   "name": "python",
   "nbconvert_exporter": "python",
   "pygments_lexer": "ipython3",
   "version": "3.6.8"
  }
 },
 "nbformat": 4,
 "nbformat_minor": 2
}
