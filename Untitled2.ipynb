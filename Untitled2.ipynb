{
 "cells": [
  {
   "cell_type": "code",
   "execution_count": 2,
   "metadata": {},
   "outputs": [],
   "source": [
    "# testing rapid art algorithm to check artifact detection\n",
    "import nipype.algorithms.rapidart as ra  # artifact detection"
   ]
  },
  {
   "cell_type": "code",
   "execution_count": 34,
   "metadata": {},
   "outputs": [],
   "source": [
    "functional_file = '/home/oad4/scratch60/kpeOutput/fmriprep/sub-1403/ses-1/func/sub-1403_ses-1_task-rest_space-MNI152NLin2009cAsym_desc-preproc_bold.nii.gz'\n",
    "parameters_file = '/home/oad4/scratch60/kpeOutput/fmriprep/sub-1403/ses-1/func/sub-1403_ses-1_task-rest_desc-confounds_regressors.tsv'"
   ]
  },
  {
   "cell_type": "code",
   "execution_count": 35,
   "metadata": {},
   "outputs": [],
   "source": [
    "# methods\n",
    "def removeVars (confoundFile):\n",
    "    # this method takes the csv regressors file (from fmriPrep) and chooses a few to confound. You can change those few\n",
    "    import pandas as pd\n",
    "    confound = pd.read_csv(confoundFile,sep=\"\\t\", na_values=\"n/a\")\n",
    "    finalConf = confound[[ 'trans_x', 'trans_y', 'trans_z', 'rot_x', 'rot_y', 'rot_z']] # can add 'global_signal' also\n",
    "     # change NaN of FD to zero\n",
    "    \n",
    "    return finalConf"
   ]
  },
  {
   "cell_type": "code",
   "execution_count": 36,
   "metadata": {},
   "outputs": [],
   "source": [
    "# save parameters as file\n",
    "import pandas as pd\n",
    "import numpy as np\n",
    "df = removeVars(parameters_file)\n",
    "df = np.array(df)\n",
    "np.savetxt('parameter_file.csv', df)"
   ]
  },
  {
   "cell_type": "code",
   "execution_count": 39,
   "metadata": {},
   "outputs": [],
   "source": [
    "ad = ra.ArtifactDetect()\n",
    "ad.inputs.realigned_files = functional_file\n",
    "ad.inputs.realignment_parameters = 'parameter_file.csv'\n",
    "ad.inputs.parameter_source = 'FSL'\n",
    "ad.inputs.norm_threshold = 1\n",
    "ad.inputs.use_differences = [True, False]\n",
    "ad.inputs.zintensity_threshold = 3\n",
    "ad.inputs.mask_type = 'file'\n",
    "ad.inputs.mask_file = '/home/oad4/scratch60/kpeOutput/fmriprep/sub-008/ses-1/func/sub-008_ses-1_task-INFa_space-MNI152NLin2009cAsym_desc-brain_mask.nii.gz'\n",
    "\n"
   ]
  },
  {
   "cell_type": "code",
   "execution_count": 40,
   "metadata": {},
   "outputs": [
    {
     "data": {
      "text/plain": [
       "<nipype.interfaces.base.support.InterfaceResult at 0x2ab31a0ebeb8>"
      ]
     },
     "execution_count": 40,
     "metadata": {},
     "output_type": "execute_result"
    }
   ],
   "source": [
    "ad.run() "
   ]
  },
  {
   "cell_type": "code",
   "execution_count": 28,
   "metadata": {},
   "outputs": [
    {
     "name": "stdout",
     "output_type": "stream",
     "text": [
      "/gpfs/ysm/home/oad4/Documents/nilearn_analyses\r\n"
     ]
    }
   ],
   "source": [
    "!pwd"
   ]
  }
 ],
 "metadata": {
  "kernelspec": {
   "display_name": "Python 3",
   "language": "python",
   "name": "python3"
  },
  "language_info": {
   "codemirror_mode": {
    "name": "ipython",
    "version": 3
   },
   "file_extension": ".py",
   "mimetype": "text/x-python",
   "name": "python",
   "nbconvert_exporter": "python",
   "pygments_lexer": "ipython3",
   "version": "3.6.8"
  }
 },
 "nbformat": 4,
 "nbformat_minor": 2
}
