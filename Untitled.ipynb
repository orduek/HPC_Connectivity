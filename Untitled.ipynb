{
 "cells": [
  {
   "cell_type": "code",
   "execution_count": null,
   "metadata": {},
   "outputs": [],
   "source": [
    "from brainiak.fcma.voxelselector import VoxelSelector\n",
    "from brainiak.fcma.preprocessing import prepare_fcma_data\n",
    "from brainiak.fcma.preprocessing import RandomType"
   ]
  },
  {
   "cell_type": "code",
   "execution_count": 1,
   "metadata": {},
   "outputs": [
    {
     "name": "stdout",
     "output_type": "stream",
     "text": [
      "Hellow world\n"
     ]
    }
   ],
   "source": [
    "print (\"Hellow world\")"
   ]
  },
  {
   "cell_type": "code",
   "execution_count": null,
   "metadata": {},
   "outputs": [],
   "source": [
    "from brainiak.fcma.voxelselector import VoxelSelector"
   ]
  },
  {
   "cell_type": "code",
   "execution_count": null,
   "metadata": {},
   "outputs": [],
   "source": [
    "from brainiak.fcma.voxelselector import VoxelSelector\n",
    "from brainiak.fcma.preprocessing import prepare_fcma_data\n",
    "from brainiak.fcma.preprocessing import RandomType\n",
    "from brainiak import io\n",
    "from sklearn.svm import SVC\n",
    "import sys\n",
    "from mpi4py import MPI\n",
    "import logging\n",
    "import numpy as np\n",
    "import nibabel as nib\n",
    "import os"
   ]
  }
 ],
 "metadata": {
  "kernelspec": {
   "display_name": "Python 3",
   "language": "python",
   "name": "python3"
  },
  "language_info": {
   "codemirror_mode": {
    "name": "ipython",
    "version": 3
   },
   "file_extension": ".py",
   "mimetype": "text/x-python",
   "name": "python",
   "nbconvert_exporter": "python",
   "pygments_lexer": "ipython3",
   "version": "3.6.8"
  }
 },
 "nbformat": 4,
 "nbformat_minor": 2
}
